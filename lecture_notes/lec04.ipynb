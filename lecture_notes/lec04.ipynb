{
 "cells": [
  {
   "cell_type": "markdown",
   "metadata": {},
   "source": [
    "# 6.0002 Lecture 4: Stochastic Thinking"
   ]
  },
  {
   "cell_type": "markdown",
   "metadata": {},
   "source": [
    "**Speaker:** Prof. John Guttag"
   ]
  },
  {
   "cell_type": "markdown",
   "metadata": {},
   "source": [
    "## The World is hard to understand\n",
    "- uncertainty is uncomfortable\n",
    "- but certainty is usually justified"
   ]
  },
  {
   "cell_type": "markdown",
   "metadata": {},
   "source": [
    "## Newtonian Mechanics\n",
    "- every effect has a cause\n",
    "    - e.g: apple falls from a tree because of gravity\n",
    "- the world can be understood causally"
   ]
  },
  {
   "cell_type": "markdown",
   "metadata": {},
   "source": [
    "## Copenhagen Doctrine\n",
    "- Copenhagen Doctrine (Bohr and Heisenberg) of **causal nondeterminism**\n",
    "    - at its most fundamental level, the behavior of the physical world cannot be predicted\n",
    "    - fine to make statements of the form \"x is highly likely to occus,\" but NOT of the form \"x is certain to occur.\"\n",
    "- Einstein and Schrödinger objected\n",
    "    - \"God does not play dice.\" -- Albert Einstein"
   ]
  },
  {
   "cell_type": "markdown",
   "metadata": {},
   "source": [
    "## Does it really matter?\n",
    "- Take 2 coins, and flip them\n",
    "- did the flips yield\n",
    "    - 2 heads?\n",
    "    - 2 tails?\n",
    "    - 1 head and 1 tail?"
   ]
  },
  {
   "cell_type": "markdown",
   "metadata": {},
   "source": [
    "## The Moral\n",
    "- the world may or may not be inherently unpredictable\n",
    "- but our lack of knowledge does not allow us to make accurate predictions\n",
    "- therefore we might as well treat the world as inherently unpredictable\n",
    "- **predictive nondeterminism**"
   ]
  },
  {
   "cell_type": "markdown",
   "metadata": {},
   "source": [
    "## Stochastic Processes\n",
    "- an ongoing process where the next state might depend on both the previous states and **some random element**"
   ]
  },
  {
   "cell_type": "code",
   "execution_count": 1,
   "metadata": {},
   "outputs": [],
   "source": [
    "def rollDie():\n",
    "    \"\"\"returns an int between 1 and 6\"\"\""
   ]
  },
  {
   "cell_type": "code",
   "execution_count": 2,
   "metadata": {},
   "outputs": [],
   "source": [
    "# specify the requirement of a stochastic implement\n",
    "def rollDie():\n",
    "    \"\"\"returns a randomly chosen int between 1 and 6\"\"\""
   ]
  },
  {
   "cell_type": "markdown",
   "metadata": {},
   "source": [
    "## Implementing a random process"
   ]
  },
  {
   "cell_type": "code",
   "execution_count": 5,
   "metadata": {},
   "outputs": [],
   "source": [
    "import random\n",
    "\n",
    "def rollDie():\n",
    "    \"\"\"returns a random int between 1 and 6\"\"\"\n",
    "    return random.choice([1, 2, 3, 4, 5, 6]) # uniform distribution\n",
    "\n",
    "def testRoll(n=10):\n",
    "    result=''\n",
    "    for i in range(n):\n",
    "        result = result + str(rollDie())\n",
    "    print(result)"
   ]
  },
  {
   "cell_type": "code",
   "execution_count": 6,
   "metadata": {},
   "outputs": [
    {
     "name": "stdout",
     "output_type": "stream",
     "text": [
      "1551353626\n"
     ]
    }
   ],
   "source": [
    "testRoll()"
   ]
  },
  {
   "cell_type": "markdown",
   "metadata": {},
   "source": [
    "## Probability of Various Results\n",
    "- consider testRoll(5)\n",
    "- how probable is the output 11111?"
   ]
  },
  {
   "cell_type": "markdown",
   "metadata": {},
   "source": [
    "## Probability is about counting\n",
    "- count the number of possible events\n",
    "- count the number of events that have the property of interest\n",
    "- divide latter by former\n",
    "- probability of 11111?\n",
    "    - 11111, 11112, 11113, ..., 11121, 11122, ..., 66666\n",
    "    - $\\frac{1}{6^5} \\sim 0.0001286$"
   ]
  },
  {
   "cell_type": "markdown",
   "metadata": {},
   "source": [
    "## Three basic facts about probability\n",
    "- probabilities are always in the range **0 to 1**.\n",
    "    - 0 if impossible\n",
    "    - 1 if guaranteed\n",
    "- if the probability of an event occurring is $p$, the probability of it NOT occurring must be $1-p$\n",
    "- when events are **independent** of each other, the probability of all of the events occurring is equal to a **product** of the probabilities of each of the events ocurring"
   ]
  },
  {
   "cell_type": "markdown",
   "metadata": {},
   "source": [
    "## Independence\n",
    "- two events are **independent** if the outcome of one event has no influence on the outcome of the other\n",
    "- independence should not be taken for granted"
   ]
  },
  {
   "cell_type": "markdown",
   "metadata": {},
   "source": [
    "## Will one of the Patriots and Broncos lose?\n",
    "- Patriots have winning percentage of 7/8, Broncos of 6/8\n",
    "- probability of both winning next Sunday is 7/8 * 6/8 = 42/64\n",
    "- probability of at least one losing is 1 - 42/64 = 22/64\n",
    "- what about Sunday, December 18?\n",
    "    - then the Patriots are playing the Broncos\n",
    "    - outcomes are not independent\n",
    "    - probability of one of them losing is much closer to 1 than to 22/64"
   ]
  },
  {
   "cell_type": "markdown",
   "metadata": {},
   "source": [
    "## A simulation of die rolling"
   ]
  },
  {
   "cell_type": "code",
   "execution_count": 25,
   "metadata": {},
   "outputs": [
    {
     "name": "stdout",
     "output_type": "stream",
     "text": [
      "Actual probability of 11111 = 0.0001286\n",
      "Estimated probability of 11111 = 0.0\n"
     ]
    }
   ],
   "source": [
    "def runSim(goal, numTrials, txt):\n",
    "    total = 0\n",
    "    for i in range(numTrials):\n",
    "        result = ''\n",
    "        for j in range(len(goal)):\n",
    "            result += str(rollDie())\n",
    "        if result == goal:\n",
    "            total += 1\n",
    "    print('Actual probability of', txt, '=', round(1/(6**len(goal)), 8))\n",
    "    estProbability = round(total/numTrials, 8)\n",
    "    print('Estimated probability of', txt, '=', round(estProbability, 8))\n",
    "        \n",
    "runSim('11111', 1000, '11111')"
   ]
  },
  {
   "cell_type": "markdown",
   "metadata": {},
   "source": [
    "## Output of Simulation\n",
    "- actual probability: 0.0001286\n",
    "- estimated probability: 0.0\n",
    "- how did we **know** that this is what would get printed?\n",
    "    - why is estimated probability 0.0?\n",
    "- why did simulation give me the **wrong** answer\n",
    "    - truth: nothing that can be done on a computer is *actually* random\n",
    "    - instead, computers generate numbers called pseudorandom\n",
    "        - use an algorithm, started with a seed gotten by reading clock of computer\n",
    "        - set the seed: random.seed(0)\n",
    "- let's try 1,000,000 trials\n",
    "    - makes sample probability more accurate, since the event is quite rare"
   ]
  },
  {
   "cell_type": "code",
   "execution_count": 27,
   "metadata": {},
   "outputs": [
    {
     "name": "stdout",
     "output_type": "stream",
     "text": [
      "Actual probability of 11111 = 0.0001286\n",
      "Estimated probability of 11111 = 0.000128\n"
     ]
    }
   ],
   "source": [
    "random.seed(0)\n",
    "\n",
    "runSim('11111', 10**6, '11111')"
   ]
  },
  {
   "cell_type": "markdown",
   "metadata": {},
   "source": [
    "## Morals\n",
    "- Moral 1: It takes a lot of trials to get a good estimate of the frequency of occurrence of a rare event. We'll talk lots more in later lectures about how to know when we have enough trials\n",
    "- Moral 2: One should not confuse the **sample probability** with the actual probability\n",
    "- Moral 3: There was really no need to do this by simulation, since there is a perfectly good closed form answer. We will see many examples where this is not true\n",
    "- But simulations are often useful"
   ]
  },
  {
   "cell_type": "markdown",
   "metadata": {},
   "source": [
    "## The Birthday Problem\n",
    "- what's the probability of at least two people in a group having the same birthday\n",
    "- if there are 367 people in the group?\n",
    "    - 1, by pigeonhole principle (more people than days in a year)\n",
    "- what about smaller numbers?\n",
    "- if we assume that each birthdate is equally likely,\n",
    "    - probability of no 2 people sharing a birthday: $1-\\frac{366!}{366^N(366-N)!}$\n",
    "- without this assumption, VERY complicated"
   ]
  },
  {
   "cell_type": "markdown",
   "metadata": {},
   "source": [
    "## Approximating using a simulation"
   ]
  },
  {
   "cell_type": "code",
   "execution_count": 31,
   "metadata": {},
   "outputs": [],
   "source": [
    "# function to return True if any birthday has more than numSame people sharing it\n",
    "def sameDate(numPeople, numSame):\n",
    "    possibleDates = range(366)\n",
    "    birthdays = [0]*366\n",
    "    for p in range(numPeople):\n",
    "        birthDate = random.choice(possibleDates)\n",
    "        birthdays[birthDate] += 1\n",
    "    return max(birthdays) >= numSame\n",
    "\n",
    "# function to simulate number of birthdays being shared in a group\n",
    "def birthdayProb(numPeople, numSame, numTrials):\n",
    "    numHits = 0\n",
    "    for t in range(numTrials):\n",
    "        if sameDate(numPeople, numSame):\n",
    "            numHits += 1\n",
    "    return numHits/numTrials"
   ]
  },
  {
   "cell_type": "code",
   "execution_count": 33,
   "metadata": {},
   "outputs": [
    {
     "name": "stdout",
     "output_type": "stream",
     "text": [
      "For 10 people, est. prob of a shared birthday is 0.1125\n",
      "Actual prob. for 10 people is 0.1166454118039999\n",
      "For 20 people, est. prob of a shared birthday is 0.4121\n",
      "Actual prob. for 20 people is 0.4105696370550831\n",
      "For 40 people, est. prob of a shared birthday is 0.8916\n",
      "Actual prob. for 40 people is 0.89054476188945\n",
      "For 100 people, est. prob of a shared birthday is 1.0\n",
      "Actual prob. for 100 people is 0.9999996784357714\n"
     ]
    }
   ],
   "source": [
    "import math\n",
    "\n",
    "# see how many birthdays shared for different group sizes\n",
    "for numPeople in [10, 20, 40, 100]:\n",
    "    print('For', numPeople, 'people, est. prob of a shared birthday is', \n",
    "         birthdayProb(numPeople, 2, 10000))\n",
    "    numerator = math.factorial(366)\n",
    "    denom = (366**numPeople)*math.factorial(366 - numPeople)\n",
    "    print('Actual prob. for', numPeople, 'people is', 1 - numerator/denom)"
   ]
  },
  {
   "cell_type": "markdown",
   "metadata": {},
   "source": [
    "- suppose we want the probability of 3 people sharing..."
   ]
  },
  {
   "cell_type": "markdown",
   "metadata": {},
   "source": [
    "## Why 3 is much harder mathematically\n",
    "- for 2 people, the complementary problem is \"all birthdays distinct\"\n",
    "- for 3 people, the complementary problem is a complicated disjunct:\n",
    "    - all birthdays distinct, or\n",
    "    - one pair and rest distinct, or\n",
    "    - two pairs and rest distinct, or\n",
    "    - ...\n",
    "- but changing the simulation is dead easy!"
   ]
  },
  {
   "cell_type": "code",
   "execution_count": 34,
   "metadata": {},
   "outputs": [
    {
     "name": "stdout",
     "output_type": "stream",
     "text": [
      "For 10 people, est. prob of a shared birthday is 0.0009\n",
      "Actual prob. for 10 people is 0.1166454118039999\n",
      "For 20 people, est. prob of a shared birthday is 0.0065\n",
      "Actual prob. for 20 people is 0.4105696370550831\n",
      "For 40 people, est. prob of a shared birthday is 0.0649\n",
      "Actual prob. for 40 people is 0.89054476188945\n",
      "For 100 people, est. prob of a shared birthday is 0.6504\n",
      "Actual prob. for 100 people is 0.9999996784357714\n"
     ]
    }
   ],
   "source": [
    "# change simulation for case where 3 people share a birthday\n",
    "# leave incorrect mathematical calculation for 2 people\n",
    "for numPeople in [10, 20, 40, 100]:\n",
    "    print('For', numPeople, 'people, est. prob of a shared birthday is', \n",
    "         birthdayProb(numPeople, 3, 10000))\n",
    "    numerator = math.factorial(366)\n",
    "    denom = (366**numPeople)*math.factorial(366 - numPeople)\n",
    "    print('Actual prob. for', numPeople, 'people is', 1 - numerator/denom) # (incorrect)"
   ]
  },
  {
   "cell_type": "markdown",
   "metadata": {},
   "source": [
    "## But all dates are not equally likely\n",
    "- in reality, this assumption does not quite match the data\n",
    "- check out this heat map: \n",
    "    - https://www.vizwiz.com/2012/05/how-common-is-your-birthday-find-out.html"
   ]
  },
  {
   "cell_type": "markdown",
   "metadata": {},
   "source": [
    "## Another win for simulation\n",
    "- adjusting analytic model a pain\n",
    "- adjusting simulation model easy"
   ]
  },
  {
   "cell_type": "code",
   "execution_count": 37,
   "metadata": {},
   "outputs": [],
   "source": [
    "# new function with some possible dates repeated\n",
    "def sameDate(numPeople, numSame):\n",
    "    possibleDates = 4*list(range(0,57)) + [58]\\\n",
    "                    + 4*list(range(59, 366))\\\n",
    "                    + 4*list(range(180, 270))\n",
    "    birthdays = [0]*366\n",
    "    for p in range(numPeople):\n",
    "        birthDate = random.choice(possibleDates)\n",
    "        birthdays[birthDate] += 1\n",
    "    return max(birthdays) >= numSame"
   ]
  },
  {
   "cell_type": "code",
   "execution_count": 38,
   "metadata": {},
   "outputs": [
    {
     "name": "stdout",
     "output_type": "stream",
     "text": [
      "For 10 people, est. prob of a shared birthday is 0.1318\n",
      "Actual prob. for 10 people is 0.1166454118039999\n",
      "For 20 people, est. prob of a shared birthday is 0.448\n",
      "Actual prob. for 20 people is 0.4105696370550831\n",
      "For 40 people, est. prob of a shared birthday is 0.9165\n",
      "Actual prob. for 40 people is 0.89054476188945\n",
      "For 100 people, est. prob of a shared birthday is 1.0\n",
      "Actual prob. for 100 people is 0.9999996784357714\n"
     ]
    }
   ],
   "source": [
    "for numPeople in [10, 20, 40, 100]:\n",
    "    print('For', numPeople, 'people, est. prob of a shared birthday is', \n",
    "         birthdayProb(numPeople, 2, 10000))\n",
    "    numerator = math.factorial(366)\n",
    "    denom = (366**numPeople)*math.factorial(366 - numPeople)\n",
    "    print('Actual prob. for', numPeople, 'people is', 1 - numerator/denom) # (now incorrect)"
   ]
  },
  {
   "cell_type": "markdown",
   "metadata": {},
   "source": [
    "## Simulation Models\n",
    "- a description of computations that provide useful information about the possible behaviors of the system being modeled\n",
    "- descriptive, not prescriptive\n",
    "    - describe possible outcomes; don't tell you how to achieve possible outcomes \n",
    "    - whereas optimization model is prescriptive\n",
    "- only an approximation to reality\n",
    "- \"All models are wrong, but some are useful.\" - George Box"
   ]
  },
  {
   "cell_type": "markdown",
   "metadata": {},
   "source": [
    "## Simulations are used a lot\n",
    "- to model systems that are mathematically intractable\n",
    "- to extract useful intermediate results\n",
    "- lend themselves to development by successive refinement and \"what if\" questions\n",
    "- start by simulating random walks\n",
    "    - for next lecture"
   ]
  },
  {
   "cell_type": "code",
   "execution_count": null,
   "metadata": {},
   "outputs": [],
   "source": []
  }
 ],
 "metadata": {
  "kernelspec": {
   "display_name": "Python 3",
   "language": "python",
   "name": "python3"
  },
  "language_info": {
   "codemirror_mode": {
    "name": "ipython",
    "version": 3
   },
   "file_extension": ".py",
   "mimetype": "text/x-python",
   "name": "python",
   "nbconvert_exporter": "python",
   "pygments_lexer": "ipython3",
   "version": "3.7.6"
  }
 },
 "nbformat": 4,
 "nbformat_minor": 4
}
