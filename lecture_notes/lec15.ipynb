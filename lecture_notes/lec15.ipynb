{
 "cells": [
  {
   "cell_type": "markdown",
   "metadata": {},
   "source": [
    "# 6.0002 Lecture 15: Statistical Sins and Wrap Up"
   ]
  },
  {
   "cell_type": "markdown",
   "metadata": {},
   "source": [
    "**Speaker:** Prof. John Guttag"
   ]
  },
  {
   "cell_type": "markdown",
   "metadata": {},
   "source": [
    "## Global Warming: fact or fiction\n",
    "- recall: beware of charts where the y-axis doesn't start at zero (one of the \"statistical sins\")\n",
    "    - scale is important\n",
    "- a plot of temperature flucutations will look different if the y-axis is zoomed in on a range of a few values around 57 degrees versus from 0 to 110 degrees"
   ]
  },
  {
   "cell_type": "markdown",
   "metadata": {},
   "source": [
    "## Fever and the flu\n",
    "- oral temperature does change over time when someone gets the flu, but zooming out from the small range of values near 99 degrees will make it look flat over time\n",
    "    - no human has a temperature of 0 degrees; this is useless information\n",
    "- moral: truncate the y-axis to eliminate preposterous values"
   ]
  },
  {
   "cell_type": "markdown",
   "metadata": {},
   "source": [
    "## The myth of global warming\n",
    "- we believe that climate change is something that happens over very long periods of time, so it would be silly to look at climate data over a very short period of time\n",
    "    - whereas if looking at someone's heart rate, probably don't want to look at data over a longer period of time\n",
    "- moral: don't confuse fluctuations with trends\n",
    "    - in any time series data, there will always be fluctuations\n",
    "- choose an interval consistent with phenomenon being considered"
   ]
  },
  {
   "cell_type": "markdown",
   "metadata": {},
   "source": [
    "## But at least the Arctic ice isn't melting(?)\n",
    "- One can choose the right day in 1989 and the right day in 2013 to show that there is more ice in 2013 than 1989\n",
    "    - statistical sin!\n",
    "    - only choosing two points\n",
    "- this is again relying on statistical fluctiation as opposed to a trend\n",
    "- moral: avoid cherrypicking data\n",
    "    - i.e. choosing only data points that support what you believe"
   ]
  },
  {
   "cell_type": "markdown",
   "metadata": {},
   "source": [
    "## A comforting statistics\n",
    "- 99.8% of the firearms in the US will not be used to commit a violent crime in any given year\n",
    "- How many privately owned firearms in the US?\n",
    "    - ~300,000,000\n",
    "    - 300,000,000 * 0.002 = 600,000\n",
    "- not very meaningful to say that *most* of the guns are not used to commit a violent crime"
   ]
  },
  {
   "cell_type": "markdown",
   "metadata": {},
   "source": [
    "## A not so comforting statistic\n",
    "- \"Mexican health officials suspect that the swine flu outbreak has caused more than 159 deaths and roughly 2,500 illnesses.\" CNN, April 29, 2009\n",
    "- How many deaths per year from seasonal flu in U.S?\n",
    "- about 36,000\n",
    "- moral: context matters!\n",
    "    - a number without context doesn't mean anything"
   ]
  },
  {
   "cell_type": "markdown",
   "metadata": {},
   "source": [
    "## Relative to what?\n",
    "- skipping lectures increases your probability of failing 6.0002 by 50%\n",
    "- from 0.5 to 0.75\n",
    "    - large change\n",
    "- from 0.005 to 0.0075\n",
    "    - probably don't care\n",
    "- moral: beware of percentage change when you don't know the denominator"
   ]
  },
  {
   "cell_type": "markdown",
   "metadata": {},
   "source": [
    "## Cancer clusters\n",
    "- a **cancer cluster** is defined by the CDC as \"a greater-than-expected number of cancer cases that occurs within a group of people in a geographic area over a period of time\"\n",
    "- about 1000 \"cancer clusters\" per year are reported to health authorities in the US\n",
    "- vast majority are deemed not significant"
   ]
  },
  {
   "cell_type": "markdown",
   "metadata": {},
   "source": [
    "## A hypothetical example\n",
    "- Massachusetts is about 10,000 square miles\n",
    "- About 36,000 new cancer cases per year\n",
    "- attorney partitioned state into 1000 regions of 10 square miles each, and looked at distribution of cases\n",
    "    - expected number of cases per region: 36\n",
    "- discovered that region 111 had 143 new cancer cases over a 3 year period!\n",
    "    - more than 32% greater than expected\n",
    "- how worried should residents be?"
   ]
  },
  {
   "cell_type": "markdown",
   "metadata": {},
   "source": [
    "## How likely is it just bad luck?"
   ]
  },
  {
   "cell_type": "code",
   "execution_count": 2,
   "metadata": {},
   "outputs": [],
   "source": [
    "import random"
   ]
  },
  {
   "cell_type": "code",
   "execution_count": 4,
   "metadata": {},
   "outputs": [
    {
     "name": "stdout",
     "output_type": "stream",
     "text": [
      "Est. probability of region 111 having at least 143 cases = 0.0\n"
     ]
    }
   ],
   "source": [
    "numCasesPerYear = 36000\n",
    "numYears = 3\n",
    "stateSize = 10000\n",
    "communitySize = 10\n",
    "numCommunities = stateSize // communitySize\n",
    "\n",
    "numTrials = 100\n",
    "numGreater = 0\n",
    "for t in range(numTrials):\n",
    "    locs = [0]*numCommunities\n",
    "    for i in range(numYears*numCasesPerYear):\n",
    "        locs[random.choice(range(numCommunities))] += 1\n",
    "    if locs[111] >= 143:\n",
    "        numGreater += 1\n",
    "prob = round(numGreater/numTrials, 4)\n",
    "print('Est. probability of region 111 having at least 143 cases =', prob)"
   ]
  },
  {
   "cell_type": "markdown",
   "metadata": {},
   "source": [
    "- seems unlikely\n",
    "- but wait... we chose only a specific region (111); why is this more important than any of the other region having at least 143 cases?"
   ]
  },
  {
   "cell_type": "code",
   "execution_count": 6,
   "metadata": {},
   "outputs": [
    {
     "name": "stdout",
     "output_type": "stream",
     "text": [
      "58\n",
      "Est. probability of some region having at least 143 cases = 0.58\n"
     ]
    }
   ],
   "source": [
    "# look at any region (the right thing to do)\n",
    "anyRegion = 0\n",
    "for trial in range(numTrials):\n",
    "    locs = [0]*numCommunities\n",
    "    for i in range(numYears*numCasesPerYear):\n",
    "        locs[random.choice(range(numCommunities))] += 1\n",
    "    if max(locs) >= 143:\n",
    "        anyRegion += 1\n",
    "print(anyRegion)\n",
    "aProb = round(anyRegion/numTrials, 4)\n",
    "print('Est. probability of some region having at least 143 cases =', aProb)"
   ]
  },
  {
   "cell_type": "markdown",
   "metadata": {},
   "source": [
    "- a variant of cherry picking called **multiple hypothesis testing**\n",
    "- the attorney general didn't look at one Hypothesis (region 111 is bad), instead he looked at 1000 hypotheses and chose the one that met what he wanted\n",
    "- a.k.a. Texas Sharpshooter Fallacy\n",
    "    - see bunch of bulletholes near a target on the side of a barn\n",
    "    - but what actually happened: farmer shot at random at wall of barn, then painted target over the bulletholes"
   ]
  },
  {
   "cell_type": "markdown",
   "metadata": {},
   "source": [
    "## The bottom line\n",
    "- when drawing inference from data, skepticism is merited\n",
    "- but remember, skepticism and denial are different\n",
    "- \"Doubt, indulged and cherished, is in danger of becoming denial, but if honest, and bent on thorough investigation, it may soon lead to full establishment of the truth.\" -- Ambrose Bierce"
   ]
  },
  {
   "cell_type": "markdown",
   "metadata": {},
   "source": [
    "## 6.0002 major topics\n",
    "- optimization problems\n",
    "- stochastic thinking\n",
    "- modeling aspects of the world\n",
    "- becoming a better programmer\n",
    "    - exposure to a few extra features of Python and some useful libraries\n",
    "    - practice, practice, practice"
   ]
  },
  {
   "cell_type": "markdown",
   "metadata": {},
   "source": [
    "## Optimization problems\n",
    "- many problems can be formulated in terms of\n",
    "    - objective function\n",
    "    - set of constraints\n",
    "- greedy algorithms often useful\n",
    "    - but may not find optimal solution\n",
    "- many optimization problems inherently exponential\n",
    "    - but dynamic programming often works\n",
    "    - and memoization a generally useful technique (trading time for space using lookup)\n",
    "- examples: knapsack problems, graph problems, curve fitting, clustering"
   ]
  },
  {
   "cell_type": "markdown",
   "metadata": {},
   "source": [
    "## Stochastic thinking\n",
    "- the world is (predictably) non-deterministic\n",
    "- thinking in terms of probabilities is often useful\n",
    "- randomness is a powerful tool for building computations that model the world\n",
    "- random computations useful even for problems that do not involve randomness\n",
    "    - e.g. integration"
   ]
  },
  {
   "cell_type": "markdown",
   "metadata": {},
   "source": [
    "## Modeling the world\n",
    "- models always inaccurate\n",
    "    - provide abstractions of reality\n",
    "- deterministic models, e.g. graph theoretic\n",
    "- statistical models\n",
    "    - simulation models: Monte Carlo simulation\n",
    "    - models based on sampling\n",
    "        - characterizing accuracy is critical\n",
    "            - central limit theorem\n",
    "            - empirical rule\n",
    "        - machine learning\n",
    "            - unsupervised and supervised\n",
    "- presentation of data\n",
    "    - plotting\n",
    "    - good and bad practices"
   ]
  },
  {
   "cell_type": "markdown",
   "metadata": {},
   "source": [
    "## What's next for you\n",
    "- other CS courses you are prepared to take\n",
    "    - 6.009, 6.005, 6.006, 6.034, 6.036"
   ]
  }
 ],
 "metadata": {
  "kernelspec": {
   "display_name": "Python 3",
   "language": "python",
   "name": "python3"
  },
  "language_info": {
   "codemirror_mode": {
    "name": "ipython",
    "version": 3
   },
   "file_extension": ".py",
   "mimetype": "text/x-python",
   "name": "python",
   "nbconvert_exporter": "python",
   "pygments_lexer": "ipython3",
   "version": "3.7.6"
  }
 },
 "nbformat": 4,
 "nbformat_minor": 4
}
