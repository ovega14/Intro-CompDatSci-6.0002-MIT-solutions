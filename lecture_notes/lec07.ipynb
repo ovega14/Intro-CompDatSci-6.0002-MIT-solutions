{
 "cells": [
  {
   "cell_type": "markdown",
   "metadata": {},
   "source": [
    "# 6.0002 Lecture 7: Confidence Intervals"
   ]
  },
  {
   "cell_type": "markdown",
   "metadata": {},
   "source": [
    "**Speaker:** Prof. John Guttag"
   ]
  },
  {
   "cell_type": "markdown",
   "metadata": {},
   "source": [
    "## Assumptions underlying Empirical Rule\n",
    "- the mean estimation error is 0\n",
    "- the distribution of the errors in the estimates is normal (Gaussian)"
   ]
  },
  {
   "cell_type": "markdown",
   "metadata": {},
   "source": [
    "## Generating normally distributed data"
   ]
  },
  {
   "cell_type": "code",
   "execution_count": 1,
   "metadata": {},
   "outputs": [
    {
     "name": "stdout",
     "output_type": "stream",
     "text": [
      "Fraction within ~200 of mean = 0.9566809999999959\n"
     ]
    },
    {
     "data": {
      "image/png": "[encoded data removed]",
      "text/plain": [
       "<Figure size 432x288 with 1 Axes>"
      ]
     },
     "metadata": {
      "needs_background": "light"
     },
     "output_type": "display_data"
    }
   ],
   "source": [
    "import random\n",
    "import pylab\n",
    "\n",
    "dist, numSamples = [], 1000000\n",
    "\n",
    "# draw normally distributed data\n",
    "for i in range(numSamples):\n",
    "    dist.append(random.gauss(0, 100)) # mean = 0, SD = 100\n",
    "    \n",
    "# weight each element in the bins by the same amount\n",
    "weights = [1/numSamples]*len(dist)\n",
    "\n",
    "# plot histogram\n",
    "v = pylab.hist(dist, bins=100, weights=weights) # tuple of len 2\n",
    "pylab.xlabel('x')\n",
    "pylab.ylabel('Relative Frequency')\n",
    "\n",
    "print('Fraction within ~200 of mean =', sum(v[0][30:70])) # i.e. within 2 SD's of mean"
   ]
  },
  {
   "cell_type": "markdown",
   "metadata": {},
   "source": [
    "- the above plot is a discrete approximation to the PDF for $\\mathcal{N}(0,10^4)$\n",
    "    - $\\mu = 0$\n",
    "    - $\\sigma = 100$\n",
    "- the weights gave us relative frequencies, which is why we see fractions on the y-axis and NOT counts"
   ]
  },
  {
   "cell_type": "markdown",
   "metadata": {},
   "source": [
    "## Probability density functions (recapping)\n",
    "- distributions defined by *probability density functions* (PDFs)\n",
    "- probability of a random variable lying between two values\n",
    "- defines a curve where the values on the x-axis lie between minium and maximum value of the variable\n",
    "- area under curve between two points, is probability of example falling within that range"
   ]
  },
  {
   "cell_type": "markdown",
   "metadata": {},
   "source": [
    "## PDF for Normal Distribution\n",
    "$$f(x) = \\frac{1}{\\sigma \\sqrt{2\\pi}}e^{-\\frac{(x-\\mu)^2}{2\\sigma^2}}$$"
   ]
  },
  {
   "cell_type": "code",
   "execution_count": 2,
   "metadata": {},
   "outputs": [],
   "source": [
    "# function for gaussian pdf\n",
    "def gaussian(x, mu, sigma):\n",
    "    factor1 = (1.0/(sigma*((2*pylab.pi)**0.5)))\n",
    "    factor2 = pylab.e**-(((x-mu)**2)/(2*sigma**2))\n",
    "    return factor1*factor2"
   ]
  },
  {
   "cell_type": "code",
   "execution_count": 3,
   "metadata": {},
   "outputs": [
    {
     "data": {
      "text/plain": [
       "Text(0.5, 1.0, 'Normal Distribution, mu = 0, sigma = 1')"
      ]
     },
     "execution_count": 3,
     "metadata": {},
     "output_type": "execute_result"
    },
    {
     "data": {
      "image/png": "[encoded data removed]",
      "text/plain": [
       "<Figure size 432x288 with 1 Axes>"
      ]
     },
     "metadata": {
      "needs_background": "light"
     },
     "output_type": "display_data"
    }
   ],
   "source": [
    "xVals, yVals = [], []\n",
    "mu, sigma = 0, 1\n",
    "x = -4\n",
    "\n",
    "while x <= 4:\n",
    "    xVals.append(x)\n",
    "    yVals.append(gaussian(x, mu, sigma))\n",
    "    x += 0.05\n",
    "\n",
    "pylab.plot(xVals, yVals)\n",
    "pylab.title('Normal Distribution, mu = ' + str(mu)\\\n",
    "            + ', sigma = ' + str(sigma))"
   ]
  },
  {
   "cell_type": "markdown",
   "metadata": {},
   "source": [
    "## Output\n",
    "- are values on y-axis probabilities?\n",
    "- They are **densities**\n",
    "    - i.e. derivative of cumulative distribution function:\n",
    "    $$f(x) = \\frac{\\textrm{d}\\mathbb{P}(x)}{\\textrm{d} x}$$\n",
    "- Hence, we use integration to interpret a PDF\n",
    "$$\\mathbb{P}(X\\leq a) = \\int_{-\\infty}^a f(x) \\textrm{d}x$$"
   ]
  },
  {
   "cell_type": "markdown",
   "metadata": {},
   "source": [
    "## A digression\n",
    "- **SciPy** library contains many useful mathematical functions used by scientists and engineers\n",
    "- scipy.integrate.quad has up to four arguments\n",
    "    - a function or method to be integrated\n",
    "    - a number representing the lower limit of integration\n",
    "    - a number representing the upper limit of integration\n",
    "    - an optional tuple supplying values for all arguments, except the first, of the function to be integrated\n",
    "- scipy.integrate.quad returns a tuple:\n",
    "    - approximation of result\n",
    "    - estimate of absolute error"
   ]
  },
  {
   "cell_type": "markdown",
   "metadata": {},
   "source": [
    "## Checking the Empirical Rule"
   ]
  },
  {
   "cell_type": "code",
   "execution_count": 4,
   "metadata": {},
   "outputs": [],
   "source": [
    "import scipy.integrate\n",
    "\n",
    "def checkEmpirical(numTrials):\n",
    "    for t in range(numTrials):\n",
    "        mu = random.randint(-10, 10)\n",
    "        sigma = random.randint(1, 10)\n",
    "        print('For mu =', mu, 'and sigma =', sigma)\n",
    "        for numStd in (1, 1.96, 3):\n",
    "            area = scipy.integrate.quad(gaussian, \n",
    "                                        mu-numStd*sigma, \n",
    "                                        mu+numStd*sigma,\n",
    "                                        (mu, sigma))[0]\n",
    "            print(' Fraction within', numStd, 'std =', round(area, 4))"
   ]
  },
  {
   "cell_type": "markdown",
   "metadata": {},
   "source": [
    "## Results"
   ]
  },
  {
   "cell_type": "code",
   "execution_count": 5,
   "metadata": {},
   "outputs": [
    {
     "name": "stdout",
     "output_type": "stream",
     "text": [
      "For mu = -5 and sigma = 10\n",
      " Fraction within 1 std = 0.6827\n",
      " Fraction within 1.96 std = 0.95\n",
      " Fraction within 3 std = 0.9973\n",
      "For mu = -6 and sigma = 3\n",
      " Fraction within 1 std = 0.6827\n",
      " Fraction within 1.96 std = 0.95\n",
      " Fraction within 3 std = 0.9973\n",
      "For mu = 2 and sigma = 7\n",
      " Fraction within 1 std = 0.6827\n",
      " Fraction within 1.96 std = 0.95\n",
      " Fraction within 3 std = 0.9973\n"
     ]
    }
   ],
   "source": [
    "checkEmpirical(3)"
   ]
  },
  {
   "cell_type": "markdown",
   "metadata": {},
   "source": [
    "## Everybody likes Normal Distributions\n",
    "- they occur a lot!\n",
    "- nice mathematical properties"
   ]
  },
  {
   "cell_type": "markdown",
   "metadata": {},
   "source": [
    "## But not all distributions are normal\n",
    "- empirical rule works for normal distributions\n",
    "- but are the outcomes of the spins of a roulette wheel normally distributed?\n",
    "- no, they are uniformly distributed\n",
    "    - each outcome is equally probable\n",
    "- so, why does the empirical rule work here?"
   ]
  },
  {
   "cell_type": "markdown",
   "metadata": {},
   "source": [
    "## Why did the empirical rule work?\n",
    "- because we are reasoning not about a single spin, but about the **mean of a set** of spins\n",
    "- and the **Central Limit Theorem (CLT)** applies"
   ]
  },
  {
   "cell_type": "markdown",
   "metadata": {},
   "source": [
    "## The Central Limit Theorem (CLT)\n",
    "- reminder:\n",
    "    - a **population** is a set of examples\n",
    "    - a **sample** is a subset of the population\n",
    "- given a sufficiently large sample:\n",
    "    - 1.) The means of the samples in a set of samples (the sample means) will be approximately normally distributed,\n",
    "    - 2.) This distribution will have a mean close to the mean of the population, and\n",
    "    - 3.) The variance of the sample means will be close to the variance of the population divided by the sample size."
   ]
  },
  {
   "cell_type": "markdown",
   "metadata": {},
   "source": [
    "## Checking CLT for a continuous die"
   ]
  },
  {
   "cell_type": "code",
   "execution_count": 6,
   "metadata": {},
   "outputs": [],
   "source": [
    "# helper function to get mean and std of data\n",
    "def getMeanAndStd(X):\n",
    "    \"\"\"Assumes X is a list of numbers\n",
    "        Returns the mean and standard \n",
    "        deviation of X\"\"\"\n",
    "    mean = sum(X)/float(len(X))\n",
    "    tot = 0.0\n",
    "    for x in X:\n",
    "        tot += (x - mean)**2\n",
    "    std = (tot/len(X))**0.5\n",
    "    return mean, std"
   ]
  },
  {
   "cell_type": "code",
   "execution_count": 7,
   "metadata": {},
   "outputs": [],
   "source": [
    "def plotMeans(numDice, numRolls, numBins, legend, color, style):\n",
    "    means = []\n",
    "    for i in range(numRolls // numDice): # numTrials\n",
    "        vals = 0\n",
    "        for j in range(numDice):\n",
    "            vals += 5*random.random()\n",
    "        means.append(vals/float(numDice))\n",
    "    pylab.hist(means, numBins, color=color, label=legend, \n",
    "              weights=pylab.array(len(means)*[1])/len(means), \n",
    "              hatch=style)\n",
    "    return getMeanAndStd(means)"
   ]
  },
  {
   "cell_type": "code",
   "execution_count": 8,
   "metadata": {},
   "outputs": [
    {
     "name": "stdout",
     "output_type": "stream",
     "text": [
      "Mean of rolling 1 die = 2.502601021261434,  Std = 1.4432298744570917\n",
      "Mean of rolling 50 dice = 2.4999878824192225,  Std =  0.2031549694258352\n"
     ]
    },
    {
     "data": {
      "text/plain": [
       "<matplotlib.legend.Legend at 0x258d8c19088>"
      ]
     },
     "execution_count": 8,
     "metadata": {},
     "output_type": "execute_result"
    },
    {
     "data": {
      "image/png": "[encoded data removed]",
      "text/plain": [
       "<Figure size 432x288 with 1 Axes>"
      ]
     },
     "metadata": {
      "needs_background": "light"
     },
     "output_type": "display_data"
    }
   ],
   "source": [
    "mean, std = plotMeans(1, 1000000, 19, '1 die', 'b', '*')\n",
    "print('Mean of rolling 1 die =', str(mean) + ', ', 'Std =', std)\n",
    "mean, std = plotMeans(50, 1000000, 19, 'Mean of 50 dice', 'r', '//')\n",
    "print('Mean of rolling 50 dice =', str(mean) + ', ', 'Std = ', std)\n",
    "pylab.title('Rolling Continuous Dice')\n",
    "pylab.xlabel('Value')\n",
    "pylab.ylabel('Probability')\n",
    "pylab.legend()"
   ]
  },
  {
   "cell_type": "markdown",
   "metadata": {},
   "source": [
    "## Try if for roulette"
   ]
  },
  {
   "cell_type": "code",
   "execution_count": 9,
   "metadata": {},
   "outputs": [],
   "source": [
    "# FairRoulette game\n",
    "class FairRoulette():\n",
    "    def __init__(self):\n",
    "        self.pockets = []\n",
    "        for i in range(1, 37):\n",
    "            self.pockets.append(i)\n",
    "        self.ball = None\n",
    "        self.pocketOdds = len(self.pockets) - 1\n",
    "    def spin(self):\n",
    "        self.ball = random.choice(self.pockets)\n",
    "    def betPocket(self, pocket, amt):\n",
    "        if str(pocket) == str(self.ball):\n",
    "            return amt*self.pocketOdds\n",
    "        else:\n",
    "            return -amt\n",
    "    def __str__(self):\n",
    "        return 'Fair Roulette'\n",
    "    \n",
    "    \n",
    "\n",
    "# play the game\n",
    "def playRoulette(game, numSpins, pocket, bet, toPrint=False):\n",
    "    totPocket = 0\n",
    "    for i in range(numSpins):\n",
    "        game.spin()\n",
    "        totPocket += game.betPocket(pocket, bet)\n",
    "    if toPrint:\n",
    "        print(numSpins, 'spins of', game)\n",
    "        print('Expected return betting', pocket, '=',\\\n",
    "              str(100*totPocket/numSpins) + '%\\n')\n",
    "    return (totPocket/numSpins)\n",
    "\n",
    "# find return on a pocket bet\n",
    "def findPocketReturn(game, numTrials, trialSize, toPrint):\n",
    "    pocketReturns = []\n",
    "    for t in range(numTrials):\n",
    "        trialVals = playRoulette(game, trialSize, 2, 1, toPrint)\n",
    "        pocketReturns.append(trialVals)\n",
    "    return pocketReturns"
   ]
  },
  {
   "cell_type": "code",
   "execution_count": 10,
   "metadata": {},
   "outputs": [
    {
     "data": {
      "text/plain": [
       "Text(0.5, 1.0, 'Expected Return Betting a Pocket 200  Times')"
      ]
     },
     "execution_count": 10,
     "metadata": {},
     "output_type": "execute_result"
    },
    {
     "data": {
      "image/png": "[encoded data removed]",
      "text/plain": [
       "<Figure size 432x288 with 1 Axes>"
      ]
     },
     "metadata": {
      "needs_background": "light"
     },
     "output_type": "display_data"
    }
   ],
   "source": [
    "numTrials = 10**6\n",
    "numSpins = 200\n",
    "game = FairRoulette()\n",
    "\n",
    "means = []\n",
    "for i in range(numTrials):\n",
    "    means.append(findPocketReturn(game, 1, numSpins, False)[0])\n",
    "    \n",
    "pylab.hist(means, bins=19, weights=[1/len(means)]*len(means))\n",
    "pylab.xlabel('Mean Return')\n",
    "pylab.ylabel('Probability')\n",
    "pylab.title('Expected Return Betting a Pocket 200  Times')"
   ]
  },
  {
   "cell_type": "markdown",
   "metadata": {},
   "source": [
    "## Moral\n",
    "- it doesn't matter what the shape of the distribution of values happens to be\n",
    "- if we are trying to estimate the mean of a population using sufficiently large samples\n",
    "- the CLT allows us to use the empirical rule when computing confidence intervals"
   ]
  },
  {
   "cell_type": "markdown",
   "metadata": {},
   "source": [
    "## Pi ($\\pi$)\n",
    "$$\\frac{\\textrm{circumference}}{\\textrm{diameter}} = \\pi$$\n",
    "$$\\textrm{area}=\\pi \\cdot \\textrm{radius}^2$$\n",
    "- earliest estimate of $\\pi$ was by the Egyptians on the Rhind Papyrus\n",
    "    - estimated it to be $4\\cdot(\\frac{8}{9})^2 = 3.16$"
   ]
  },
  {
   "cell_type": "markdown",
   "metadata": {},
   "source": [
    "## ~100 years later\n",
    "- In the Bible:\n",
    "    - \"And he made a molten sea, ten cubits from the one brim to the other: it was round all about, and his height was five cubits: and a line of thirty cubits did compass it round about.\" -- 1 Kings 7.23\n",
    "- this would imply that the estimate of $pi$ is about $3$\n",
    "- \"And I'm sure that's what Mike Pence thinks it is.\" -- Prof. Guttag"
   ]
  },
  {
   "cell_type": "markdown",
   "metadata": {},
   "source": [
    "## ~ 300 years later (Archimedes)\n",
    "- computed circumferences of polygons approximating a circle\n",
    "    - found $\\frac{223}{71} < \\pi < \\frac{22}{7}$"
   ]
  },
  {
   "cell_type": "markdown",
   "metadata": {},
   "source": [
    "## ~ 2000 years later (Buffon-Laplace)\n",
    "- proposed a Monte Carlo simulation\n",
    "- take a circle of radius 1 and inscribe it in a square of side length 2. \n",
    "    - Area of square: $A_s = 2\\cdot 2 = 4$\n",
    "    - Area of circle: $A_c = \\pi r^2 = \\pi$\n",
    "- drop needles onto the square (falling at random):\n",
    "    - $\\frac{\\textrm{needles in circle}}{\\textrm{needles in square}} = \\frac{A_c}{A_s}$\n",
    "    - $A_c = \\frac{A_s \\cdot \\textrm{needles in square}}{\\textrm{needles in square}}$\n",
    "    - $\\implies A_c = \\frac{4\\cdot \\textrm{needles in circle}}{\\textrm{needles in square}}$"
   ]
  },
  {
   "cell_type": "markdown",
   "metadata": {},
   "source": [
    "## Simulating Buffon-Laplace method"
   ]
  },
  {
   "cell_type": "code",
   "execution_count": 11,
   "metadata": {},
   "outputs": [],
   "source": [
    "def throwNeedles(numNeedles):\n",
    "    inCircle = 0\n",
    "    for Needles in range(1, numNeedles + 1, 1):\n",
    "        x = random.random()\n",
    "        y = random.random()\n",
    "        if (x*x + y*y)**0.5 <= 1.0:\n",
    "            inCircle += 1\n",
    "    return 4*(inCircle/float(numNeedles))"
   ]
  },
  {
   "cell_type": "code",
   "execution_count": 15,
   "metadata": {},
   "outputs": [],
   "source": [
    "def getEst(numNeedles, numTrials):\n",
    "    estimates = []\n",
    "    for t in range(numTrials):\n",
    "        piGuess = throwNeedles(numNeedles)\n",
    "        estimates.append(piGuess)\n",
    "    sDev = getMeanAndStd(estimates)[1]\n",
    "    curEst = sum(estimates)/len(estimates)\n",
    "    print('Est. = ' + str(curEst) +\\\n",
    "          ', Std. dev. = ' + str(round(sDev, 6))\\\n",
    "          + ', Needles = ' + str(numNeedles))\n",
    "    return (curEst, sDev)"
   ]
  },
  {
   "cell_type": "code",
   "execution_count": 16,
   "metadata": {},
   "outputs": [],
   "source": [
    "def estPi(precision, numTrials):\n",
    "    numNeedles = 1000\n",
    "    sDev = precision\n",
    "    while sDev >= precision/2:\n",
    "        curEst, sDev = getEst(numNeedles, numTrials)\n",
    "        numNeedles *= 2\n",
    "    return curEst"
   ]
  },
  {
   "cell_type": "code",
   "execution_count": 17,
   "metadata": {},
   "outputs": [
    {
     "name": "stdout",
     "output_type": "stream",
     "text": [
      "Est. = 3.1391600000000013, Std. dev. = 0.051273, Needles = 1000\n",
      "Est. = 3.1401, Std. dev. = 0.035144, Needles = 2000\n",
      "Est. = 3.1393, Std. dev. = 0.024503, Needles = 4000\n",
      "Est. = 3.1405349999999985, Std. dev. = 0.01824, Needles = 8000\n",
      "Est. = 3.1419949999999996, Std. dev. = 0.012645, Needles = 16000\n",
      "Est. = 3.1414050000000007, Std. dev. = 0.009604, Needles = 32000\n",
      "Est. = 3.140543124999999, Std. dev. = 0.006473, Needles = 64000\n",
      "Est. = 3.1418149999999994, Std. dev. = 0.004355, Needles = 128000\n",
      "Est. = 3.1415145312500012, Std. dev. = 0.002901, Needles = 256000\n",
      "Est. = 3.1413355468750006, Std. dev. = 0.002412, Needles = 512000\n"
     ]
    },
    {
     "data": {
      "text/plain": [
       "3.1413355468750006"
      ]
     },
     "execution_count": 17,
     "metadata": {},
     "output_type": "execute_result"
    }
   ],
   "source": [
    "estPi(0.005, 100)"
   ]
  },
  {
   "cell_type": "markdown",
   "metadata": {},
   "source": [
    "## Being right is not good enough\n",
    "- not sufficient to produce a good answer\n",
    "- need to have reason to believe that it is close to right\n",
    "- in this case, small standard deviation implies that we are close to the true value of $\\pi$\n",
    "- ...right?"
   ]
  },
  {
   "cell_type": "markdown",
   "metadata": {},
   "source": [
    "## Is it correct to state\n",
    "- 95% of the time we run this simulation, we will estimate that the value of $\\pi$ is between 3.13743875875 and 3.14567467875?\n",
    "    - Yes!\n",
    "- with a probability of 0.95 the actual value of $\\pi$ is between 3.13743875875 and 3.14567467875?\n",
    "    - Yes!\n",
    "- both are factually correct\n",
    "- but only one of these statements can be inferred from our simulation\n",
    "- statisticall valid $\\neq$ true"
   ]
  },
  {
   "cell_type": "markdown",
   "metadata": {},
   "source": [
    "## Introduce a bug"
   ]
  },
  {
   "cell_type": "code",
   "execution_count": 18,
   "metadata": {},
   "outputs": [],
   "source": [
    "def throwNeedles(numNeedles):\n",
    "    inCircle = 0\n",
    "    for Needles in range(1, numNeedles + 1, 1):\n",
    "        x = random.random()\n",
    "        y = random.random()\n",
    "        if (x*x + y*y)**0.5 <= 1.0:\n",
    "            inCircle += 1\n",
    "    return 2*(inCircle/float(numNeedles)) # replaced 4 with 2 (incorrect)"
   ]
  },
  {
   "cell_type": "code",
   "execution_count": 19,
   "metadata": {},
   "outputs": [
    {
     "name": "stdout",
     "output_type": "stream",
     "text": [
      "Est. = 1.57272, Std. dev. = 0.02824, Needles = 1000\n",
      "Est. = 1.57143, Std. dev. = 0.015937, Needles = 2000\n",
      "Est. = 1.5706500000000005, Std. dev. = 0.012498, Needles = 4000\n",
      "Est. = 1.571525, Std. dev. = 0.009119, Needles = 8000\n",
      "Est. = 1.5714449999999998, Std. dev. = 0.005901, Needles = 16000\n",
      "Est. = 1.5703568749999999, Std. dev. = 0.004404, Needles = 32000\n",
      "Est. = 1.5707056249999996, Std. dev. = 0.003115, Needles = 64000\n",
      "Est. = 1.5709484375000002, Std. dev. = 0.002531, Needles = 128000\n",
      "Est. = 1.5707537499999997, Std. dev. = 0.001681, Needles = 256000\n"
     ]
    },
    {
     "data": {
      "text/plain": [
       "1.5707537499999997"
      ]
     },
     "execution_count": 19,
     "metadata": {},
     "output_type": "execute_result"
    }
   ],
   "source": [
    "# run the simulation with error \n",
    "estPi(0.005, 100)"
   ]
  },
  {
   "cell_type": "markdown",
   "metadata": {},
   "source": [
    "- so we still get good confidence intervals, but bogus values of $\\pi$\n",
    "- statistics can tell us how reproducible our simulation is, but NOT whether the simulation is an actually valid model of reality\n",
    "    - in this case, we would have to do a sanity check"
   ]
  },
  {
   "cell_type": "markdown",
   "metadata": {},
   "source": [
    "## Generally useful technique\n",
    "- to estimate the area of some region, $R$:\n",
    "    - pick an enclosing region, $E$, such that the area of $E$ is easy to calculate and $R$ ies completely within $E$\n",
    "    - pick a set of random points that lie within $E$\n",
    "    - let $F$ be the fraction of the points that fall within $R$\n",
    "    - multiply the area of $E$ by $F$\n",
    "- way to estimate integrals"
   ]
  }
 ],
 "metadata": {
  "kernelspec": {
   "display_name": "Python 3",
   "language": "python",
   "name": "python3"
  },
  "language_info": {
   "codemirror_mode": {
    "name": "ipython",
    "version": 3
   },
   "file_extension": ".py",
   "mimetype": "text/x-python",
   "name": "python",
   "nbconvert_exporter": "python",
   "pygments_lexer": "ipython3",
   "version": "3.7.6"
  }
 },
 "nbformat": 4,
 "nbformat_minor": 4
}
