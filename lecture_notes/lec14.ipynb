{
 "cells": [
  {
   "cell_type": "markdown",
   "metadata": {},
   "source": [
    "# 6.0002 Lecture 14: Classification and Statistical Sins"
   ]
  },
  {
   "cell_type": "markdown",
   "metadata": {},
   "source": [
    "**Speaker:** Prof. John Guttag"
   ]
  },
  {
   "cell_type": "markdown",
   "metadata": {},
   "source": [
    "## Helper code from last lecture"
   ]
  },
  {
   "cell_type": "code",
   "execution_count": 1,
   "metadata": {},
   "outputs": [],
   "source": [
    "import pylab, random"
   ]
  },
  {
   "cell_type": "code",
   "execution_count": 2,
   "metadata": {},
   "outputs": [],
   "source": [
    "#set line width\n",
    "pylab.rcParams['lines.linewidth'] = 4\n",
    "#set font size for titles \n",
    "pylab.rcParams['axes.titlesize'] = 20\n",
    "#set font size for labels on axes\n",
    "pylab.rcParams['axes.labelsize'] = 20\n",
    "#set size of numbers on x-axis\n",
    "pylab.rcParams['xtick.labelsize'] = 16\n",
    "#set size of numbers on y-axis\n",
    "pylab.rcParams['ytick.labelsize'] = 16\n",
    "#set size of ticks on x-axis\n",
    "pylab.rcParams['xtick.major.size'] = 7\n",
    "#set size of ticks on y-axis\n",
    "pylab.rcParams['ytick.major.size'] = 7\n",
    "#set size of markers\n",
    "pylab.rcParams['lines.markersize'] = 10\n",
    "#set number of examples shown in legends\n",
    "pylab.rcParams['legend.numpoints'] = 1"
   ]
  },
  {
   "cell_type": "code",
   "execution_count": 3,
   "metadata": {},
   "outputs": [],
   "source": [
    "def minkowskiDist(v1, v2, p):\n",
    "    \"\"\"Assumes v1 and v2 are equal-length arrays of numbers\n",
    "       Returns Minkowski distance of order p between v1 and v2\"\"\"\n",
    "    dist = 0.0\n",
    "    for i in range(len(v1)):\n",
    "        dist += abs(v1[i] - v2[i])**p\n",
    "    return dist**(1/p)"
   ]
  },
  {
   "cell_type": "code",
   "execution_count": 5,
   "metadata": {},
   "outputs": [],
   "source": [
    "def getTitanicData(fname):\n",
    "    data = {}\n",
    "    data['class'], data['survived'], data['age'] = [], [], []\n",
    "    data['gender'], data['name'] = [], []\n",
    "    f = open(fname)\n",
    "    line = f.readline()\n",
    "    while line != '':\n",
    "        split = line.split(',')\n",
    "        data['class'].append(int(split[0]))\n",
    "        data['age'].append(float(split[1]))\n",
    "        if split[2] == 'M':\n",
    "            data['gender'].append(1)\n",
    "        else:\n",
    "            data['gender'].append(0)\n",
    "        if split[3] == '1':\n",
    "            data['survived'].append('Survived')\n",
    "        else:\n",
    "            data['survived'].append('Died')\n",
    "        data['name'].append(split[4:])\n",
    "        line = f.readline()\n",
    "    return data\n",
    "                \n",
    "def buildTitanicExamples(fileName):\n",
    "    data = getTitanicData(fileName)\n",
    "    examples = []\n",
    "    for i in range(len(data['class'])):\n",
    "        p = Passenger(data['class'][i], data['age'][i],\n",
    "                      data['gender'][i], data['survived'][i],\n",
    "                      data['name'][i])\n",
    "        examples.append(p)\n",
    "    print('Finished processing', len(examples), 'passengers\\n')    \n",
    "    return examples"
   ]
  },
  {
   "cell_type": "code",
   "execution_count": 6,
   "metadata": {},
   "outputs": [],
   "source": [
    "def accuracy(truePos, falsePos, trueNeg, falseNeg):\n",
    "    numerator = truePos + trueNeg\n",
    "    denominator = truePos + trueNeg + falsePos + falseNeg\n",
    "    return numerator/denominator\n",
    "\n",
    "def sensitivity(truePos, falseNeg):\n",
    "    try:\n",
    "        return truePos/(truePos + falseNeg)\n",
    "    except ZeroDivisionError:\n",
    "        return float('nan')\n",
    "    \n",
    "def specificity(trueNeg, falsePos):\n",
    "    try:\n",
    "        return trueNeg/(trueNeg + falsePos)\n",
    "    except ZeroDivisionError:\n",
    "        return float('nan')\n",
    "    \n",
    "def posPredVal(truePos, falsePos):\n",
    "    try:\n",
    "        return truePos/(truePos + falsePos)\n",
    "    except ZeroDivisionError:\n",
    "        return float('nan')\n",
    "    \n",
    "def negPredVal(trueNeg, falseNeg):\n",
    "    try:\n",
    "        return trueNeg/(trueNeg + falseNeg)\n",
    "    except ZeroDivisionError:\n",
    "        return float('nan')\n",
    "       \n",
    "def getStats(truePos, falsePos, trueNeg, falseNeg, toPrint = True):\n",
    "    accur = accuracy(truePos, falsePos, trueNeg, falseNeg)\n",
    "    sens = sensitivity(truePos, falseNeg)\n",
    "    spec = specificity(trueNeg, falsePos)\n",
    "    ppv = posPredVal(truePos, falsePos)\n",
    "    if toPrint:\n",
    "        print(' Accuracy =', round(accur, 3))\n",
    "        print(' Sensitivity =', round(sens, 3))\n",
    "        print(' Specificity =', round(spec, 3))\n",
    "        print(' Pos. Pred. Val. =', round(ppv, 3))\n",
    "    return (accur, sens, spec, ppv)"
   ]
  },
  {
   "cell_type": "code",
   "execution_count": 7,
   "metadata": {},
   "outputs": [],
   "source": [
    "def split80_20(examples):\n",
    "    sampleIndices = random.sample(range(len(examples)),\n",
    "                                  len(examples)//5)\n",
    "    trainingSet, testSet = [], []\n",
    "    for i in range(len(examples)):\n",
    "        if i in sampleIndices:\n",
    "            testSet.append(examples[i])\n",
    "        else:\n",
    "            trainingSet.append(examples[i])\n",
    "    return trainingSet, testSet\n",
    "    \n",
    "def randomSplits(examples, method, numSplits, toPrint = True):\n",
    "    truePos, falsePos, trueNeg, falseNeg = 0, 0, 0, 0\n",
    "    random.seed(0)\n",
    "    for t in range(numSplits):\n",
    "        trainingSet, testSet = split80_20(examples)\n",
    "        results = method(trainingSet, testSet)\n",
    "        truePos += results[0]\n",
    "        falsePos += results[1]\n",
    "        trueNeg += results[2]\n",
    "        falseNeg += results[3]\n",
    "    getStats(truePos/numSplits, falsePos/numSplits,\n",
    "             trueNeg/numSplits, falseNeg/numSplits, toPrint)\n",
    "    return truePos/numSplits, falsePos/numSplits,\\\n",
    "             trueNeg/numSplits, falseNeg/numSplits"
   ]
  },
  {
   "cell_type": "code",
   "execution_count": 8,
   "metadata": {},
   "outputs": [],
   "source": [
    "import sklearn\n",
    "from sklearn.linear_model import LogisticRegression"
   ]
  },
  {
   "cell_type": "code",
   "execution_count": 9,
   "metadata": {},
   "outputs": [],
   "source": [
    "def buildModel(examples, toPrint = True):\n",
    "    featureVecs, labels = [],[]\n",
    "    for e in examples:\n",
    "        featureVecs.append(e.getFeatures())\n",
    "        labels.append(e.getLabel())\n",
    "    model = LogisticRegression().fit(featureVecs, labels)\n",
    "    if toPrint:\n",
    "        print('model.classes_ =', model.classes_)\n",
    "        for i in range(len(model.coef_)):\n",
    "            print('For label', model.classes_[1])\n",
    "            for j in range(len(model.coef_[0])):\n",
    "                print('   ', Passenger.featureNames[j], '=',\n",
    "                      model.coef_[0][j])\n",
    "    return model\n",
    "\n",
    "def applyModel(model, testSet, label, prob = 0.5):\n",
    "    testFeatureVecs = [e.getFeatures() for e in testSet]\n",
    "    probs = model.predict_proba(testFeatureVecs)\n",
    "    truePos, falsePos, trueNeg, falseNeg = 0, 0, 0, 0\n",
    "    for i in range(len(probs)):\n",
    "        if probs[i][1] > prob:\n",
    "            if testSet[i].getLabel() == label:\n",
    "                truePos += 1\n",
    "            else:\n",
    "                falsePos += 1\n",
    "        else:\n",
    "            if testSet[i].getLabel() != label:\n",
    "                trueNeg += 1\n",
    "            else:\n",
    "                falseNeg += 1\n",
    "    return truePos, falsePos, trueNeg, falseNeg"
   ]
  },
  {
   "cell_type": "code",
   "execution_count": 10,
   "metadata": {},
   "outputs": [],
   "source": [
    "# logistic regression\n",
    "def lr(trainingData, testData, prob = 0.5):\n",
    "    model = buildModel(trainingData, False)\n",
    "    results = applyModel(model, testData, 'Survived', prob)\n",
    "    return results"
   ]
  },
  {
   "cell_type": "markdown",
   "metadata": {},
   "source": [
    "## Looking at feature weights\n",
    "- model.classes_ = ['Died', 'Survived']\n",
    "- for label survived: \n",
    "    - C1 = 1.66761946545\n",
    "    - C2 = 0.46035455245\n",
    "    - C3 = -0.50338282535\n",
    "    - age = -0.03144810623\n",
    "    - male gender = -2.39514860929\n",
    "- be wary of reading too much into the weights\n",
    "- features are often correlated\n",
    "- L1 regression tends to drive one variable to zero\n",
    "- L2 (default) regression spreads weights across variables    "
   ]
  },
  {
   "cell_type": "markdown",
   "metadata": {},
   "source": [
    "## Correlated Features, an example\n",
    "- c1 + c2 + c3 = 1\n",
    "    - i.e. values are not independent\n",
    "    - is being in 1st class good, or being in the other classes bad?\n",
    "- suppose we eliminate c1?"
   ]
  },
  {
   "cell_type": "code",
   "execution_count": 4,
   "metadata": {},
   "outputs": [],
   "source": [
    "# remove first class (C1)\n",
    "class Passenger(object):\n",
    "#    featureNames = ('C1', 'C2', 'C3', 'age', 'male gender')\n",
    "#    def __init__(self, pClass, age, gender, survived, name):\n",
    "#        self.name = name\n",
    "#        self.featureVec = [0, 0, 0, age, gender]\n",
    "#        self.featureVec[pClass - 1] = 1\n",
    "#        #self.featureVec[0] = 0 #Ugly hack\n",
    "#        self.label = survived\n",
    "#        self.cabinClass = pClass\n",
    "    featureNames = ('C2', 'C3', 'age', 'male gender')  # now only 4 features\n",
    "    def __init__(self, pClass, age, gender, survived, name):\n",
    "        self.name = name\n",
    "        if pClass == 2:\n",
    "            self.featureVec = [1, 0, age, gender]\n",
    "        elif pClass == 3:\n",
    "            self.featureVec = [0, 1, age, gender]\n",
    "        else:\n",
    "            self.featureVec = [0, 0, age, gender]\n",
    "        self.label = survived\n",
    "        self.cabinClass = pClass\n",
    "    def distance(self, other):\n",
    "        return minkowskiDist(self.featureVec, other.featureVec, 2)\n",
    "    def getClass(self):\n",
    "        return self.cabinClass\n",
    "    def getAge(self):\n",
    "        return self.featureVec[3]\n",
    "    def getGender(self):\n",
    "        return self.featureVec[4]\n",
    "    def getName(self):\n",
    "        return self.name\n",
    "    def getFeatures(self):\n",
    "        return self.featureVec[:]\n",
    "    def getLabel(self):\n",
    "        return self.label"
   ]
  },
  {
   "cell_type": "markdown",
   "metadata": {},
   "source": [
    "## New Results"
   ]
  },
  {
   "cell_type": "code",
   "execution_count": 11,
   "metadata": {},
   "outputs": [
    {
     "name": "stdout",
     "output_type": "stream",
     "text": [
      "Finished processing 1046 passengers\n",
      "\n",
      "Average of 20 80/20 splits LR\n",
      " Accuracy = 0.778\n",
      " Sensitivity = 0.683\n",
      " Specificity = 0.845\n",
      " Pos. Pred. Val. = 0.758\n",
      "model.classes_ = ['Died' 'Survived']\n",
      "For label Survived\n",
      "    C2 = -1.2220347359272548\n",
      "    C3 = -2.0992389657948607\n",
      "    age = -0.03162164116492356\n",
      "    male gender = -2.4334594390733986\n"
     ]
    }
   ],
   "source": [
    "examples = buildTitanicExamples('TitanicPassengers.txt')\n",
    "\n",
    "random.seed(0)\n",
    "numSplits = 20\n",
    "print('Average of', numSplits, '80/20 splits LR')\n",
    "truePos, falsePos, trueNeg, falseNeg =\\\n",
    "      randomSplits(examples, lr, numSplits)\n",
    "\n",
    "#Look at weights\n",
    "trainingSet, testSet = split80_20(examples)\n",
    "model = buildModel(trainingSet, True)"
   ]
  },
  {
   "cell_type": "markdown",
   "metadata": {},
   "source": [
    "- weights are quite different\n",
    "- C2 and C3 now have strong negative weights\n",
    "- age and gender weights only changed slightly"
   ]
  },
  {
   "cell_type": "markdown",
   "metadata": {},
   "source": [
    "## Changing the cutoff"
   ]
  },
  {
   "cell_type": "code",
   "execution_count": 12,
   "metadata": {},
   "outputs": [
    {
     "name": "stdout",
     "output_type": "stream",
     "text": [
      "Try p = 0.1\n",
      " Accuracy = 0.493\n",
      " Sensitivity = 0.976\n",
      " Specificity = 0.161\n",
      " Pos. Pred. Val. = 0.444\n",
      "Try p = 0.9\n",
      " Accuracy = 0.656\n",
      " Sensitivity = 0.176\n",
      " Specificity = 0.984\n",
      " Pos. Pred. Val. = 0.882\n"
     ]
    },
    {
     "data": {
      "text/plain": [
       "(0.6555023923444976,\n",
       " 0.17647058823529413,\n",
       " 0.9838709677419355,\n",
       " 0.8823529411764706)"
      ]
     },
     "execution_count": 12,
     "metadata": {},
     "output_type": "execute_result"
    }
   ],
   "source": [
    "# look at changing probability (p)\n",
    "random.seed(0)\n",
    "trainingSet, testSet = split80_20(examples)\n",
    "model = buildModel(trainingSet, False)\n",
    "\n",
    "print('Try p = 0.1')\n",
    "truePos, falsePos, trueNeg, falseNeg =\\\n",
    "                   applyModel(model, testSet, 'Survived', 0.1)\n",
    "getStats(truePos, falsePos, trueNeg, falseNeg)\n",
    "\n",
    "print('Try p = 0.9')\n",
    "truePos, falsePos, trueNeg, falseNeg =\\\n",
    "                   applyModel(model, testSet, 'Survived', 0.9)\n",
    "getStats(truePos, falsePos, trueNeg, falseNeg)"
   ]
  },
  {
   "cell_type": "markdown",
   "metadata": {},
   "source": [
    "- by changing probability, we make decision that is more important to not miss survivors than it is to guess too high\n",
    "- p = 0.9 gives higher accuracy\n",
    "- key difference: going from p=0.1 to p=0.9 drastically decreased sensitivity\n",
    "- accuracy stays relatively the same, since most people died"
   ]
  },
  {
   "cell_type": "markdown",
   "metadata": {},
   "source": [
    "## Receiver operating characteristic (ROC)\n",
    "- don't want to make a decision about the cutoff\n",
    "- look at all possible cutoffs instead\n",
    "- build one model, vary p, and apply the model with same test set but different p\n",
    "    - keep track of all the results\n",
    "    - plot sensitivity versus 1 - specificity"
   ]
  },
  {
   "cell_type": "code",
   "execution_count": 15,
   "metadata": {},
   "outputs": [],
   "source": [
    "def buildROC(trainingSet, testSet, title, plot = True):\n",
    "    model = buildModel(trainingSet, True)\n",
    "    xVals, yVals = [], []\n",
    "    p = 0.0\n",
    "    while p <= 1.0:\n",
    "        truePos, falsePos, trueNeg, falseNeg =\\\n",
    "                               applyModel(model, testSet,\n",
    "                               'Survived', p)\n",
    "        xVals.append(1.0 - specificity(trueNeg, falsePos))\n",
    "        yVals.append(sensitivity(truePos, falseNeg))\n",
    "        p += 0.01\n",
    "    auroc = sklearn.metrics.auc(xVals, yVals)  # area under the curve\n",
    "    if plot:\n",
    "        pylab.plot(xVals, yVals)\n",
    "        pylab.plot([0,1], [0,1])\n",
    "        title = title + '\\nAUROC = ' + str(round(auroc,3))\n",
    "        pylab.title(title)\n",
    "        pylab.xlabel('1 - specificity')\n",
    "        pylab.ylabel('Sensitivity')\n",
    "    return auroc"
   ]
  },
  {
   "cell_type": "code",
   "execution_count": 16,
   "metadata": {},
   "outputs": [
    {
     "name": "stdout",
     "output_type": "stream",
     "text": [
      "model.classes_ = ['Died' 'Survived']\n",
      "For label Survived\n",
      "    C2 = -1.3714731011951065\n",
      "    C3 = -2.2428284865863897\n",
      "    age = -0.03746028761976204\n",
      "    male gender = -2.2877027913042673\n"
     ]
    },
    {
     "data": {
      "text/plain": [
       "0.860246679316888"
      ]
     },
     "execution_count": 16,
     "metadata": {},
     "output_type": "execute_result"
    },
    {
     "data": {
      "image/png": "[encoded data removed]",
      "text/plain": [
       "<Figure size 432x288 with 1 Axes>"
      ]
     },
     "metadata": {
      "needs_background": "light"
     },
     "output_type": "display_data"
    }
   ],
   "source": [
    "random.seed(0)\n",
    "trainingSet, testSet = split80_20(examples)\n",
    "buildROC(trainingSet, testSet, 'ROC for Predicting Survival, 1 Split')"
   ]
  },
  {
   "cell_type": "markdown",
   "metadata": {},
   "source": [
    "- orange line represents a random classifier\n",
    "- area between blue curve and random classifier tells you how much better than random\n",
    "- whole area: area under receiver operating curve (AUROC)\n",
    "    - perfect classifier: this would be 1\n",
    "    - random (0.5) is as bad as you can do"
   ]
  },
  {
   "cell_type": "markdown",
   "metadata": {},
   "source": [
    "## There are three kinds of lies\n",
    "- lies\n",
    "- damned lies\n",
    "- STATISTICS\n",
    "- *Prof. Guttag puts on his \"numbers never lie\" cap*"
   ]
  },
  {
   "cell_type": "markdown",
   "metadata": {},
   "source": [
    "## Humans and statistics\n",
    "- \"*If you can't prove what you want to prove, demonstrate something else and pretend they are the same thing. In the daze that follows the collision of statistics with the human mind, hardly anyone will notice the difference.*\" -- Darrell Huff"
   ]
  },
  {
   "cell_type": "markdown",
   "metadata": {},
   "source": [
    "## Summary statistics\n",
    "- four groups each containing 11 x, y pairs\n",
    "- summary statistics for groups identical:\n",
    "    - mean x = 9.0\n",
    "    - mean y = 7.5\n",
    "    - variance of x = 10.0\n",
    "    - variance of y = 3.75\n",
    "    - linear regression model: y = 0.5x + 3 (for all four groups)\n",
    "- are four data sets really similar?\n",
    "    - their plots are entirely different\n",
    "- moral: statistics about data is not the same as the data\n",
    "- moral: use visualization tools to look at the data itself"
   ]
  },
  {
   "cell_type": "markdown",
   "metadata": {},
   "source": [
    "## Lying vs. telling the truth with pictures\n",
    "- look carefully at the axis labels and scales\n",
    "- ask whether the thigns being compared are actually comparable"
   ]
  },
  {
   "cell_type": "markdown",
   "metadata": {},
   "source": [
    "## Garbage In, Garbage Out\n",
    "- \"*On two occasions, I have been asked [by members of parliament] 'Pray, Mr. Babbage, if you put into the machine the wrong figures, will the right answers come out?' I am not able rightly to apprehend the kind of confusion of ideas that could provoke such a question.*\" -- Charles Babbage (1791-1871)"
   ]
  },
  {
   "cell_type": "markdown",
   "metadata": {},
   "source": [
    "## Calhoun's response to errors in data\n",
    "- \"*there were so many errors they balanced one another, and led to the same conclusions as if they were all correct.*\"\n",
    "- Was it the case that the measurement errors are unbiased and independent of each other, and therefore almost identically distributed on either side of the mean?\n",
    "- No, later analysis showed that the errors were not random but systematic.\n",
    "- \"*it was the census that was insane and not the colored people.*\" -- James Freeman Clarke\n",
    "- Moral: analysis of bad data can lead to dangerous conclusions. "
   ]
  },
  {
   "cell_type": "markdown",
   "metadata": {},
   "source": [
    "## sampling\n",
    "- all statistical techniques are based upon the assumption that by sampling a subset of a population, we can infer things about the population as a whole\n",
    "- as we have seen, *if random sampling is used*, one can make meaningful mathematical statements about the expected relation of the sample to the entire population\n",
    "- easy to get random samples in simulations\n",
    "- not so easy in the field, where some examples are more convenient to acquire than others"
   ]
  },
  {
   "cell_type": "markdown",
   "metadata": {},
   "source": [
    "## non-representative sampling\n",
    "- \"convenience sampling\" not usually random, e.g., \n",
    "    - survivor bias, e.g., course evaluations at end of course or grading final exam in 6.0002 on a strict curve\n",
    "    - non-response bias, e.g., opinion polls conducted by mail or online\n",
    "- when samples not random and independent, we can still do things like computer means and standard deviations, but **we should not draw conclusions from them** using things like the empirical rule and central limit theorem\n",
    "- moral: understand how data was collected, and whether assumptions used in the analysis are satisfied"
   ]
  }
 ],
 "metadata": {
  "kernelspec": {
   "display_name": "Python 3",
   "language": "python",
   "name": "python3"
  },
  "language_info": {
   "codemirror_mode": {
    "name": "ipython",
    "version": 3
   },
   "file_extension": ".py",
   "mimetype": "text/x-python",
   "name": "python",
   "nbconvert_exporter": "python",
   "pygments_lexer": "ipython3",
   "version": "3.7.6"
  }
 },
 "nbformat": 4,
 "nbformat_minor": 4
}
