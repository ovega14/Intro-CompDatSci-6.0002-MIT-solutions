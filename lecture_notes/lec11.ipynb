{
 "cells": [
  {
   "cell_type": "markdown",
   "metadata": {},
   "source": [
    "# 6.0002 Lecture 11: Introduction to Machine Learning"
   ]
  },
  {
   "cell_type": "markdown",
   "metadata": {},
   "source": [
    "**Speaker:** Prof. Eric Grimson"
   ]
  },
  {
   "cell_type": "markdown",
   "metadata": {},
   "source": [
    "## The plan ahead\n",
    "- machine learning is a huge topic -- whole courses devoted to it\n",
    "    - e.g., 6.008, 6.036, 6.860, 6.862, 6.867\n",
    "    - is central part of courses in natural language processing, computational biology, computer vision, robotics, other area\n",
    "- in 6.0002, we will\n",
    "    - provide an introduction to the basic ideas, including ways to measure distances between examples, and how to group examples based on distance to create models\n",
    "    - introduce classification methods, such as \"k nearest neighbor\" methods\n",
    "    - introduce clustering methods, such as \"k-means\""
   ]
  },
  {
   "cell_type": "markdown",
   "metadata": {},
   "source": [
    "## What is machine learning\n",
    "- all useful programs \"learn\" something\n",
    "- in the first lecture of 6.0001 we looked at an algorithm for finding square roots\n",
    "- last week we looked at using linear regression to find a model of a collection of points\n",
    "- early definition of machine learning:\n",
    "    - \"*Field of study that gives computers the ability to learn without being explicitly programmed.\"* -- Arthur Samuel (1959)\n",
    "        - computer pioneer who wrote first self-learning program, which played checkers -- learned from \"experience\"\n",
    "        - invented alpha-beta pruning -- widely used in decision tree searching\n",
    "- traditional programming\n",
    "    - data, program --> computer --> output (e.g. square root finder)\n",
    "- machine learning\n",
    "    - data, output --> computer --> program (e.g. curve fitting by linear regression)"
   ]
  },
  {
   "cell_type": "markdown",
   "metadata": {},
   "source": [
    "## How are things learned?\n",
    "- memorization\n",
    "    - accumulation of individual facts\n",
    "    - limited by\n",
    "        - time to observe facts\n",
    "        - memory to store facts\n",
    "    - this is **declaritive knowledge**\n",
    "- generalization\n",
    "    - deduce new facts from old facts\n",
    "    - limited by accuracy of deduction process\n",
    "        - essentially a predictive activity\n",
    "        - assumes that the past predicts the future\n",
    "- interested in extending to programs that can infer useful information from **implicit** patterns in data"
   ]
  },
  {
   "cell_type": "markdown",
   "metadata": {},
   "source": [
    "## Basic paradigm\n",
    "- observe set of examples: **training data**\n",
    "    - e.g. spatial deviations to mass displacements of spring\n",
    "    - e.g. football players, labeled by position, with height and weight data\n",
    "- infer something about process that generated that data\n",
    "    - e.g. fit polynomial curve using linear regression\n",
    "    - e.g. find canonical model of position, by statistics\n",
    "- use inference to make predictions about previously unseen data: **test data**\n",
    "    - e.g. predict displacements for other weights\n",
    "    - e.g. predict position of new players\n",
    "- variations on paradigm\n",
    "    - **supervised learning**: given a set of feature/label pairs, find a rule that predicts the label associated with a previously unseen input\n",
    "    - **unsupervised learning**: given a set of feature vectors (without labels) group them into \"natural clusters\" (or create labels for groups)"
   ]
  },
  {
   "cell_type": "markdown",
   "metadata": {},
   "source": [
    "## Clustering examples into groups\n",
    "- want to decide on \"similarity\" of examples, with goal of separating into distinct, \"natural\" groups\n",
    "    - similarity is a **distance measure**\n",
    "- suppose we know that there are k different groups in our training data, but don't know labels\n",
    "    - pick k samples (at random?) as exemplars\n",
    "    - cluster remaining samples by minimizing distance between samples in same cluster (**objective function**) -- put sample in a group with closest exemplar\n",
    "    - find median exampe in each cluster as new exemplar\n",
    "    - repeat until no change"
   ]
  },
  {
   "cell_type": "markdown",
   "metadata": {},
   "source": [
    "## Finding classifier surfaces\n",
    "- suppose data is labeled\n",
    "- given labeled groups in feature space, want to find subsurface in that space that separates the groups\n",
    "    - subject to constraints on complexity of subsurface\n",
    "- in this example, have 2D space, so find line (or connected set of line segments) that best separates the two groups\n",
    "- when examples well separated, this is straightforward\n",
    "- when examples in labeled groups overlap, may have to trade off false positives and false negatives\n"
   ]
  },
  {
   "cell_type": "markdown",
   "metadata": {},
   "source": [
    "## Machine learning methods\n",
    "- we will see some examples of machine learning methods:\n",
    "- learn models based on unlabeled data, by clustering training data into groups of nearby points\n",
    "    - resulting clusters can assign labels to new data\n",
    "- lean models that separate labeled groups of similar data from other groups\n",
    "    - may not be possible to perfectly separate groups without \"overfitting\"\n",
    "    - but can make decisions with respect to trading off \"false positives\" versus \"false negatives\"\n",
    "    - resulting classifiers can assign labels to new data"
   ]
  },
  {
   "cell_type": "markdown",
   "metadata": {},
   "source": [
    "## All ML methods require:\n",
    "- choosing traning data and evaluation method\n",
    "- representation of features\n",
    "- distance metric for feature vectors\n",
    "- objective function and constraints\n",
    "- optimization methof for learning the model"
   ]
  },
  {
   "cell_type": "markdown",
   "metadata": {},
   "source": [
    "## Feature representation\n",
    "- features never fully describe the situation\n",
    "    - \"All models are wrong, but some are useful.\" -- George Box\n",
    "- **feature engineering**\n",
    "    - represent examples by feature vectors that will facilitate generalization\n",
    "    - suppose I want to use 100 examples from the past to predict, at the start of the subject, which students will get an A in 6.0002\n",
    "    - some features surely helpful, e.g., GPA, prior programming experience (not a perfect predictor)\n",
    "    - others might cause overfitting, e.g., birth month, eye color\n",
    "- want to maximize ratio of useful input to irrelevant input\n",
    "    - signal-to-noise ratio (SNR)"
   ]
  },
  {
   "cell_type": "markdown",
   "metadata": {},
   "source": [
    "## Need to measure distances between features\n",
    "- feature engineering:\n",
    "    - deciding which features to include and which are merely adding noise to classifier\n",
    "    - defining how to measure distances between training examples (and ultimately between classifiers and new instances)\n",
    "    - deciding how to weight relative importance of different dimensions of feature vector, which impacts definition of distance"
   ]
  },
  {
   "cell_type": "markdown",
   "metadata": {},
   "source": [
    "## Measuring distance between animals\n",
    "- we can think of our animal examples as consisting of four binary features and one integer feature\n",
    "- one way to learn to separate reptiles from non-reptiles is to measure distance between pairs of examples, and use that:\n",
    "    - to cluster nearby examples into a common class (unlabeled data), or\n",
    "    - to find a classifier surface in a space of examples that optimally separates different (labeled) collections of examples from other collections\n",
    "- can convert examples into feature vectors:\n",
    "    - rattlesnake = [1, 1, 1, 1, 0]\n",
    "    - boa constictor = [0, 1, 0, 1, 0]\n",
    "    - dart frog = [1, 0, 1, 0, 4]"
   ]
  },
  {
   "cell_type": "markdown",
   "metadata": {},
   "source": [
    "## Minkowski metric\n",
    "- to measure distances between feature vectors:\n",
    "$$\\textrm{dist}(X1, X2, p) = \\left(\\sum_{k=1}^{\\textrm{len}}|X1_k - X2_k|^p\\right)^{\\frac{1}{p}}$$\n",
    "- $p=1$: Manhattan distance\n",
    "    - called as such because you can only walk on the straight lines (blocks) in NYC\n",
    "- $p=2$: Euclidean distance\n",
    "- typically use Euclidean metric; Manhattan metric may be more appropriate if different dimensions are not comparable"
   ]
  },
  {
   "cell_type": "code",
   "execution_count": 1,
   "metadata": {},
   "outputs": [],
   "source": [
    "def minkowskiDist(v1, v2, p):\n",
    "    \"\"\"Assumes v1 and v2 are equal-length arrays of numbers\n",
    "       Returns Minkowski distance of order p between v1 and v2\"\"\"\n",
    "    dist = 0.0\n",
    "    for i in range(len(v1)):\n",
    "        dist += abs(v1[i] - v2[i])**p\n",
    "    return dist**(1.0/p)"
   ]
  },
  {
   "cell_type": "markdown",
   "metadata": {},
   "source": [
    "## Code to Compare animals"
   ]
  },
  {
   "cell_type": "code",
   "execution_count": 2,
   "metadata": {},
   "outputs": [],
   "source": [
    "import pylab\n",
    "\n",
    "# animal class\n",
    "class Animal(object):\n",
    "    def __init__(self, name, features):\n",
    "        \"\"\"Assumes name a string; features a list of numbers\"\"\"\n",
    "        self.name = name\n",
    "        self.features = pylab.array(features)\n",
    "        \n",
    "    def getName(self):\n",
    "        return self.name\n",
    "    \n",
    "    def getFeatures(self):\n",
    "        return self.features\n",
    "    \n",
    "    def distance(self, other):\n",
    "        \"\"\"Assumes other an Animal\n",
    "           Returns the Euclidean distance between feature vectors\n",
    "              of self and other\"\"\"\n",
    "        return minkowskiDist(self.getFeatures(),\n",
    "                             other.getFeatures(), 2)"
   ]
  },
  {
   "cell_type": "code",
   "execution_count": 3,
   "metadata": {},
   "outputs": [],
   "source": [
    "# function to comapre animals\n",
    "def compareAnimals(animals, precision):\n",
    "    \"\"\"Assumes animals is a list of animals, precision an int >= 0\n",
    "       Builds a table of Euclidean distance between each animal\"\"\"\n",
    "    #Get labels for columns and rows\n",
    "    columnLabels = []\n",
    "    for a in animals:\n",
    "        columnLabels.append(a.getName())\n",
    "    rowLabels = columnLabels[:]\n",
    "    tableVals = []\n",
    "    #Get distances between pairs of animals\n",
    "    #For each row\n",
    "    for a1 in animals:\n",
    "        row = []\n",
    "        #For each column\n",
    "        for a2 in animals:\n",
    "            if a1 == a2:\n",
    "                row.append('--')\n",
    "            else:\n",
    "                distance = a1.distance(a2)\n",
    "                row.append(str(round(distance, precision)))\n",
    "        tableVals.append(row)\n",
    "    #Produce table\n",
    "    table = pylab.table(rowLabels = rowLabels,\n",
    "                        colLabels = columnLabels,\n",
    "                        cellText = tableVals,\n",
    "                        cellLoc = 'center',\n",
    "                        loc = 'center',\n",
    "                        colWidths = [0.2]*len(animals))\n",
    "    table.scale(1, 2.5)\n",
    "    pylab.title('Euclidean Distance Between Animals')"
   ]
  },
  {
   "cell_type": "code",
   "execution_count": 4,
   "metadata": {},
   "outputs": [
    {
     "data": {
      "image/png": "[encoded data removed]",
      "text/plain": [
       "<Figure size 432x288 with 1 Axes>"
      ]
     },
     "metadata": {
      "needs_background": "light"
     },
     "output_type": "display_data"
    }
   ],
   "source": [
    "rattlesnake = Animal('rattlesnake', [1,1,1,1,0])\n",
    "boa = Animal('boa\\nconstrictor', [0,1,0,1,0])\n",
    "dartFrog = Animal('dart frog', [1,0,1,0,4])\n",
    "animals = [rattlesnake, boa, dartFrog]\n",
    "compareAnimals(animals, 3)"
   ]
  },
  {
   "cell_type": "markdown",
   "metadata": {},
   "source": [
    "## Add an alligator"
   ]
  },
  {
   "cell_type": "code",
   "execution_count": 5,
   "metadata": {},
   "outputs": [
    {
     "data": {
      "image/png": "[encoded data removed]",
      "text/plain": [
       "<Figure size 432x288 with 1 Axes>"
      ]
     },
     "metadata": {
      "needs_background": "light"
     },
     "output_type": "display_data"
    }
   ],
   "source": [
    "alligator = Animal('alligator', [1,1,0,1,4])\n",
    "animals.append(alligator)\n",
    "compareAnimals(animals, 3)"
   ]
  },
  {
   "cell_type": "markdown",
   "metadata": {},
   "source": [
    "- alligator is closer to dart frog than to snakes-- why?\n",
    "    - alligator differs from frog in 3 features, from boa in only 2 features\n",
    "    - but scale on \"legs\" is from 0 to 4, on other features is 0 to 1\n",
    "    - \"legs\" dimension is disproportionately large"
   ]
  },
  {
   "cell_type": "markdown",
   "metadata": {},
   "source": [
    "## Using binary features"
   ]
  },
  {
   "cell_type": "code",
   "execution_count": 6,
   "metadata": {},
   "outputs": [
    {
     "data": {
      "image/png": "[encoded data removed]",
      "text/plain": [
       "<Figure size 432x288 with 1 Axes>"
      ]
     },
     "metadata": {
      "needs_background": "light"
     },
     "output_type": "display_data"
    }
   ],
   "source": [
    "rattlesnake = Animal('rattlesnake', [1,1,1,1,0])\n",
    "boa = Animal('boa\\nconstrictor', [0,1,0,1,0])\n",
    "dartFrog = Animal('dart frog', [1,0,1,0,1])\n",
    "alligator = Animal('alligator', [1,1,0,1,1])\n",
    "animals = [rattlesnake, boa, dartFrog, alligator]\n",
    "compareAnimals(animals, 3)"
   ]
  },
  {
   "cell_type": "markdown",
   "metadata": {},
   "source": [
    "- animals represented with binary features:\n",
    "    - rattlesnake = [1, 1, 1, 1, 0]\n",
    "    - boa constrictor = [0, 1, 0, 1, 0]\n",
    "    - dart frog = [1, 0, 1, 0, 1]\n",
    "    - alligator = [1, 1, 0, 1, 1]\n",
    "- now alligator is closer to snakes than it is to dart frog -- makes more sense\n",
    "- **feature engineering matters!**"
   ]
  },
  {
   "cell_type": "markdown",
   "metadata": {},
   "source": [
    "## Supervised versus unsupervised learning\n",
    "- in the next few lectures, we will see examples of earning algorithms:\n",
    "- when given unlabeled data, try to find clusters of examples near each other\n",
    "    - use centroids of clusters as definition of each learned class\n",
    "    - new data assigned to closest cluster\n",
    "- when given labeled data, learn mathematical surface that \"best\" separates labeled examples, subject to constraints on complexity of surface (don't overfit)\n",
    "    - new data assigned to class based on portion of feature space carved out by classifier surface in which it lies"
   ]
  },
  {
   "cell_type": "markdown",
   "metadata": {},
   "source": [
    "## Issue of concern when learning models\n",
    "- learned models will depend on:\n",
    "    - distance metric between examples\n",
    "    - choice of feature vectors\n",
    "    - constraints on complexity of model\n",
    "        - specified number of clusters\n",
    "        - complexity of separating surface\n",
    "        - want to avoid overfitting problem (each example is its own cluster, or a complex separating surface)"
   ]
  },
  {
   "cell_type": "markdown",
   "metadata": {},
   "source": [
    "## Clustering approaches\n",
    "- suppose we know that there are k different groups in out training data, but don't know labels\n",
    "    - pick k samples (at random?) as exemplars\n",
    "    - cluster remaining samples by minimizing distance between samples in same cluster (**objective function**)-- put sample in group with closest exemplar\n",
    "    - find median example in each cluster as new exemplar\n",
    "    - repeat until no change\n",
    "- issues:\n",
    "    - how do we decide on the best number of clusters?\n",
    "    - how do we select the best features and the best distance metric?"
   ]
  },
  {
   "cell_type": "markdown",
   "metadata": {},
   "source": [
    "## Classification approaches\n",
    "- want to find boundaries in feature space that separate different classes of labeled examples\n",
    "    - look for simple surface (e.g. best line or plane) that separates classes\n",
    "    - look for more complex surfaces (subject to constraints) that separates classes\n",
    "    - use voting schemes\n",
    "        - find k nearest training examples, use majority vote to select label\n",
    "- issues:\n",
    "    - how do we avoid over-fitting to data?\n",
    "    - how do we measure performance?\n",
    "    - how do we select best features?"
   ]
  },
  {
   "cell_type": "markdown",
   "metadata": {},
   "source": [
    "## Classification\n",
    "- attempt to minimize error on training data\n",
    "    - similar to fitting a curve to data\n",
    "- evaluate on training data"
   ]
  },
  {
   "cell_type": "markdown",
   "metadata": {},
   "source": [
    "## Confusion Matrices (training error)\n",
    "- 4x4 table, rows are the actual classification (pos or neg), colums are the predicted classification (pos or negative)\n",
    "    - so upper right corner are false negatives, lower left corner are false positives\n"
   ]
  },
  {
   "cell_type": "markdown",
   "metadata": {},
   "source": [
    "## Training accuracy of models\n",
    "$$\\textrm{accuracy} = \\frac{\\textrm{true positive} + \\textrm{true negative}}{\\textrm{true positive} + \\textrm{true negative} + \\textrm{false positive} + \\textrm{false negative}}$$"
   ]
  },
  {
   "cell_type": "markdown",
   "metadata": {},
   "source": [
    "## Other statistical measures\n",
    "- you will also see \"sensitivity\" versus \"specificity\"\n",
    "- sensitivity: percentage correctly found\n",
    "$$\\textrm{sensitivity} = \\frac{\\textrm{true positive}}{\\textrm{true positive} + \\textrm{true positive} + \\textrm{false negative}}$$\n",
    "- specificity: percentage correctly rejected\n",
    "$$\\textrm{specificity} = \\frac{\\textrm{true negative}}{\\textrm{true negative} + \\textrm{false positive}}$$"
   ]
  },
  {
   "cell_type": "markdown",
   "metadata": {},
   "source": [
    "## Summary\n",
    "- machine learning methods provide a way of building models of processes from data sets\n",
    "    - supervised learning uses labeled data, and creates classifiers that optimally separate data into known classes\n",
    "    - unsupervised learning tries to infer latent variables by clustering training examples into nearby groups\n",
    "- choice of features influences results\n",
    "- choice of distance measurement between examples influences results\n",
    "- we will see some examples of clustering methods, such as k-means\n",
    "- we will see some examples of classifiers such as k nearest neighbor methods"
   ]
  }
 ],
 "metadata": {
  "kernelspec": {
   "display_name": "Python 3",
   "language": "python",
   "name": "python3"
  },
  "language_info": {
   "codemirror_mode": {
    "name": "ipython",
    "version": 3
   },
   "file_extension": ".py",
   "mimetype": "text/x-python",
   "name": "python",
   "nbconvert_exporter": "python",
   "pygments_lexer": "ipython3",
   "version": "3.7.6"
  }
 },
 "nbformat": 4,
 "nbformat_minor": 4
}
