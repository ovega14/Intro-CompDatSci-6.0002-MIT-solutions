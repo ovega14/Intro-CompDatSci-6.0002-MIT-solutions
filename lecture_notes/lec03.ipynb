{
 "cells": [
  {
   "cell_type": "markdown",
   "metadata": {},
   "source": [
    "# 6.0002 Lecture 3: Graph-theoretic Models"
   ]
  },
  {
   "cell_type": "markdown",
   "metadata": {},
   "source": [
    "**Speaker:** Prof. Eric Grimson"
   ]
  },
  {
   "cell_type": "markdown",
   "metadata": {},
   "source": [
    "## Computational Models\n",
    "- programs that help us understand the world and solve practical problems\n",
    "- saw how we could map the informal problem of choosing what to eat into an optimization problem, and how we could design a program to solve it\n",
    "- now want to look at class of models called graphs"
   ]
  },
  {
   "cell_type": "markdown",
   "metadata": {},
   "source": [
    "## What's a graph?\n",
    "- set of nodes (vertices)\n",
    "    - might have properties associated with them\n",
    "- set of edges (arcs), each consisting of a pair of nodes\n",
    "    - undirected (graph)\n",
    "    - directed (digraph)\n",
    "        - source (parent) and destination (child) nodes\n",
    "    - unweighted or weighted"
   ]
  },
  {
   "cell_type": "markdown",
   "metadata": {},
   "source": [
    "## Why graphs?\n",
    "- to capture useful relationships among entities\n",
    "    - rail links between Paris and London\n",
    "    - how the atoms in a molecule are related to one another\n",
    "    - ancestral relationships"
   ]
  },
  {
   "cell_type": "markdown",
   "metadata": {},
   "source": [
    "## Trees: an important special case\n",
    "- a special kind of **directed** graph in which any pair of nodes is connected by a **single path**\n",
    "    - recall the search trees we used to solve knapsack problem\n",
    "        - looks like a graph starting at a single node, then branching out to more and more nodes downwards"
   ]
  },
  {
   "cell_type": "markdown",
   "metadata": {},
   "source": [
    "## Why graphs are so useful\n",
    "- world is full of networks based on relationships\n",
    "    - computer networks\n",
    "    - transportation networks\n",
    "    - financial networks\n",
    "    - sewer or water networks\n",
    "    - political networks\n",
    "    - criminal networks\n",
    "    - social networks\n",
    "- we will see that not only do graphs capture relationships in connected networks of elements, they also support **inference** on those structures\n",
    "    - finding sequences of links between elements -- is there a path from A to B\n",
    "    - finding the least expensive path between elements \n",
    "        - (a.k.a. shortest path problem)\n",
    "    - partitioning the graph into sets of connected elements \n",
    "        - (a.k.a. graph partition problem)\n",
    "    - finding the most efficient way to separate sets of connected elements \n",
    "        - (a.k.a. the min-cut / max-flow problem)"
   ]
  },
  {
   "cell_type": "markdown",
   "metadata": {},
   "source": [
    "## First reported use of graph theory\n",
    "- bridges of Königsberg (1735)\n",
    "- possible to take a walk that traverses each of the 7 bridges exactly once?"
   ]
  },
  {
   "cell_type": "markdown",
   "metadata": {},
   "source": [
    "## Leonhard Euler's model\n",
    "- make each island a node\n",
    "- each bridge an undirected edge\n",
    "- this model abstracts away irrelevant details\n",
    "    - size of islands\n",
    "    - lengths of bridges\n",
    "- is there a path that contains each edge exactly once?\n",
    "    - no!"
   ]
  },
  {
   "cell_type": "markdown",
   "metadata": {},
   "source": [
    "## Implementing and using graphs\n",
    "- building graphs\n",
    "    - nodes\n",
    "    - edges\n",
    "    - stitching together to make graphs\n",
    "- using graphs\n",
    "    - searching for paths between nodes\n",
    "    - searching for optimal paths between nodes"
   ]
  },
  {
   "cell_type": "markdown",
   "metadata": {},
   "source": [
    "## Class Node"
   ]
  },
  {
   "cell_type": "code",
   "execution_count": 1,
   "metadata": {},
   "outputs": [],
   "source": [
    "class Node(object):\n",
    "    def __init__(self, name):\n",
    "        \"\"\"Assumes name is a string\"\"\"\n",
    "        self.name = name\n",
    "    def getName(self):\n",
    "        return self.name\n",
    "    def __str__(self):\n",
    "        return self.name"
   ]
  },
  {
   "cell_type": "markdown",
   "metadata": {},
   "source": [
    "## Class Edge"
   ]
  },
  {
   "cell_type": "code",
   "execution_count": 2,
   "metadata": {},
   "outputs": [],
   "source": [
    "class Edge(object):\n",
    "    def __init__(self, src, dest):\n",
    "        \"\"\"Assumes src and dest are nodes\"\"\"\n",
    "        self.src = src\n",
    "        self.dest = dest\n",
    "    def getSource(self):\n",
    "        return self.src\n",
    "    def getDestination(self):\n",
    "        return self.dest\n",
    "    def __str__(self):\n",
    "        return self.src.getName() + '->'\\\n",
    "                + self.dest.getName()"
   ]
  },
  {
   "cell_type": "markdown",
   "metadata": {},
   "source": [
    "## Common representations of Digraphs\n",
    "- digraph is a directed graph\n",
    "    - edges pass in one direction only\n",
    "- adjacency matrix\n",
    "    - rows: source nodes\n",
    "    - columns: destination nodes\n",
    "    - Cell[s, d] = 1 if there is an edge from s to d, =0 otherwise\n",
    "    - note that in digraph, matrix is **not** symmetric\n",
    "- adjacency list\n",
    "    - associate with each node a list of destination nodes"
   ]
  },
  {
   "cell_type": "markdown",
   "metadata": {},
   "source": [
    "## Class Digraph"
   ]
  },
  {
   "cell_type": "code",
   "execution_count": 18,
   "metadata": {},
   "outputs": [],
   "source": [
    "class Digraph(object):\n",
    "    \"\"\"edges is a dict mapping each node to a list of its children\"\"\"\n",
    "    def __init__(self):\n",
    "        self.edges = {}\n",
    "    def addNode(self, node):\n",
    "        if node in self.edges:\n",
    "            raise ValueError('Duplicate node')\n",
    "        else:\n",
    "            self.edges[node] = []\n",
    "    def addEdge(self, edge):\n",
    "        src = edge.getSource()\n",
    "        dest = edge.getDestination()\n",
    "        if not (src in self.edges and dest in self.edges):\n",
    "            raise ValueError('Node not in graph')\n",
    "        self.edges[src].append(dest)\n",
    "    def childrenOf(self, node):\n",
    "        return self.edges[node]\n",
    "    def hasNode(self, node):\n",
    "        return node in self.edges\n",
    "    def getNode(self, name):\n",
    "        for n in self.edges:\n",
    "            if n.getName() == name:\n",
    "                return n\n",
    "        raise NameError(name) # only returns error if n not returned (above)\n",
    "    def __str__(self):\n",
    "        result = ''\n",
    "        for src in self.edges:\n",
    "            for dest in self.edges[src]:\n",
    "                result = result + src.getName() + '->'\\\n",
    "                        + dest.getName() + '\\n'\n",
    "        return result[:-1] # omit final newline"
   ]
  },
  {
   "cell_type": "markdown",
   "metadata": {},
   "source": [
    "## class Graph"
   ]
  },
  {
   "cell_type": "code",
   "execution_count": 5,
   "metadata": {},
   "outputs": [],
   "source": [
    "# subclass of digraph\n",
    "class Graph(Digraph):\n",
    "    def addEdge(self, edge):\n",
    "        Digraph.addEdge(self, edge)\n",
    "        rev = Edge(edge.getDestination(), edge.getSource())\n",
    "        Digraph.addEdge(self, rev)"
   ]
  },
  {
   "cell_type": "markdown",
   "metadata": {},
   "source": [
    "- Graph does not have directionality associated with an edge\n",
    "    - edges allow passages in either direction\n",
    "- why is Graph a subclass of Digraph?\n",
    "- Remember the substitution rule?\n",
    "    - if client code works correctly using an instance of the supertype, it should also work correctly when an instance of the subtype is substituted for the instance of the supertype\n",
    "- any program that works with a Digraph will also work with a Graph (but not *vice versa*)"
   ]
  },
  {
   "cell_type": "markdown",
   "metadata": {},
   "source": [
    "## A classic Graph optimization problem\n",
    "- shortest path from n1 to n2\n",
    "    - shortest sequence of edges such that\n",
    "        - source node of first edge is n1\n",
    "        - destination of last edge is n2\n",
    "        - for edges, e1 and e2, in the sequence, if e2 follows e1 in the sequence, the source of e2 is the destination of e1\n",
    "- shortest weighted path\n",
    "    - minimize the sum of the weights of edges in the path"
   ]
  },
  {
   "cell_type": "markdown",
   "metadata": {},
   "source": [
    "## Some shortest path problems\n",
    "- finding a route from one city to another\n",
    "- desinging communication networks\n",
    "- finding a path for a molecule through a chemical labyrinth"
   ]
  },
  {
   "cell_type": "markdown",
   "metadata": {},
   "source": [
    "## An example\n",
    "- adjacency list:\n",
    "    - Boston: Providence, New York\n",
    "    - Providence: Boston, New York\n",
    "    - New York: Chicago\n",
    "    - Chicago: Denver, Phoenix\n",
    "    - Denver: Phoenix, New York\n",
    "    - Los Angeles: Boston\n",
    "    - Phoenix:"
   ]
  },
  {
   "cell_type": "markdown",
   "metadata": {},
   "source": [
    "## Build the graph"
   ]
  },
  {
   "cell_type": "code",
   "execution_count": 7,
   "metadata": {},
   "outputs": [],
   "source": [
    "def buildCityGraph(graphType):\n",
    "    g = graphType()\n",
    "    for name in ('Boston', 'Providence', 'New York', 'Chicago', \n",
    "                 'Denver', 'Phoenix', 'Los Angeles'): # create 7 nodes\n",
    "        g.addNode(Node(name))\n",
    "    g.addEdge(Edge(g.getNode('Boston'), g.getNode('Providence')))\n",
    "    g.addEdge(Edge(g.getNode('Boston'), g.getNode('New York')))\n",
    "    g.addEdge(Edge(g.getNode('Providence'), g.getNode('Boston')))\n",
    "    g.addEdge(Edge(g.getNode('Providence'), g.getNode('New York')))\n",
    "    g.addEdge(Edge(g.getNode('New York'), g.getNode('Chicago')))\n",
    "    g.addEdge(Edge(g.getNode('Chicago'), g.getNode('Denver')))\n",
    "    g.addEdge(Edge(g.getNode('Chicago'), g.getNode('Phoenix')))\n",
    "    g.addEdge(Edge(g.getNode('Denver'), g.getNode('Phoenix')))\n",
    "    g.addEdge(Edge(g.getNode('Denver'), g.getNode('New York')))\n",
    "    g.addEdge(Edge(g.getNode('Los Angeles'), g.getNode('Boston')))\n",
    "    \n",
    "    return g"
   ]
  },
  {
   "cell_type": "markdown",
   "metadata": {},
   "source": [
    "## Finding the shortest path\n",
    "- algorithm 1: **depth-first search** (DFS)\n",
    "- similar to left-first depth-first method of enumerating a search tree (lecture 2)\n",
    "- main difference is that graph might have cycles, so we must keep track of what nodes we have visited to avoid going in infinite loops\n",
    "- note that we are using **divide-and-conquer**: \n",
    "    - if we can find a path from a source to an intermediate node, and a path from the intermediate node to the destination, the combination is a path from source to destination"
   ]
  },
  {
   "cell_type": "markdown",
   "metadata": {},
   "source": [
    "## Depth-First Search\n",
    "- start at an initial node\n",
    "- consider all the edges that leave that node, in some order\n",
    "- follow the first edge, and check to see if at goal node\n",
    "- if not, repeat the process from new node\n",
    "- continue until either find goal node, or run out of options\n",
    "    - when run out of options, backtrack to the previous node and try the next edge, repeating this process"
   ]
  },
  {
   "cell_type": "markdown",
   "metadata": {},
   "source": [
    "## Depth-First Search (DFS)"
   ]
  },
  {
   "cell_type": "code",
   "execution_count": 8,
   "metadata": {},
   "outputs": [],
   "source": [
    "def DFS(graph, start, end, path, shortest, toPrint=False):\n",
    "    path = path + [start]\n",
    "    if toPrint:\n",
    "        print('Current DFS path:', printPath(path))\n",
    "    if start == end:\n",
    "        return path\n",
    "    for node in graph.childrenOf(start): # returning to this point in recursion to try next node\n",
    "        if node not in path: # avoid cycles\n",
    "            if shortest == None or len(path) < len(shortest):\n",
    "                newPath = DFS(graph, node, end, path, shortest, toPrint)\n",
    "                if newPath != None:\n",
    "                    shortest = newPath\n",
    "        elif toPrint:\n",
    "            print('Already visited', node)\n",
    "    return shortest"
   ]
  },
  {
   "cell_type": "code",
   "execution_count": 14,
   "metadata": {},
   "outputs": [],
   "source": [
    "def shortestPath(graph, start, end, toPrint=False):\n",
    "    return DFS(graph, start, end, [], None, toPrint)"
   ]
  },
  {
   "cell_type": "markdown",
   "metadata": {},
   "source": [
    "- DFS called from a wrapper function: shortestPath\n",
    "- gets recursion started properly\n",
    "- provides appropriate abstraction"
   ]
  },
  {
   "cell_type": "code",
   "execution_count": 15,
   "metadata": {},
   "outputs": [],
   "source": [
    "# helper function to print the path\n",
    "def printPath(path):\n",
    "    \"\"\"Assumes path is a list of nodes\"\"\"\n",
    "    result = ''\n",
    "    for i in range(len(path)):\n",
    "        result = result + str(path[i])\n",
    "        if i != len(path) - 1:\n",
    "            result = result + '->'\n",
    "    return result "
   ]
  },
  {
   "cell_type": "markdown",
   "metadata": {},
   "source": [
    "## Test DFS"
   ]
  },
  {
   "cell_type": "code",
   "execution_count": 19,
   "metadata": {},
   "outputs": [],
   "source": [
    "def testSP(source, destination):\n",
    "    g = buildCityGraph(Digraph)\n",
    "    sp = shortestPath(g, g.getNode(source), g.getNode(destination), toPrint=True)\n",
    "    if sp != None:\n",
    "        print('Shortest path from', source, 'to', destination, 'is', printPath(sp))\n",
    "    else:\n",
    "        print('There is no path from', source, 'to', destination)"
   ]
  },
  {
   "cell_type": "code",
   "execution_count": 20,
   "metadata": {},
   "outputs": [
    {
     "name": "stdout",
     "output_type": "stream",
     "text": [
      "Current DFS path: Boston\n",
      "Current DFS path: Boston->Providence\n",
      "Already visited Boston\n",
      "Current DFS path: Boston->Providence->New York\n",
      "Current DFS path: Boston->Providence->New York->Chicago\n",
      "Current DFS path: Boston->New York\n",
      "Current DFS path: Boston->New York->Chicago\n",
      "Shortest path from Boston to Chicago is Boston->New York->Chicago\n"
     ]
    }
   ],
   "source": [
    "testSP('Boston', 'Chicago')"
   ]
  },
  {
   "cell_type": "code",
   "execution_count": 21,
   "metadata": {},
   "outputs": [
    {
     "name": "stdout",
     "output_type": "stream",
     "text": [
      "Current DFS path: Chicago\n",
      "Current DFS path: Chicago->Denver\n",
      "Current DFS path: Chicago->Denver->Phoenix\n",
      "Current DFS path: Chicago->Denver->New York\n",
      "Already visited Chicago\n",
      "Current DFS path: Chicago->Phoenix\n",
      "There is no path from Chicago to Boston\n"
     ]
    }
   ],
   "source": [
    "testSP('Chicago', 'Boston')"
   ]
  },
  {
   "cell_type": "code",
   "execution_count": 22,
   "metadata": {},
   "outputs": [
    {
     "name": "stdout",
     "output_type": "stream",
     "text": [
      "Current DFS path: Boston\n",
      "Current DFS path: Boston->Providence\n",
      "Already visited Boston\n",
      "Current DFS path: Boston->Providence->New York\n",
      "Current DFS path: Boston->Providence->New York->Chicago\n",
      "Current DFS path: Boston->Providence->New York->Chicago->Denver\n",
      "Current DFS path: Boston->Providence->New York->Chicago->Denver->Phoenix\n",
      "Already visited New York\n",
      "Current DFS path: Boston->Providence->New York->Chicago->Phoenix\n",
      "Current DFS path: Boston->New York\n",
      "Current DFS path: Boston->New York->Chicago\n",
      "Current DFS path: Boston->New York->Chicago->Denver\n",
      "Current DFS path: Boston->New York->Chicago->Denver->Phoenix\n",
      "Already visited New York\n",
      "Current DFS path: Boston->New York->Chicago->Phoenix\n",
      "Shortest path from Boston to Phoenix is Boston->New York->Chicago->Phoenix\n"
     ]
    }
   ],
   "source": [
    "testSP('Boston', 'Phoenix')"
   ]
  },
  {
   "cell_type": "markdown",
   "metadata": {},
   "source": [
    "## Breadth-First Search\n",
    "- start at an initial node\n",
    "- consider all the edges that leave the node, in some order\n",
    "- follow the first edge, and check to see if at goal node\n",
    "- if not, try the next edge from the current node\n",
    "- continue until either find goal node, or run out of options\n",
    "    - when run out of edge options, move to next node at same distance from start, and repeat\n",
    "    - when run out of options, move to next level in the graph (all nodes one step further from start), and repeat"
   ]
  },
  {
   "cell_type": "markdown",
   "metadata": {},
   "source": [
    "## Algorithm 2: Breadth-First Search (BFS)"
   ]
  },
  {
   "cell_type": "code",
   "execution_count": 27,
   "metadata": {},
   "outputs": [],
   "source": [
    "# explore all paths with n hops before explorign any path with more than n hops\n",
    "def BFS(graph, start, end, toPrint=False):\n",
    "    initPath = [start]\n",
    "    pathQueue = [initPath]\n",
    "    while len(pathQueue) != 0:\n",
    "        # Get and remove oldest element in pathQueue\n",
    "        if printQueue:\n",
    "            print('Queue:', len(pathQueue))\n",
    "            for p in pathQueue:\n",
    "                print(printPath(p))\n",
    "        tmpPath = pathQueue.pop(0)\n",
    "        if toPrint:\n",
    "            print('Current BFS path:', printPath(tmpPath))\n",
    "            print()\n",
    "        lastNode = tmpPath[-1]\n",
    "        if lastNode == end:\n",
    "            return tmpPath\n",
    "        for nextNode in graph.childrenOf(lastNode):\n",
    "            if nextNode not in tmpPath:\n",
    "                newPath = tmpPath + [nextNode]\n",
    "                pathQueue.append(newPath)\n",
    "    return None"
   ]
  },
  {
   "cell_type": "markdown",
   "metadata": {},
   "source": [
    "## Test BFS"
   ]
  },
  {
   "cell_type": "code",
   "execution_count": 28,
   "metadata": {},
   "outputs": [],
   "source": [
    "def shortestPath(graph, start, end, toPrint = False):\n",
    "    \"\"\"Assumes graph is a Digraph; start and end are nodes\n",
    "       Returns a shortest path from start to end in graph\"\"\"\n",
    "    return BFS(graph, start, end, toPrint)"
   ]
  },
  {
   "cell_type": "code",
   "execution_count": 29,
   "metadata": {},
   "outputs": [
    {
     "name": "stdout",
     "output_type": "stream",
     "text": [
      "Queue: 1\n",
      "Boston\n",
      "Current BFS path: Boston\n",
      "\n",
      "Queue: 2\n",
      "Boston->Providence\n",
      "Boston->New York\n",
      "Current BFS path: Boston->Providence\n",
      "\n",
      "Queue: 2\n",
      "Boston->New York\n",
      "Boston->Providence->New York\n",
      "Current BFS path: Boston->New York\n",
      "\n",
      "Queue: 2\n",
      "Boston->Providence->New York\n",
      "Boston->New York->Chicago\n",
      "Current BFS path: Boston->Providence->New York\n",
      "\n",
      "Queue: 2\n",
      "Boston->New York->Chicago\n",
      "Boston->Providence->New York->Chicago\n",
      "Current BFS path: Boston->New York->Chicago\n",
      "\n",
      "Queue: 3\n",
      "Boston->Providence->New York->Chicago\n",
      "Boston->New York->Chicago->Denver\n",
      "Boston->New York->Chicago->Phoenix\n",
      "Current BFS path: Boston->Providence->New York->Chicago\n",
      "\n",
      "Queue: 4\n",
      "Boston->New York->Chicago->Denver\n",
      "Boston->New York->Chicago->Phoenix\n",
      "Boston->Providence->New York->Chicago->Denver\n",
      "Boston->Providence->New York->Chicago->Phoenix\n",
      "Current BFS path: Boston->New York->Chicago->Denver\n",
      "\n",
      "Queue: 4\n",
      "Boston->New York->Chicago->Phoenix\n",
      "Boston->Providence->New York->Chicago->Denver\n",
      "Boston->Providence->New York->Chicago->Phoenix\n",
      "Boston->New York->Chicago->Denver->Phoenix\n",
      "Current BFS path: Boston->New York->Chicago->Phoenix\n",
      "\n",
      "Shortest path from Boston to Phoenix is Boston->New York->Chicago->Phoenix\n"
     ]
    }
   ],
   "source": [
    "printQueue = True\n",
    "\n",
    "testSP('Boston', 'Phoenix')"
   ]
  },
  {
   "cell_type": "markdown",
   "metadata": {},
   "source": [
    "## What about a weighted shortest path\n",
    "- want to minimize the sum of the weights of the edges\n",
    "- DFS can be easily modified to do this\n",
    "- BFS cannot, since shortest weighted path may have more than the minimum number of hops"
   ]
  },
  {
   "cell_type": "markdown",
   "metadata": {},
   "source": [
    "## Recap\n",
    "- graphs are cool\n",
    "    - best way to create a model of many things\n",
    "        - capture relationships among objects\n",
    "    - many important problems can be posed as graph optimization problems we already know how to solve\n",
    "- depth-first and breadth-first search are important algorithms\n",
    "    - can be used to solve many problems"
   ]
  },
  {
   "cell_type": "code",
   "execution_count": null,
   "metadata": {},
   "outputs": [],
   "source": []
  }
 ],
 "metadata": {
  "kernelspec": {
   "display_name": "Python 3",
   "language": "python",
   "name": "python3"
  },
  "language_info": {
   "codemirror_mode": {
    "name": "ipython",
    "version": 3
   },
   "file_extension": ".py",
   "mimetype": "text/x-python",
   "name": "python",
   "nbconvert_exporter": "python",
   "pygments_lexer": "ipython3",
   "version": "3.7.6"
  }
 },
 "nbformat": 4,
 "nbformat_minor": 4
}
