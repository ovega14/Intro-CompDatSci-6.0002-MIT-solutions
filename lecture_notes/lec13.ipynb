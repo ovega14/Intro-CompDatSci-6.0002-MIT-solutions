{
 "cells": [
  {
   "cell_type": "markdown",
   "metadata": {},
   "source": [
    "# 6.0002 Lecture 13: Classification"
   ]
  },
  {
   "cell_type": "markdown",
   "metadata": {},
   "source": [
    "**Speaker:** Prof. John Guttag"
   ]
  },
  {
   "cell_type": "code",
   "execution_count": 1,
   "metadata": {},
   "outputs": [],
   "source": [
    "import pylab, random"
   ]
  },
  {
   "cell_type": "markdown",
   "metadata": {},
   "source": [
    "## Supervised Learning\n",
    "- regression\n",
    "    - predict a real number associated with a feature vector\n",
    "    - e.g. use linear regression to fit a curve to data\n",
    "- *classification*\n",
    "    - predict a discrete value (label) associated with a feature vector"
   ]
  },
  {
   "cell_type": "markdown",
   "metadata": {},
   "source": [
    "## Using distance matrix for classification\n",
    "- simplest approach is probably **nearest neighbor**\n",
    "- remember training data\n",
    "- when predicting the label of a new example\n",
    "    - find the nearest example in the training data\n",
    "    - predict the label associated with that example"
   ]
  },
  {
   "cell_type": "markdown",
   "metadata": {},
   "source": [
    "## K-nearest Neighbors\n",
    "- take a number $k$ of nearest neigbhors to new data and then let them \"vote\"\n",
    "    - label that dominates becomes predicted label of new data point"
   ]
  },
  {
   "cell_type": "markdown",
   "metadata": {},
   "source": [
    "## Advantages and disadvantages of KNN\n",
    "- advantages\n",
    "    - learning fast, no explicit training\n",
    "    - no theory required\n",
    "    - easy to explain method and results\n",
    "- disadvantages\n",
    "    - memory intensive and predictions can take a long time\n",
    "        - are better algorithms than brute force\n",
    "    - no model to shed light on process that generated data"
   ]
  },
  {
   "cell_type": "markdown",
   "metadata": {},
   "source": [
    "## The Titanic disaster\n",
    "- RMS titanic sank in the North Atlantic the morning of 15 April 1912, after colliding with an iceberg. Of the 1300 passengers aboard, 812 died. (703 of the 918 crew members died.)\n",
    "- database of 1046 passengers\n",
    "    - cabin class\n",
    "        - 1st, 2nd, or 3rd\n",
    "    - age\n",
    "    - gender"
   ]
  },
  {
   "cell_type": "markdown",
   "metadata": {},
   "source": [
    "## Is accuracy enough\n",
    "- if we just predict \"died\", accuracy will be >62% for passenger and >76% for crew members\n",
    "- consider a disease that occurs in 0.1% of population\n",
    "    - predicting disease-free has an accuracy of 0.999"
   ]
  },
  {
   "cell_type": "markdown",
   "metadata": {},
   "source": [
    "## Other metrics\n",
    "- how good is it at identifying positive (dead) cases:\n",
    "$$\\textrm{sensitivity} = \\frac{\\textrm{true positive}}{\\textrm{true positive} + \\textrm{true negative}}$$\n",
    "- how specific is it:\n",
    "$$\\textrm{specificity} = \\frac{\\textrm{true negative}}{\\textrm{true negative} + \\textrm{false positive}}$$\n",
    "- if we say somebody died, what's the probability that they really did:\n",
    "$$\\textrm{positive predictive value} = \\frac{\\textrm{true positive}}{\\textrm{true positive} + \\textrm{false positive}}$$\n",
    "- if we say somebody didn't die, what's the probability that they really didn't:\n",
    "$$\\textrm{negative predictive value} = \\frac{\\textrm{true negative}}{\\textrm{true negative} + \\textrm{false positive}}$$\n",
    "- note:\n",
    "    - sensitivity = recall\n",
    "    - specificity = precision"
   ]
  },
  {
   "cell_type": "markdown",
   "metadata": {},
   "source": [
    "## Testing methodology matters\n",
    "- leave-one-out\n",
    "- repeated random subsampling"
   ]
  },
  {
   "cell_type": "code",
   "execution_count": 2,
   "metadata": {},
   "outputs": [],
   "source": [
    "def minkowskiDist(v1, v2, p):\n",
    "    \"\"\"Assumes v1 and v2 are equal-length arrays of numbers\n",
    "       Returns Minkowski distance of order p between v1 and v2\"\"\"\n",
    "    dist = 0.0\n",
    "    for i in range(len(v1)):\n",
    "        dist += abs(v1[i] - v2[i])**p\n",
    "    return dist**(1/p)"
   ]
  },
  {
   "cell_type": "code",
   "execution_count": 3,
   "metadata": {},
   "outputs": [],
   "source": [
    "class Passenger(object):\n",
    "    featureNames = ('C1', 'C2', 'C3', 'age', 'male gender')\n",
    "    def __init__(self, pClass, age, gender, survived, name):\n",
    "        self.name = name\n",
    "        self.featureVec = [0, 0, 0, age, gender]\n",
    "        self.featureVec[pClass - 1] = 1\n",
    "        self.label = survived\n",
    "        self.cabinClass = pClass\n",
    "    def distance(self, other):\n",
    "        return minkowskiDist(self.featureVec, other.featureVec, 2)\n",
    "    def getClass(self):\n",
    "        return self.cabinClass\n",
    "    def getAge(self):\n",
    "        return self.featureVec[3]\n",
    "    def getGender(self):\n",
    "        return self.featureVec[4]\n",
    "    def getName(self):\n",
    "        return self.name\n",
    "    def getFeatures(self):\n",
    "        return self.featureVec[:]\n",
    "    def getLabel(self):\n",
    "        return self.label\n",
    "        \n",
    "def getTitanicData(fname):\n",
    "    data = {}\n",
    "    data['class'], data['survived'], data['age'] = [], [], []\n",
    "    data['gender'], data['name'] = [], []\n",
    "    f = open(fname)\n",
    "    line = f.readline()\n",
    "    while line != '':\n",
    "        split = line.split(',')\n",
    "        data['class'].append(int(split[0]))\n",
    "        data['age'].append(float(split[1]))\n",
    "        if split[2] == 'M':\n",
    "            data['gender'].append(1)\n",
    "        else:\n",
    "            data['gender'].append(0)\n",
    "        if split[3] == '1':\n",
    "            data['survived'].append('Survived')\n",
    "        else:\n",
    "            data['survived'].append('Died')\n",
    "        data['name'].append(split[4:])\n",
    "        line = f.readline()\n",
    "    return data"
   ]
  },
  {
   "cell_type": "code",
   "execution_count": 4,
   "metadata": {},
   "outputs": [
    {
     "name": "stdout",
     "output_type": "stream",
     "text": [
      "Finishe processing 1046 passengers\n",
      "\n"
     ]
    }
   ],
   "source": [
    "def buildTitanicExamples(fileName):\n",
    "    data = getTitanicData(fileName)\n",
    "    examples = []\n",
    "    for i in range(len(data['class'])):\n",
    "        p = Passenger(data['class'][i], data['age'][i],\n",
    "                      data['gender'][i], data['survived'][i],\n",
    "                      data['name'][i])\n",
    "        examples.append(p)\n",
    "    print('Finishe processing', len(examples), 'passengers\\n')    \n",
    "    return examples\n",
    "    \n",
    "examples = buildTitanicExamples('TitanicPassengers.txt')"
   ]
  },
  {
   "cell_type": "code",
   "execution_count": 5,
   "metadata": {},
   "outputs": [],
   "source": [
    "# nearest neighbor\n",
    "def findNearest(name, exampleSet, metric):\n",
    "    for e in exampleSet:\n",
    "        if e.getName() == name:\n",
    "            example = e\n",
    "            break\n",
    "    curDist = None\n",
    "    for e in exampleSet:\n",
    "        if e.getName() != name:\n",
    "            if curDist == None or\\\n",
    "               metric(example, e) < curDist:\n",
    "                nearest = e\n",
    "                curDist = metric(example, nearest)\n",
    "    return nearest"
   ]
  },
  {
   "cell_type": "markdown",
   "metadata": {},
   "source": [
    "## Helper code"
   ]
  },
  {
   "cell_type": "code",
   "execution_count": 6,
   "metadata": {},
   "outputs": [],
   "source": [
    "def accuracy(truePos, falsePos, trueNeg, falseNeg):\n",
    "    numerator = truePos + trueNeg\n",
    "    denominator = truePos + trueNeg + falsePos + falseNeg\n",
    "    return numerator/denominator"
   ]
  },
  {
   "cell_type": "code",
   "execution_count": 7,
   "metadata": {},
   "outputs": [],
   "source": [
    "# other metrics\n",
    "def sensitivity(truePos, falseNeg):\n",
    "    try:\n",
    "        return truePos/(truePos + falseNeg)\n",
    "    except ZeroDivisionError:\n",
    "        return float('nan')\n",
    "    \n",
    "def specificity(trueNeg, falsePos):\n",
    "    try:\n",
    "        return trueNeg/(trueNeg + falsePos)\n",
    "    except ZeroDivisionError:\n",
    "        return float('nan')\n",
    "    \n",
    "def posPredVal(truePos, falsePos):\n",
    "    try:\n",
    "        return truePos/(truePos + falsePos)\n",
    "    except ZeroDivisionError:\n",
    "        return float('nan')\n",
    "    \n",
    "def negPredVal(trueNeg, falseNeg):\n",
    "    try:\n",
    "        return trueNeg/(trueNeg + falseNeg)\n",
    "    except ZeroDivisionError:\n",
    "        return float('nan')"
   ]
  },
  {
   "cell_type": "code",
   "execution_count": 8,
   "metadata": {},
   "outputs": [],
   "source": [
    "def getStats(truePos, falsePos, trueNeg, falseNeg, toPrint = True):\n",
    "    accur = accuracy(truePos, falsePos, trueNeg, falseNeg)\n",
    "    sens = sensitivity(truePos, falseNeg)\n",
    "    spec = specificity(trueNeg, falsePos)\n",
    "    ppv = posPredVal(truePos, falsePos)\n",
    "    if toPrint:\n",
    "        print(' Accuracy =', round(accur, 3))\n",
    "        print(' Sensitivity =', round(sens, 3))\n",
    "        print(' Specificity =', round(spec, 3))\n",
    "        print(' Pos. Pred. Val. =', round(ppv, 3))\n",
    "    return (accur, sens, spec, ppv)"
   ]
  },
  {
   "cell_type": "markdown",
   "metadata": {},
   "source": [
    "## Leave-one-out"
   ]
  },
  {
   "cell_type": "code",
   "execution_count": 9,
   "metadata": {},
   "outputs": [],
   "source": [
    "def leaveOneOut(examples, method, toPrint=True):\n",
    "    truePos, falsePos, trueNeg, falseNeg = 0, 0, 0, 0\n",
    "    for i in range(len(examples)):\n",
    "        testCase = examples[i]\n",
    "        trainingData = examples[0:i] + examples[i+1:]\n",
    "        results = method(trainingData, [testCase])\n",
    "        truePos += results[0]\n",
    "        falsePos += results[1]\n",
    "        trueNeg += results[2]\n",
    "        falseNeg += results[3]\n",
    "    if toPrint:\n",
    "        getStats(truePos, falsePos, trueNeg, falseNeg)\n",
    "    return truePos, falsePos, trueNeg, falseNeg"
   ]
  },
  {
   "cell_type": "markdown",
   "metadata": {},
   "source": [
    "## Repeated random subsampling"
   ]
  },
  {
   "cell_type": "code",
   "execution_count": 10,
   "metadata": {},
   "outputs": [],
   "source": [
    "def split80_20(examples):\n",
    "    sampleIndices = random.sample(range(len(examples)), len(examples)//5)\n",
    "    trainingSet, testSet = [], []\n",
    "    for i in range(len(examples)):\n",
    "        if i in sampleIndices:\n",
    "            testSet.append(examples[i])\n",
    "        else:\n",
    "            trainingSet.append(examples[i])\n",
    "    return trainingSet, testSet"
   ]
  },
  {
   "cell_type": "code",
   "execution_count": 15,
   "metadata": {},
   "outputs": [],
   "source": [
    "def randomSplits(examples, method, numSplits, toPrint=True):\n",
    "    truePos, falsePos, trueNeg, falseNeg = 0, 0, 0, 0\n",
    "    random.seed(0)\n",
    "    for t in range(numSplits):\n",
    "        trainingSet, testSet = split80_20(examples)\n",
    "        results = method(trainingSet, testSet)\n",
    "        truePos += results[0]\n",
    "        falsePos += results[1]\n",
    "        trueNeg += results[2]\n",
    "        falseNeg += results[3]\n",
    "    getStats(truePos/numSplits, falsePos/numSplits,\n",
    "             trueNeg/numSplits, falseNeg/numSplits, toPrint)\n",
    "    return truePos/numSplits, falsePos/numSplits, trueNeg/numSplits, falseNeg/numSplits"
   ]
  },
  {
   "cell_type": "markdown",
   "metadata": {},
   "source": [
    "## Let's try KNN"
   ]
  },
  {
   "cell_type": "code",
   "execution_count": 16,
   "metadata": {},
   "outputs": [],
   "source": [
    "def findKNearest(example, exampleSet, k):\n",
    "    kNearest, distances = [], []\n",
    "    #Build lists containing first k examples and their distances\n",
    "    for i in range(k):\n",
    "        kNearest.append(exampleSet[i])\n",
    "        distances.append(example.distance(exampleSet[i]))\n",
    "    maxDist = max(distances) #Get maximum distance\n",
    "    #Look at examples not yet considered\n",
    "    for e in exampleSet[k:]:\n",
    "        dist = example.distance(e)\n",
    "        if dist < maxDist:\n",
    "            #replace farther neighbor by this one\n",
    "            maxIndex = distances.index(maxDist)\n",
    "            kNearest[maxIndex] = e\n",
    "            distances[maxIndex] = dist\n",
    "            maxDist = max(distances)      \n",
    "    return kNearest, distances"
   ]
  },
  {
   "cell_type": "code",
   "execution_count": 17,
   "metadata": {},
   "outputs": [],
   "source": [
    "def KNearestClassify(training, testSet, label, k):\n",
    "    \"\"\"Assumes training & testSet lists of examples, k an int\n",
    "       Predicts whether each example in testSet has label\n",
    "       Returns number of true positives, false positives,\n",
    "          true negatives, and false negatives\"\"\"\n",
    "    truePos, falsePos, trueNeg, falseNeg = 0, 0, 0, 0\n",
    "    for testCase in testSet:\n",
    "        nearest, distances = findKNearest(testCase, training, k)\n",
    "        #conduct vote\n",
    "        numMatch = 0\n",
    "        for i in range(len(nearest)):\n",
    "            if nearest[i].getLabel() == label:\n",
    "                numMatch += 1\n",
    "        if numMatch > k//2: #guess label\n",
    "            if testCase.getLabel() == label:\n",
    "                truePos += 1\n",
    "            else:\n",
    "                falsePos += 1\n",
    "        else: #guess not label\n",
    "            if testCase.getLabel() != label:\n",
    "                trueNeg += 1\n",
    "            else:\n",
    "                falseNeg += 1\n",
    "    return truePos, falsePos, trueNeg, falseNeg"
   ]
  },
  {
   "cell_type": "markdown",
   "metadata": {},
   "source": [
    "## Results"
   ]
  },
  {
   "cell_type": "code",
   "execution_count": 18,
   "metadata": {},
   "outputs": [
    {
     "name": "stdout",
     "output_type": "stream",
     "text": [
      "Average of 10 80/20 splits using KNN (k=3)\n",
      " Accuracy = 0.766\n",
      " Sensitivity = 0.67\n",
      " Specificity = 0.836\n",
      " Pos. Pred. Val. = 0.747\n",
      "Average of LOO testing using KNN (k=3)\n",
      " Accuracy = 0.769\n",
      " Sensitivity = 0.663\n",
      " Specificity = 0.842\n",
      " Pos. Pred. Val. = 0.743\n"
     ]
    }
   ],
   "source": [
    "knn = lambda training, testSet: KNearestClassify(training, testSet, 'Survived', 3)\n",
    "numSplits = 10\n",
    "print('Average of', numSplits, '80/20 splits using KNN (k=3)')\n",
    "truePos, falsePos, trueNeg, falseNeg = randomSplits(examples, knn, numSplits)\n",
    "\n",
    "print('Average of LOO testing using KNN (k=3)')\n",
    "truePos, falsePos, trueNeg, falseNeg = leaveOneOut(examples, knn)"
   ]
  },
  {
   "cell_type": "markdown",
   "metadata": {},
   "source": [
    "- considerably better than 62%\n",
    "- not much difference between experiments"
   ]
  },
  {
   "cell_type": "markdown",
   "metadata": {},
   "source": [
    "## Logistic Regression\n",
    "- analogous to linear regression\n",
    "- designed explicitly for predicting **probability** of an event\n",
    "    - dependent variable can only take on a finite set of values\n",
    "        - usually 0 or 1\n",
    "- finds **weights** for each feature\n",
    "    - positive implies variable positively correlated with outcome\n",
    "    - negative implies variable negatively correlated with outcome\n",
    "    - absolute magnitude related to strength of correlation\n",
    "- optimization problem is a bit complex, key is use of a log function"
   ]
  },
  {
   "cell_type": "markdown",
   "metadata": {},
   "source": [
    "## class LogisticRegression"
   ]
  },
  {
   "cell_type": "code",
   "execution_count": 19,
   "metadata": {},
   "outputs": [],
   "source": [
    "import sklearn.linear_model"
   ]
  },
  {
   "cell_type": "markdown",
   "metadata": {},
   "source": [
    "- fit(sequence of feature vectors, sequence of labels)\n",
    "    - returns object of type LogisticRegression\n",
    "- coef_\n",
    "    - returns weights of features\n",
    "- predict_proba\n",
    "    - returns probabilities of labels"
   ]
  },
  {
   "cell_type": "markdown",
   "metadata": {},
   "source": [
    "## building a model"
   ]
  },
  {
   "cell_type": "code",
   "execution_count": 20,
   "metadata": {},
   "outputs": [],
   "source": [
    "def buildModel(examples, toPrint=True):\n",
    "    featureVecs, labels = [], []\n",
    "    for e in examples:\n",
    "        featureVecs.append(e.getFeatures())\n",
    "        labels.append(e.getLabel())\n",
    "    LogisticRegression = sklearn.linear_model.LogisticRegression\n",
    "    model = LogisticRegression().fit(featureVecs, labels)\n",
    "    if toPrint:\n",
    "        print('model.classes_ =', model.classes_)\n",
    "        for i in range(len(model.coef_)):\n",
    "            print('For label', model.classes_[1])\n",
    "            for j in range(len(model.coef_[0])):\n",
    "                print('   ', Passenger.featureNames[j], '=',\n",
    "                      model.coef_[0][j])\n",
    "    return model"
   ]
  },
  {
   "cell_type": "markdown",
   "metadata": {},
   "source": [
    "## applying model"
   ]
  },
  {
   "cell_type": "code",
   "execution_count": 21,
   "metadata": {},
   "outputs": [],
   "source": [
    "def applyModel(model, testSet, label, prob=0.5):\n",
    "    testFeatureVecs = [e.getFeatures() for e in testSet]\n",
    "    probs = model.predict_proba(testFeatureVecs)\n",
    "    truePos, falsePos, trueNeg, falseNeg = 0, 0, 0, 0\n",
    "    for i in range(len(probs)):\n",
    "        if probs[i][1] > prob:\n",
    "            if testSet[i].getLabel() == label:\n",
    "                truePos += 1\n",
    "            else:\n",
    "                falsePos += 1\n",
    "        else:\n",
    "            if testSet[i].getLabel() != label:\n",
    "                trueNeg += 1\n",
    "            else:\n",
    "                falseNeg += 1\n",
    "    return truePos, falsePos, trueNeg, falseNeg"
   ]
  },
  {
   "cell_type": "markdown",
   "metadata": {},
   "source": [
    "## Python aside: List comprehension\n",
    "- expr for id in L\n",
    "- creates a list by evaluating expr len(L) times with id in expr replaced by each element of L"
   ]
  },
  {
   "cell_type": "code",
   "execution_count": 22,
   "metadata": {},
   "outputs": [
    {
     "name": "stdout",
     "output_type": "stream",
     "text": [
      "[0, 1, 4, 9, 16, 25, 36, 49, 64, 81]\n",
      "[0, 4, 16, 36, 64]\n"
     ]
    }
   ],
   "source": [
    "L = [x*x for x in range(10)]\n",
    "print(L)\n",
    "\n",
    "L = [x*x for x in range(10) if x%2 == 0]\n",
    "print(L)"
   ]
  },
  {
   "cell_type": "markdown",
   "metadata": {},
   "source": [
    "## Putting it together"
   ]
  },
  {
   "cell_type": "code",
   "execution_count": 26,
   "metadata": {},
   "outputs": [],
   "source": [
    "def lr(trainingData, testData, prob=0.5):\n",
    "    model = buildModel(trainingData, False)\n",
    "    results = applyModel(model, testData, 'Survived', prob)\n",
    "    return results"
   ]
  },
  {
   "cell_type": "markdown",
   "metadata": {},
   "source": [
    "## Results"
   ]
  },
  {
   "cell_type": "code",
   "execution_count": 27,
   "metadata": {},
   "outputs": [
    {
     "name": "stdout",
     "output_type": "stream",
     "text": [
      "Average of 10 80/20 splits LR\n",
      " Accuracy = 0.77\n",
      " Sensitivity = 0.697\n",
      " Specificity = 0.823\n",
      " Pos. Pred. Val. = 0.74\n",
      "Average of LOO testing using LR\n",
      " Accuracy = 0.785\n",
      " Sensitivity = 0.705\n",
      " Specificity = 0.84\n",
      " Pos. Pred. Val. = 0.752\n"
     ]
    }
   ],
   "source": [
    "# test logistic regression (LR)\n",
    "numSplits = 10\n",
    "print('Average of', numSplits, '80/20 splits LR')\n",
    "truePos, falsePos, trueNeg, falseNeg = randomSplits(examples, lr, numSplits)\n",
    "\n",
    "print('Average of LOO testing using LR')\n",
    "truePos, falsePos, trueNeg, falseNeg = leaveOneOut(examples, lr)"
   ]
  },
  {
   "cell_type": "markdown",
   "metadata": {},
   "source": [
    "## Compare to KNN results\n",
    "- performance not much different\n",
    "- logistic regression slightly better\n",
    "- also provides insight about variables"
   ]
  },
  {
   "cell_type": "markdown",
   "metadata": {},
   "source": [
    "## Looking at Feature weights"
   ]
  },
  {
   "cell_type": "code",
   "execution_count": 28,
   "metadata": {},
   "outputs": [
    {
     "name": "stdout",
     "output_type": "stream",
     "text": [
      "model.classes_ = ['Died' 'Survived']\n",
      "For label Survived\n",
      "    C1 = 1.1493657210845625\n",
      "    C2 = -0.08358519917707398\n",
      "    C3 = -1.0656512028060414\n",
      "    age = -0.033432942840003047\n",
      "    male gender = -2.423435165039198\n"
     ]
    },
    {
     "data": {
      "text/plain": [
       "LogisticRegression(C=1.0, class_weight=None, dual=False, fit_intercept=True,\n",
       "                   intercept_scaling=1, l1_ratio=None, max_iter=100,\n",
       "                   multi_class='auto', n_jobs=None, penalty='l2',\n",
       "                   random_state=None, solver='lbfgs', tol=0.0001, verbose=0,\n",
       "                   warm_start=False)"
      ]
     },
     "execution_count": 28,
     "metadata": {},
     "output_type": "execute_result"
    }
   ],
   "source": [
    "buildModel(examples, True)"
   ]
  },
  {
   "cell_type": "markdown",
   "metadata": {},
   "source": [
    "- first class (C1) passengers more likely to survive\n",
    "- age is negatively correlated\n",
    "    - the older passenger is, less likely they are to survive\n",
    "- being male is very negatively correlated"
   ]
  },
  {
   "cell_type": "markdown",
   "metadata": {},
   "source": [
    "## Changing the cutoff"
   ]
  },
  {
   "cell_type": "code",
   "execution_count": 29,
   "metadata": {},
   "outputs": [
    {
     "name": "stdout",
     "output_type": "stream",
     "text": [
      "Try p = 0.1\n",
      " Accuracy = 0.493\n",
      " Sensitivity = 0.976\n",
      " Specificity = 0.161\n",
      " Pos. Pred. Val. = 0.444\n",
      "Try p = 0.9\n",
      " Accuracy = 0.66\n",
      " Sensitivity = 0.188\n",
      " Specificity = 0.984\n",
      " Pos. Pred. Val. = 0.889\n"
     ]
    },
    {
     "data": {
      "text/plain": [
       "(0.6602870813397129,\n",
       " 0.18823529411764706,\n",
       " 0.9838709677419355,\n",
       " 0.8888888888888888)"
      ]
     },
     "execution_count": 29,
     "metadata": {},
     "output_type": "execute_result"
    }
   ],
   "source": [
    "random.seed(0)\n",
    "\n",
    "trainingSet, testSet = split80_20(examples)\n",
    "model = buildModel(trainingSet, False)\n",
    "print('Try p = 0.1')\n",
    "truePos, falsePos, trueNeg, falseNeg =\\\n",
    "                   applyModel(model, testSet, 'Survived', 0.1)\n",
    "getStats(truePos, falsePos, trueNeg, falseNeg)\n",
    "\n",
    "print('Try p = 0.9')\n",
    "truePos, falsePos, trueNeg, falseNeg =\\\n",
    "                   applyModel(model, testSet, 'Survived', 0.9)\n",
    "getStats(truePos, falsePos, trueNeg, falseNeg)"
   ]
  },
  {
   "cell_type": "markdown",
   "metadata": {},
   "source": [
    "## Receiver Operating Characteristic (ROC)"
   ]
  },
  {
   "cell_type": "code",
   "execution_count": 34,
   "metadata": {},
   "outputs": [],
   "source": [
    "def buildROC(trainingSet, testSet, title, plot=True):\n",
    "    model = buildModel(trainingSet, True)\n",
    "    xVals, yVals = [], []\n",
    "    p = 0.0\n",
    "    while p <= 1.0:\n",
    "        truePos, falsePos, trueNeg, falseNeg =\\\n",
    "                               applyModel(model, testSet,\n",
    "                               'Survived', p)\n",
    "        xVals.append(1.0 - specificity(trueNeg, falsePos))\n",
    "        yVals.append(sensitivity(truePos, falseNeg))\n",
    "        p += 0.01\n",
    "    auroc = sklearn.metrics.auc(xVals, yVals)\n",
    "    if plot:\n",
    "        pylab.plot(xVals, yVals)\n",
    "        pylab.plot([0,1], [0,1])\n",
    "        title = title + '\\nAUROC = ' + str(round(auroc,3))\n",
    "        pylab.title(title)\n",
    "        pylab.xlabel('1 - specificity')\n",
    "        pylab.ylabel('Sensitivity')\n",
    "    return auroc"
   ]
  },
  {
   "cell_type": "code",
   "execution_count": 35,
   "metadata": {},
   "outputs": [],
   "source": [
    "#set line width\n",
    "pylab.rcParams['lines.linewidth'] = 4\n",
    "#set font size for titles \n",
    "pylab.rcParams['axes.titlesize'] = 20\n",
    "#set font size for labels on axes\n",
    "pylab.rcParams['axes.labelsize'] = 20\n",
    "#set size of numbers on x-axis\n",
    "pylab.rcParams['xtick.labelsize'] = 16\n",
    "#set size of numbers on y-axis\n",
    "pylab.rcParams['ytick.labelsize'] = 16\n",
    "#set size of ticks on x-axis\n",
    "pylab.rcParams['xtick.major.size'] = 7\n",
    "#set size of ticks on y-axis\n",
    "pylab.rcParams['ytick.major.size'] = 7\n",
    "#set size of markers\n",
    "pylab.rcParams['lines.markersize'] = 10\n",
    "#set number of examples shown in legends\n",
    "pylab.rcParams['legend.numpoints'] = 1"
   ]
  },
  {
   "cell_type": "code",
   "execution_count": 36,
   "metadata": {},
   "outputs": [
    {
     "name": "stdout",
     "output_type": "stream",
     "text": [
      "model.classes_ = ['Died' 'Survived']\n",
      "For label Survived\n",
      "    C1 = 1.2864157435170809\n",
      "    C2 = -0.20872070112571148\n",
      "    C3 = -1.0778841072853356\n",
      "    age = -0.0393718540430409\n",
      "    male gender = -2.304054249956562\n"
     ]
    },
    {
     "data": {
      "text/plain": [
       "0.860056925996205"
      ]
     },
     "execution_count": 36,
     "metadata": {},
     "output_type": "execute_result"
    },
    {
     "data": {
      "image/png": "[encoded data removed]",
      "text/plain": [
       "<Figure size 432x288 with 1 Axes>"
      ]
     },
     "metadata": {
      "needs_background": "light"
     },
     "output_type": "display_data"
    }
   ],
   "source": [
    "random.seed(0)\n",
    "trainingSet, testSet = split80_20(examples)\n",
    "buildROC(trainingSet, testSet, 'ROC for Predicting Survival, 1 Split')"
   ]
  }
 ],
 "metadata": {
  "kernelspec": {
   "display_name": "Python 3",
   "language": "python",
   "name": "python3"
  },
  "language_info": {
   "codemirror_mode": {
    "name": "ipython",
    "version": 3
   },
   "file_extension": ".py",
   "mimetype": "text/x-python",
   "name": "python",
   "nbconvert_exporter": "python",
   "pygments_lexer": "ipython3",
   "version": "3.7.6"
  }
 },
 "nbformat": 4,
 "nbformat_minor": 4
}
