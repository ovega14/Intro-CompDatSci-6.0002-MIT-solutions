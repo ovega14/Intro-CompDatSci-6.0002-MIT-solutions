{
 "cells": [
  {
   "cell_type": "markdown",
   "metadata": {},
   "source": [
    "# 6.0002 Lecture 5: Random Walks"
   ]
  },
  {
   "cell_type": "markdown",
   "metadata": {},
   "source": [
    "**Speaker:** Prof. John Guttag"
   ]
  },
  {
   "cell_type": "markdown",
   "metadata": {},
   "source": [
    "## Why random walks?\n",
    "- random walks are important in many domains\n",
    "    - understanding the stock market (maybe)\n",
    "    - modeling diffusion processes\n",
    "    - etc.\n",
    "- good illustration of how to use simulations to understand things\n",
    "- excuse to cover some important programming topics\n",
    "    - practice with classes\n",
    "    - practice with plotting"
   ]
  },
  {
   "cell_type": "markdown",
   "metadata": {},
   "source": [
    "## Drunkard's walk\n",
    "- each time step, he takes a step in either: north, west, east, or south direction\n",
    "- confined to a discrete spatial grid (lattice)"
   ]
  },
  {
   "cell_type": "markdown",
   "metadata": {},
   "source": [
    "## Expected distance after 100,000 steps?\n",
    "- too many individual cases to consider\n",
    "- need a different approach to problem\n",
    "- will use simulation"
   ]
  },
  {
   "cell_type": "markdown",
   "metadata": {},
   "source": [
    "## Structure of simulation\n",
    "- simulate one walk of k steps\n",
    "- simulate n such walks\n",
    "- report average distance from origin"
   ]
  },
  {
   "cell_type": "markdown",
   "metadata": {},
   "source": [
    "## first, some useful abstractions\n",
    "- location - a place\n",
    "- field - a collection of places and drunks\n",
    "- drunk - somebody who wanders from place to place in a field"
   ]
  },
  {
   "cell_type": "markdown",
   "metadata": {},
   "source": [
    "## Class Location"
   ]
  },
  {
   "cell_type": "code",
   "execution_count": 1,
   "metadata": {},
   "outputs": [],
   "source": [
    "class Location(object):\n",
    "    def __init__(self, x, y):\n",
    "        \"\"\"x and y are floats\"\"\"\n",
    "        self.x = x\n",
    "        self.y = y\n",
    "        \n",
    "    def move(self, deltaX, deltaY):\n",
    "        \"\"\"deltaX and deltaY are floats\"\"\"\n",
    "        return Location(self.x + deltaX, self.y + deltaY)\n",
    "    \n",
    "    def getX(self):\n",
    "        return self.x\n",
    "    def getY(self):\n",
    "        return self.y\n",
    "    \n",
    "    def distFrom(self, other):\n",
    "        xDist = self.x - other.getX()\n",
    "        yDist = self.y - other.getY()\n",
    "        return (xDist**2 + yDist**2)**0.5\n",
    "    \n",
    "    def __str__(self):\n",
    "        return '<' + str(self.x) + ', ' + str(self.y) + '>'"
   ]
  },
  {
   "cell_type": "markdown",
   "metadata": {},
   "source": [
    "## Class Drunk"
   ]
  },
  {
   "cell_type": "code",
   "execution_count": 2,
   "metadata": {},
   "outputs": [],
   "source": [
    "class Drunk(object):\n",
    "    def __init__(self, name=None):\n",
    "        \"\"\"Assumes name is a str\"\"\"\n",
    "        self.name = name\n",
    "    \n",
    "    def __str__(self):\n",
    "        if self != None:\n",
    "            return self.name\n",
    "        return 'Anonymous'"
   ]
  },
  {
   "cell_type": "markdown",
   "metadata": {},
   "source": [
    "- the above class not intended to be useful on its own\n",
    "- a base class to be inherited"
   ]
  },
  {
   "cell_type": "markdown",
   "metadata": {},
   "source": [
    "## Two subclasses of Drunk\n",
    "- the \"usual\" drunk, who wanders around at random\n",
    "- the \"masochistic\" drunk, who tries to move northward\n",
    "    - a.k.a. a New England-er"
   ]
  },
  {
   "cell_type": "code",
   "execution_count": 3,
   "metadata": {},
   "outputs": [],
   "source": [
    "import random\n",
    "\n",
    "class UsualDrunk(Drunk):\n",
    "    def takeStep(self):\n",
    "        stepChoices = [(0, 1), (0, -1), (1, 0), (-1, 0)]\n",
    "        return random.choice(stepChoices)\n",
    "\n",
    "class MasochisticDrunk(Drunk):\n",
    "    # biased random walk: goes more north than south\n",
    "    def takeStep(self):\n",
    "        stepChoices = [(0.0, 1.1), (0.0, -0.9), (1.0, 0.0), (-1.0, 0.0)]\n",
    "        return random.choice(stepChoices)"
   ]
  },
  {
   "cell_type": "markdown",
   "metadata": {},
   "source": [
    "- are drunks mutable or immutable?\n",
    "    - nothing is getting changed... \n",
    "    - the drunk gets greated, and then returns the step"
   ]
  },
  {
   "cell_type": "markdown",
   "metadata": {},
   "source": [
    "## Class Field"
   ]
  },
  {
   "cell_type": "code",
   "execution_count": 4,
   "metadata": {},
   "outputs": [],
   "source": [
    "class Field(object):\n",
    "    def __init__(self):\n",
    "        self.drunks = {}\n",
    "    \n",
    "    def addDrunk(self, drunk, loc):\n",
    "        if drunk in self.drunks:\n",
    "            raise ValueError('Duplicate drunk')\n",
    "        else:\n",
    "            self.drunks[drunk] = loc\n",
    "    \n",
    "    def getLoc(self, drunk):\n",
    "        if drunk not in self.drunks:\n",
    "            raise ValueError('Drunk not in field')\n",
    "        return self.drunks[drunk]\n",
    "    \n",
    "    def moveDrunk(self, drunk):\n",
    "        if drunk not in self.drunks:\n",
    "            raise ValueError('Drunk not in field')\n",
    "        xDist, yDist = drunk.takeStep()\n",
    "        # use move method of Location to get new location\n",
    "        self.drunks[drunk] = self.drunks[drunk].move(xDist, yDist)"
   ]
  },
  {
   "cell_type": "markdown",
   "metadata": {},
   "source": [
    "- this is mutable, because the dict is being changed when location moves"
   ]
  },
  {
   "cell_type": "markdown",
   "metadata": {},
   "source": [
    "## Simulating a single walk"
   ]
  },
  {
   "cell_type": "code",
   "execution_count": 5,
   "metadata": {},
   "outputs": [],
   "source": [
    "def walk(f, d, numSteps):\n",
    "    \"\"\" Assumes: f a Field, d a Drunk in f, and \n",
    "        numSteps an int >= 0.\n",
    "        Moves d numSteps times; returns the distance\n",
    "        between the final location and the location\n",
    "        at the start of the walk. \"\"\"\n",
    "    start = f.getLoc(d)\n",
    "    for s in range(numSteps):\n",
    "        f.moveDrunk(d)\n",
    "    return start.distFrom(f.getLoc(d))"
   ]
  },
  {
   "cell_type": "markdown",
   "metadata": {},
   "source": [
    "## Simulating multiple walks"
   ]
  },
  {
   "cell_type": "code",
   "execution_count": 6,
   "metadata": {},
   "outputs": [],
   "source": [
    "def simWalks(numSteps, numTrials, dClass):\n",
    "    \"\"\" Assumes numSteps an int >= 0, numTrials an\n",
    "        int > 0, dClass a subclass of Drunk\n",
    "        Simulates numTrials walks of numSteps steps\n",
    "        each. Returns a list of the final distances\n",
    "        for each trial. \"\"\"\n",
    "    Homer = dClass()\n",
    "    origin = Location(0,0)\n",
    "    distances = []\n",
    "    for t in range(numTrials):\n",
    "        f = Field()\n",
    "        f.addDrunk(Homer, origin)\n",
    "        distances.append(round(walk(f, Homer, \n",
    "                                    numTrials), 1))\n",
    "    return distances"
   ]
  },
  {
   "cell_type": "markdown",
   "metadata": {},
   "source": [
    "## Putting it all together"
   ]
  },
  {
   "cell_type": "code",
   "execution_count": 7,
   "metadata": {},
   "outputs": [],
   "source": [
    "def drunkTest(walkLengths, numTrials, dClass):\n",
    "    \"\"\"Assumes walkLengths a sequence of ints >= 0\n",
    "        numTrials an int > 0,\n",
    "        dClass a subclass of Drunk   \n",
    "       For eacn number of steps in walkLengths,\n",
    "        run simWalks with numTrials walks and\n",
    "        prints results\n",
    "        \"\"\"\n",
    "    for numSteps in walkLengths:\n",
    "        distances = simWalks(numSteps, numTrials, \n",
    "                             dClass)\n",
    "        print(dClass.__name__, 'random walk of', \n",
    "              numSteps, 'steps')\n",
    "        print(' Mean =', \n",
    "              round(sum(distances)/len(distances), 4))\n",
    "        print(' Max =', max(distances), \n",
    "             'Min =', min(distances))"
   ]
  },
  {
   "cell_type": "markdown",
   "metadata": {},
   "source": [
    "## Let's try it"
   ]
  },
  {
   "cell_type": "code",
   "execution_count": 8,
   "metadata": {},
   "outputs": [
    {
     "name": "stdout",
     "output_type": "stream",
     "text": [
      "UsualDrunk random walk of 10 steps\n",
      " Mean = 8.917\n",
      " Max = 23.0 Min = 0.0\n",
      "UsualDrunk random walk of 100 steps\n",
      " Mean = 8.703\n",
      " Max = 22.8 Min = 1.4\n",
      "UsualDrunk random walk of 1000 steps\n",
      " Mean = 8.643\n",
      " Max = 24.0 Min = 0.0\n",
      "UsualDrunk random walk of 10000 steps\n",
      " Mean = 9.054\n",
      " Max = 23.4 Min = 0.0\n"
     ]
    }
   ],
   "source": [
    "drunkTest((10, 100, 1000, 10000), 100, UsualDrunk)"
   ]
  },
  {
   "cell_type": "markdown",
   "metadata": {},
   "source": [
    "- how plausible is this?\n",
    "- seems number of steps not affecting average distance"
   ]
  },
  {
   "cell_type": "markdown",
   "metadata": {},
   "source": [
    "## Let's try a sanity check\n",
    "- try on cases where we think we know the answer\n",
    "    - a very important precaution"
   ]
  },
  {
   "cell_type": "markdown",
   "metadata": {},
   "source": [
    "## Sanity Check"
   ]
  },
  {
   "cell_type": "code",
   "execution_count": 9,
   "metadata": {},
   "outputs": [
    {
     "name": "stdout",
     "output_type": "stream",
     "text": [
      "UsualDrunk random walk of 0 steps\n",
      " Mean = 8.439\n",
      " Max = 18.4 Min = 0.0\n",
      "UsualDrunk random walk of 1 steps\n",
      " Mean = 8.968\n",
      " Max = 20.2 Min = 1.4\n",
      "UsualDrunk random walk of 2 steps\n",
      " Mean = 9.287\n",
      " Max = 24.7 Min = 0.0\n"
     ]
    }
   ],
   "source": [
    "drunkTest((0, 1, 2), 100, UsualDrunk)"
   ]
  },
  {
   "cell_type": "markdown",
   "metadata": {},
   "source": [
    "- this seems suspicious... for 0, 1, and 2 steps, we get roughly the same numbers as before\n",
    "- look at code\n",
    "    - what we were appending was:\n",
    "        - distances.append(round(walk(f, Homer, numTrials), 1))\n",
    "    -  bug! we meant to use numSteps, not numTrials.\n",
    "    - so we were getting the same numbers because we were callign *walk* with a constant, namely numTrials (100)"
   ]
  },
  {
   "cell_type": "markdown",
   "metadata": {},
   "source": [
    "## fix the code"
   ]
  },
  {
   "cell_type": "code",
   "execution_count": 10,
   "metadata": {},
   "outputs": [],
   "source": [
    "def simWalks(numSteps, numTrials, dClass):\n",
    "    \"\"\" Assumes numSteps an int >= 0, numTrials an\n",
    "        int > 0, dClass a subclass of Drunk\n",
    "        Simulates numTrials walks of numSteps steps\n",
    "        each. Returns a list of the final distances\n",
    "        for each trial. \"\"\"\n",
    "    Homer = dClass()\n",
    "    origin = Location(0,0)\n",
    "    distances = []\n",
    "    for t in range(numTrials):\n",
    "        f = Field()\n",
    "        f.addDrunk(Homer, origin)\n",
    "        distances.append(round(walk(f, Homer, \n",
    "                                    numSteps), 1)) # numSteps, NOT numTrials\n",
    "    return distances\n",
    "\n",
    "def drunkTest(walkLengths, numTrials, dClass):\n",
    "    \"\"\"Assumes walkLengths a sequence of ints >= 0\n",
    "        numTrials an int > 0,\n",
    "        dClass a subclass of Drunk   \n",
    "       For eacn number of steps in walkLengths,\n",
    "        run simWalks with numTrials walks and\n",
    "        prints results\n",
    "        \"\"\"\n",
    "    for numSteps in walkLengths:\n",
    "        distances = simWalks(numSteps, numTrials, \n",
    "                             dClass)\n",
    "        print(dClass.__name__, 'random walk of', \n",
    "              numSteps, 'steps')\n",
    "        print(' Mean =', \n",
    "              round(sum(distances)/len(distances), 4))\n",
    "        print(' Max =', max(distances), \n",
    "             'Min =', min(distances))"
   ]
  },
  {
   "cell_type": "markdown",
   "metadata": {},
   "source": [
    "## Let's try it"
   ]
  },
  {
   "cell_type": "code",
   "execution_count": 11,
   "metadata": {},
   "outputs": [
    {
     "name": "stdout",
     "output_type": "stream",
     "text": [
      "UsualDrunk random walk of 10 steps\n",
      " Mean = 2.921\n",
      " Max = 7.6 Min = 0.0\n",
      "UsualDrunk random walk of 100 steps\n",
      " Mean = 9.659\n",
      " Max = 25.5 Min = 0.0\n",
      "UsualDrunk random walk of 1000 steps\n",
      " Mean = 29.718\n",
      " Max = 75.8 Min = 4.0\n",
      "UsualDrunk random walk of 10000 steps\n",
      " Mean = 81.967\n",
      " Max = 240.2 Min = 13.0\n"
     ]
    }
   ],
   "source": [
    "drunkTest((10, 100, 1000, 10000), 100, UsualDrunk)"
   ]
  },
  {
   "cell_type": "code",
   "execution_count": 12,
   "metadata": {},
   "outputs": [
    {
     "name": "stdout",
     "output_type": "stream",
     "text": [
      "UsualDrunk random walk of 0 steps\n",
      " Mean = 0.0\n",
      " Max = 0.0 Min = 0.0\n",
      "UsualDrunk random walk of 1 steps\n",
      " Mean = 1.0\n",
      " Max = 1.0 Min = 1.0\n",
      "UsualDrunk random walk of 2 steps\n",
      " Mean = 1.152\n",
      " Max = 2.0 Min = 0.0\n"
     ]
    }
   ],
   "source": [
    "# sanity check\n",
    "drunkTest((0, 1, 2), 100, UsualDrunk)"
   ]
  },
  {
   "cell_type": "markdown",
   "metadata": {},
   "source": [
    "- makes more sense! \n",
    "- doesn't mean simulation is necessarily right, but we at least passed sanity check"
   ]
  },
  {
   "cell_type": "markdown",
   "metadata": {},
   "source": [
    "## and the Masochistic Drunk?"
   ]
  },
  {
   "cell_type": "code",
   "execution_count": 14,
   "metadata": {},
   "outputs": [],
   "source": [
    "def simAll(drunkKinds, walkLengths, numTrials):\n",
    "    for dClass in drunkKinds:\n",
    "        drunkTest(walkLengths, numTrials, dClass)"
   ]
  },
  {
   "cell_type": "code",
   "execution_count": 15,
   "metadata": {},
   "outputs": [
    {
     "name": "stdout",
     "output_type": "stream",
     "text": [
      "UsualDrunk random walk of 1000 steps\n",
      " Mean = 26.828\n",
      " Max = 66.3 Min = 4.2\n",
      "UsualDrunk random walk of 10000 steps\n",
      " Mean = 90.073\n",
      " Max = 210.6 Min = 7.2\n",
      "MasochisticDrunk random walk of 1000 steps\n",
      " Mean = 58.425\n",
      " Max = 133.3 Min = 6.7\n",
      "MasochisticDrunk random walk of 10000 steps\n",
      " Mean = 515.575\n",
      " Max = 694.6 Min = 377.7\n"
     ]
    }
   ],
   "source": [
    "random.seed(0)\n",
    "simAll((UsualDrunk, MasochisticDrunk), (1000, 10000), 100)"
   ]
  },
  {
   "cell_type": "markdown",
   "metadata": {},
   "source": [
    "- masochistic drunk seems to be making considerably more progress than the usual drunk\n",
    "    - bias is affecting average distances\n",
    "    - why?"
   ]
  },
  {
   "cell_type": "markdown",
   "metadata": {},
   "source": [
    "## Visualizing the trend\n",
    "- simulate walks of multiple lengths for each kind of drunk\n",
    "- plot distance at end of each length walk for each kind of drunk"
   ]
  },
  {
   "cell_type": "markdown",
   "metadata": {},
   "source": [
    "## Pylab\n",
    "- **NumPy** adds vectors, matrices, and many high-level mathematical functions\n",
    "- **SciPy** adds mathematical classes and functions useful to scientists\n",
    "- **MatPlotLib** adds an object-oriented API for plotting\n",
    "- **PyLab** combines the other libraries to provide a MATLAB-like interface"
   ]
  },
  {
   "cell_type": "markdown",
   "metadata": {},
   "source": [
    "## plot\n",
    "- the first two arguments to *pylab.plot* must be sequences of the same length\n",
    "- first argument gives x-coordinates\n",
    "- second argument gives y-coordinates\n",
    "- many optional arguments\n",
    "- points plotted in order. In default style, as each point is plotted, a line is drawn connecting it to the previous point"
   ]
  },
  {
   "cell_type": "markdown",
   "metadata": {},
   "source": [
    "## Example"
   ]
  },
  {
   "cell_type": "code",
   "execution_count": 17,
   "metadata": {},
   "outputs": [
    {
     "data": {
      "text/plain": [
       "<matplotlib.legend.Legend at 0x22534c2dd08>"
      ]
     },
     "execution_count": 17,
     "metadata": {},
     "output_type": "execute_result"
    },
    {
     "data": {
      "image/png": "[encoded data removed]",
      "text/plain": [
       "<Figure size 432x288 with 1 Axes>"
      ]
     },
     "metadata": {
      "needs_background": "light"
     },
     "output_type": "display_data"
    }
   ],
   "source": [
    "import pylab\n",
    "\n",
    "xVals = [1, 2, 3, 4]\n",
    "yVals1 = [1, 2, 3, 4]\n",
    "pylab.plot(xVals, yVals1, 'b-', label='first')\n",
    "yVals2 = [1, 7, 3, 5]\n",
    "pylab.plot(xVals, yVals2, 'r--', label='second')\n",
    "pylab.legend()"
   ]
  },
  {
   "cell_type": "markdown",
   "metadata": {},
   "source": [
    "## Details and many more examples\n",
    "- assigned reading\n",
    "- video of Prof. Grimson's lecture from 6.00x.1\n",
    "- code for this lecture\n",
    "- matplotlib.org/api/pyplot_summary.html\n",
    "- www.scipy.org/Plotting_Tutorial"
   ]
  },
  {
   "cell_type": "markdown",
   "metadata": {},
   "source": [
    "## Distance Trends"
   ]
  },
  {
   "cell_type": "code",
   "execution_count": 18,
   "metadata": {},
   "outputs": [],
   "source": [
    "class styleIterator(object):\n",
    "    def __init__(self, styles):\n",
    "        self.index = 0\n",
    "        self.styles = styles\n",
    "\n",
    "    def nextStyle(self):\n",
    "        result = self.styles[self.index]\n",
    "        if self.index == len(self.styles) - 1:\n",
    "            self.index = 0\n",
    "        else:\n",
    "            self.index += 1\n",
    "        return result"
   ]
  },
  {
   "cell_type": "code",
   "execution_count": 19,
   "metadata": {},
   "outputs": [],
   "source": [
    "def simDrunk(numTrials, dClass, walkLengths):\n",
    "    meanDistances = []\n",
    "    for numSteps in walkLengths:\n",
    "        print('Starting simulation of',\n",
    "              numSteps, 'steps')\n",
    "        trials = simWalks(numSteps, numTrials, dClass)\n",
    "        mean = sum(trials)/len(trials)\n",
    "        meanDistances.append(mean)\n",
    "    return meanDistances\n",
    "\n",
    "def simAll(drunkKinds, walkLengths, numTrials):\n",
    "    styleChoice = styleIterator(('m-', 'b--', 'g-.'))\n",
    "    for dClass in drunkKinds:\n",
    "        curStyle = styleChoice.nextStyle()\n",
    "        print('Starting simulation of', dClass.__name__)\n",
    "        means = simDrunk(numTrials, dClass, walkLengths)\n",
    "        pylab.plot(walkLengths, means, curStyle,\n",
    "                   label = dClass.__name__)\n",
    "    pylab.title('Mean Distance from Origin ('\n",
    "                + str(numTrials) + ' trials)')\n",
    "    pylab.xlabel('Number of Steps')\n",
    "    pylab.ylabel('Distance from Origin')\n",
    "    pylab.legend(loc = 'best')"
   ]
  },
  {
   "cell_type": "code",
   "execution_count": 28,
   "metadata": {},
   "outputs": [
    {
     "name": "stdout",
     "output_type": "stream",
     "text": [
      "Starting simulation of UsualDrunk\n",
      "Starting simulation of 10 steps\n",
      "Starting simulation of 100 steps\n",
      "Starting simulation of 1000 steps\n",
      "Starting simulation of 10000 steps\n",
      "Starting simulation of MasochisticDrunk\n",
      "Starting simulation of 10 steps\n",
      "Starting simulation of 100 steps\n",
      "Starting simulation of 1000 steps\n",
      "Starting simulation of 10000 steps\n"
     ]
    },
    {
     "data": {
      "image/png": "[encoded data removed]",
      "text/plain": [
       "<Figure size 432x288 with 1 Axes>"
      ]
     },
     "metadata": {
      "needs_background": "light"
     },
     "output_type": "display_data"
    }
   ],
   "source": [
    "random.seed(0)\n",
    "simAll((UsualDrunk, MasochisticDrunk), (10, 100, 1000, 10000), 1000)"
   ]
  },
  {
   "cell_type": "markdown",
   "metadata": {},
   "source": [
    "## Ending Locations"
   ]
  },
  {
   "cell_type": "code",
   "execution_count": 20,
   "metadata": {},
   "outputs": [],
   "source": [
    "def getFinalLocs(numSteps, numTrials, dClass):\n",
    "    locs = []\n",
    "    d = dClass()\n",
    "    for t in range(numTrials):\n",
    "        f = OddField()\n",
    "        f.addDrunk(d, Location(0, 0))\n",
    "        for s in range(numSteps):\n",
    "            f.moveDrunk(d)\n",
    "        locs.append(f.getLoc(d))\n",
    "    return locs\n",
    "\n",
    "def plotLocs(drunkKinds, numSteps, numTrials):\n",
    "    styleChoice = styleIterator(('k+', 'r^', 'mo'))\n",
    "    for dClass in drunkKinds:\n",
    "        locs = getFinalLocs(numSteps, numTrials, dClass)\n",
    "        xVals, yVals = [], []\n",
    "        for loc in locs:\n",
    "            xVals.append(loc.getX())\n",
    "            yVals.append(loc.getY())\n",
    "        xVals = pylab.array(xVals)\n",
    "        yVals = pylab.array(yVals)\n",
    "        meanX = sum(abs(xVals))/len(xVals)\n",
    "        meanY = sum(abs(yVals))/len(yVals)\n",
    "        curStyle = styleChoice.nextStyle()\n",
    "        pylab.plot(xVals, yVals, curStyle,\n",
    "                      label = dClass.__name__ +\\\n",
    "                      ' mean abs dist = <'\n",
    "                      + str(meanX) + ', ' + str(meanY) + '>')\n",
    "    pylab.title('Location at End of Walks ('\n",
    "                + str(numSteps) + ' steps)')\n",
    "    pylab.ylim(-1000, 1000)\n",
    "    pylab.xlim(-1000, 1000)\n",
    "    pylab.xlabel('Steps East/West of Origin')\n",
    "    pylab.ylabel('Steps North/South of Origin')\n",
    "    pylab.legend(loc = 'lower center')"
   ]
  },
  {
   "cell_type": "code",
   "execution_count": 24,
   "metadata": {},
   "outputs": [
    {
     "data": {
      "image/png": "[encoded data removed]",
      "text/plain": [
       "<Figure size 432x288 with 1 Axes>"
      ]
     },
     "metadata": {
      "needs_background": "light"
     },
     "output_type": "display_data"
    }
   ],
   "source": [
    "random.seed(0)\n",
    "plotLocs((UsualDrunk, MasochisticDrunk), 10000, 1000)"
   ]
  },
  {
   "cell_type": "markdown",
   "metadata": {},
   "source": [
    "## Fields with wormholes"
   ]
  },
  {
   "cell_type": "code",
   "execution_count": 23,
   "metadata": {},
   "outputs": [],
   "source": [
    "# subclass of field\n",
    "class OddField(Field):\n",
    "    def __init__(self, numHoles = 1000,\n",
    "                 xRange = 100, yRange = 100):\n",
    "        Field.__init__(self)\n",
    "        self.wormholes = {}\n",
    "        for w in range(numHoles):\n",
    "            x = random.randint(-xRange, xRange)\n",
    "            y = random.randint(-yRange, yRange)\n",
    "            newX = random.randint(-xRange, xRange)\n",
    "            newY = random.randint(-yRange, yRange)\n",
    "            newLoc = Location(newX, newY)\n",
    "            self.wormholes[(x, y)] = newLoc\n",
    "\n",
    "    def moveDrunk(self, drunk):\n",
    "        Field.moveDrunk(self, drunk)\n",
    "        x = self.drunks[drunk].getX()\n",
    "        y = self.drunks[drunk].getY()\n",
    "        if (x, y) in self.wormholes:\n",
    "            self.drunks[drunk] = self.wormholes[(x, y)]"
   ]
  },
  {
   "cell_type": "code",
   "execution_count": 25,
   "metadata": {},
   "outputs": [],
   "source": [
    "#TraceWalk using oddField          \n",
    "def traceWalk(fieldKinds, numSteps):\n",
    "    styleChoice = styleIterator(('b+', 'r^', 'ko'))\n",
    "    for fClass in fieldKinds:\n",
    "        d = UsualDrunk()\n",
    "        f = fClass()\n",
    "        f.addDrunk(d, Location(0, 0))\n",
    "        locs = []\n",
    "        for s in range(numSteps):\n",
    "            f.moveDrunk(d)\n",
    "            locs.append(f.getLoc(d))\n",
    "        xVals, yVals = [], []\n",
    "        for loc in locs:\n",
    "            xVals.append(loc.getX())\n",
    "            yVals.append(loc.getY())\n",
    "        curStyle = styleChoice.nextStyle()\n",
    "        pylab.plot(xVals, yVals, curStyle,\n",
    "                   label = fClass.__name__)\n",
    "    pylab.title('Spots Visited on Walk ('\n",
    "                + str(numSteps) + ' steps)')\n",
    "    pylab.xlabel('Steps East/West of Origin')\n",
    "    pylab.ylabel('Steps North/South of Origin')\n",
    "    pylab.legend(loc = 'best')"
   ]
  },
  {
   "cell_type": "markdown",
   "metadata": {},
   "source": [
    "## Spots reached during one walk"
   ]
  },
  {
   "cell_type": "code",
   "execution_count": 26,
   "metadata": {},
   "outputs": [
    {
     "data": {
      "image/png": "[encoded data removed]",
      "text/plain": [
       "<Figure size 432x288 with 1 Axes>"
      ]
     },
     "metadata": {
      "needs_background": "light"
     },
     "output_type": "display_data"
    }
   ],
   "source": [
    "random.seed(0)\n",
    "traceWalk((Field, OddField), 500)"
   ]
  },
  {
   "cell_type": "markdown",
   "metadata": {},
   "source": [
    "## Summary\n",
    "- point is not the simulation themselves, but how we built them\n",
    "- started by defining classes\n",
    "- build functions corresponding to\n",
    "    - one trial, multiple trials, result reporting\n",
    "- made series of incremental changes to simulation so that we could investigate different questions\n",
    "    - get simple version working first\n",
    "    - did a sanity check!\n",
    "    - elaborate a step at a time\n",
    "- showed how to use plots to get insights"
   ]
  },
  {
   "cell_type": "code",
   "execution_count": null,
   "metadata": {},
   "outputs": [],
   "source": []
  }
 ],
 "metadata": {
  "kernelspec": {
   "display_name": "Python 3",
   "language": "python",
   "name": "python3"
  },
  "language_info": {
   "codemirror_mode": {
    "name": "ipython",
    "version": 3
   },
   "file_extension": ".py",
   "mimetype": "text/x-python",
   "name": "python",
   "nbconvert_exporter": "python",
   "pygments_lexer": "ipython3",
   "version": "3.7.6"
  }
 },
 "nbformat": 4,
 "nbformat_minor": 4
}
