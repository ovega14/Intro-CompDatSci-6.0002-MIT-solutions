{
 "cells": [
  {
   "cell_type": "markdown",
   "metadata": {},
   "source": [
    "# 6.0002 Lecture 2: Optimization Problems"
   ]
  },
  {
   "cell_type": "markdown",
   "metadata": {},
   "source": [
    "**Speaker:** Prof. John Guttag"
   ]
  },
  {
   "cell_type": "markdown",
   "metadata": {},
   "source": [
    "## The Pros and Cons of Greedy\n",
    "- easy to implement\n",
    "- computationally efficient\n",
    "    - $O(n\\log{n})$\n",
    "- but does not always yield the best solution\n",
    "    - doesn't solve the **optimization problem**\n",
    "    - don't even know how good the approximation is"
   ]
  },
  {
   "cell_type": "markdown",
   "metadata": {},
   "source": [
    "## Brute Force Algorithm\n",
    "- 1.) enumerate all possible combinations of items\n",
    "- 2.) remove all of the combinations whose total units exceeds the allowed weight\n",
    "- 3.) from the remaining combinations, choose any one whose value is largest\n",
    "    - (in case there are ties)"
   ]
  },
  {
   "cell_type": "markdown",
   "metadata": {},
   "source": [
    "## Search Tree implementation\n",
    "- the tree is built top down starting with the root\n",
    "- the first element is selected from the still to be considered items\n",
    "    - If there is room for that item in the knapsack, a node is constructed that reflects the consequence of choosing to take that item. By convention, we draw that as the left child\n",
    "    - We also explore the consequences of not taking that item. This is the right child\n",
    "- the process is then applied **recursively** to non-leaf children\n",
    "- finally, chose a node with the highest value that meets constraints"
   ]
  },
  {
   "cell_type": "markdown",
   "metadata": {},
   "source": [
    "## A search tree enumerates possibilities\n",
    "- left-first, depth-first enumeration\n",
    "    - take is left, don't take is right\n",
    "- once you have all outcomes, compute the value of each to find optimal one"
   ]
  },
  {
   "cell_type": "markdown",
   "metadata": {},
   "source": [
    "## Computational complexity\n",
    "- time based on total number of nodes generated\n",
    "- number of levels is number of items to choose from\n",
    "- number of nodes at level $i$ is $2^i$\n",
    "- so, if there are $n$ items, the number of nodes is $\\sum_{i=0}^n 2^i$\n",
    "    - i.e. $O(2^n + 1)$\n",
    "- an obvious optimization: don't explore parts of tree that violate constraint (e.g. too many calories)\n",
    "    - doesn't change complexity\n",
    "- does this mean that brute force is never useful?\n",
    "    - let's give it a try"
   ]
  },
  {
   "cell_type": "markdown",
   "metadata": {},
   "source": [
    "## Header for Decision Tree implementation"
   ]
  },
  {
   "cell_type": "code",
   "execution_count": 1,
   "metadata": {},
   "outputs": [],
   "source": [
    "def maxVal(toConsider, avail):\n",
    "    \"\"\" Assumes toConsider a list of items, \n",
    "            avail a weight\n",
    "        Returns a tuple of the total value of a \n",
    "            solution to 0/1 knapsack problem and\n",
    "            the items of that solution\"\"\""
   ]
  },
  {
   "cell_type": "markdown",
   "metadata": {},
   "source": [
    "- toConsider: those items that nodes higher up in the tree (corresponding to earlier calls in the recursive call stack) have not yet considered\n",
    "- avail: the amount of space still available"
   ]
  },
  {
   "cell_type": "code",
   "execution_count": 4,
   "metadata": {},
   "outputs": [],
   "source": [
    "# code from last time for food objects and menus\n",
    "class Food(object):\n",
    "    def __init__(self, n, v, w):\n",
    "        self.name = n\n",
    "        self.value = v\n",
    "        self.calories = w\n",
    "    def getValue(self):\n",
    "        return self.value\n",
    "    def getCost(self):\n",
    "        return self.calories\n",
    "    def density(self):\n",
    "        return self.getValue()/self.getCost()\n",
    "    def __str__(self):\n",
    "        return self.name + ': <' + str(self.value)\\\n",
    "                 + ', ' + str(self.calories) + '>'\n",
    "\n",
    "def buildMenu(names, values, calories):\n",
    "    menu = []\n",
    "    for i in range(len(values)):\n",
    "        menu.append(Food(names[i], values[i],\n",
    "                          calories[i]))\n",
    "    return menu"
   ]
  },
  {
   "cell_type": "code",
   "execution_count": 8,
   "metadata": {},
   "outputs": [],
   "source": [
    "def maxVal(toConsider, avail):\n",
    "    \"\"\" Assumes toConsider a list of items, \n",
    "            avail a weight\n",
    "        Returns a tuple of the total value of a \n",
    "            solution to 0/1 knapsack problem and\n",
    "            the items of that solution\"\"\"\n",
    "    if toConsider == [] or avail == 0:\n",
    "        result = (0, ())\n",
    "    elif toConsider[0].getCost() > avail: # (don't take item that goes over bound)\n",
    "        # explore right branch only\n",
    "        result = maxVal(toConsider[1:], avail)\n",
    "    else:\n",
    "        nextItem = toConsider[0]\n",
    "        \n",
    "        # explore left branch\n",
    "        withVal, withToTake = maxVal(toConsider[1:], avail-nextItem.getCost())\n",
    "        withVal += nextItem.getValue()\n",
    "        \n",
    "        # explore right branch\n",
    "        withoutVal, withoutToTake = maxVal(toConsider[1:], avail)\n",
    "        \n",
    "        # choose better branch\n",
    "        if withVal > withoutVal:\n",
    "            result = (withVal, withToTake + (nextItem,))\n",
    "        else:\n",
    "            result = (withoutVal, withoutToTake)\n",
    "    return result"
   ]
  },
  {
   "cell_type": "markdown",
   "metadata": {},
   "source": [
    "- does not actually build search tree\n",
    "- local variable *result* records best solution found so far"
   ]
  },
  {
   "cell_type": "markdown",
   "metadata": {},
   "source": [
    "## Try on example from lecture 1"
   ]
  },
  {
   "cell_type": "code",
   "execution_count": 9,
   "metadata": {},
   "outputs": [
    {
     "name": "stdout",
     "output_type": "stream",
     "text": [
      "Use search tree to allocate 750 calories\n",
      "Total value of items taken = 353\n",
      "    cola: <79, 150>\n",
      "    pizza: <95, 258>\n",
      "    beer: <90, 154>\n",
      "    wine: <89, 123>\n"
     ]
    }
   ],
   "source": [
    "# test the above implementation\n",
    "def testMaxVal(foods, maxUnits, printItems = True):\n",
    "    print('Use search tree to allocate', maxUnits,\n",
    "          'calories')\n",
    "    val, taken = maxVal(foods, maxUnits)\n",
    "    print('Total value of items taken =', val)\n",
    "    if printItems:\n",
    "        for item in taken:\n",
    "            print('   ', item)\n",
    "\n",
    "names = ['wine', 'beer', 'pizza', 'burger', 'fries',\n",
    "         'cola', 'apple', 'donut', 'cake']\n",
    "values = [89,90,95,100,90,79,50,10]\n",
    "calories = [123,154,258,354,365,150,95,195]\n",
    "foods = buildMenu(names, values, calories)\n",
    "\n",
    "testMaxVal(foods, 750)"
   ]
  },
  {
   "cell_type": "markdown",
   "metadata": {},
   "source": [
    "## Search Tree worked great\n",
    "- gave us a better answer\n",
    "- finished quickly\n",
    "- but $2^8$ is not a large number\n",
    "    - we should look at what happens when we have a more extensive menu from which to choose"
   ]
  },
  {
   "cell_type": "markdown",
   "metadata": {},
   "source": [
    "## Code to try larger examples"
   ]
  },
  {
   "cell_type": "code",
   "execution_count": 11,
   "metadata": {},
   "outputs": [],
   "source": [
    "import random\n",
    "\n",
    "def buildLargeMenu(numItems, maxVal, maxCost):\n",
    "    items = []\n",
    "    for i in range(numItems):\n",
    "        items.append(Food(str(i), \n",
    "                         random.randint(1, maxVal), \n",
    "                         random.randint(1, maxCost)))\n",
    "    return items\n",
    "\n",
    "#for numItems in (5, 10, 15, 20, 25, 30, 35, 40, 45, 50, 55, 60):\n",
    "#    items = buildLargeMenu(numItems, 90, 250)\n",
    "#    testMaxVal(items, 750, False)\n",
    "\n",
    "# takes a long time to run..."
   ]
  },
  {
   "cell_type": "markdown",
   "metadata": {},
   "source": [
    "## Is it hopeless?\n",
    "- in theory, yes\n",
    "- in practice, no!\n",
    "- **Dynamic programming** to the rescue"
   ]
  },
  {
   "cell_type": "markdown",
   "metadata": {},
   "source": [
    "## The history of Dynamic programming\n",
    "- Richard Bellman, from the Rand Corporation, chose the name to avoid sounding pejorative "
   ]
  },
  {
   "cell_type": "markdown",
   "metadata": {},
   "source": [
    "## Recursive Implementation of Fibonacci"
   ]
  },
  {
   "cell_type": "code",
   "execution_count": 13,
   "metadata": {},
   "outputs": [],
   "source": [
    "def fib(n):\n",
    "    if n == 0 or n == 1:\n",
    "        return 1\n",
    "    else:\n",
    "        return fib(n-1) + fib(n-2)\n",
    "    \n",
    "#fib(120)\n",
    "# will take a long time to run..."
   ]
  },
  {
   "cell_type": "markdown",
   "metadata": {},
   "source": [
    "## Clearly a bad idea to repeat work\n",
    "- trade a time for space\n",
    "- create a table to record what we've done\n",
    "    - before computing fib(x), check if value of fib(x) already stored in table\n",
    "        - if so, look it up\n",
    "        - if not, compute it and then add it to table\n",
    "    - called **memoization**\n",
    "        - i.e. create a memo, and store it in the memo"
   ]
  },
  {
   "cell_type": "markdown",
   "metadata": {},
   "source": [
    "## Using a memo to compute Fibonacci"
   ]
  },
  {
   "cell_type": "code",
   "execution_count": 14,
   "metadata": {},
   "outputs": [],
   "source": [
    "def fastFib(n, memo={}):\n",
    "    \"\"\" Assumes n is an int >= 0, memo used only by recursive calls\n",
    "        Returns Fibonacci of n\"\"\"\n",
    "    if n == 0 or n == 1:\n",
    "        return 1\n",
    "    try:\n",
    "        return memo[n]\n",
    "    except KeyError: # not to handle errors, but just as flow control\n",
    "        result = fastFib(n-1, memo) + fastFib(n-2, memo)\n",
    "        memo[n] = result\n",
    "        return result"
   ]
  },
  {
   "cell_type": "code",
   "execution_count": 15,
   "metadata": {},
   "outputs": [
    {
     "data": {
      "text/plain": [
       "8670007398507948658051921"
      ]
     },
     "execution_count": 15,
     "metadata": {},
     "output_type": "execute_result"
    }
   ],
   "source": [
    "fastFib(120) # runs very quickly!"
   ]
  },
  {
   "cell_type": "markdown",
   "metadata": {},
   "source": [
    "## When does it work?\n",
    "- **Optimal substructure:** a globally optimal solution can be found by combining optimal solutions to local subproblems\n",
    "    - for x > 1, fib(x) = fib(x-1) + fib(x-2)\n",
    "- **Overlapping subproblems:** finding an optimal solution involves solving the same problem multiple times\n",
    "    - compute fib(x) many times"
   ]
  },
  {
   "cell_type": "markdown",
   "metadata": {},
   "source": [
    "## What about 0/1 Knapsack problem?\n",
    "- do these conditions hold?\n",
    "    - optimal substructure?\n",
    "        - yes: choosing winner between left branch and right branch\n",
    "    - overlapping subproblems?\n",
    "        - no: none of the nodes are identical...?\n",
    "        - could work if some of the items are identical"
   ]
  },
  {
   "cell_type": "markdown",
   "metadata": {},
   "source": [
    "## What problem is solved at each node?\n",
    "- given remaining weight, maximize value by choosing among remaining items\n",
    "- set of previously chosen items, or even value of that set, doesn't matter!\n",
    "    - so we actually can have overlapping subproblems"
   ]
  },
  {
   "cell_type": "markdown",
   "metadata": {},
   "source": [
    "## Modify maxVal to use a Memo\n",
    "- add memo as a third argument\n",
    "    - def fastMaxVal(toConsider, avail, memo={})\n",
    "- key of memo is tuple\n",
    "    - (items left to be considered, available weight)\n",
    "    - items left to be considered represented by len(toConsider)\n",
    "- first thing body of function does is check whether the optimal choice of items given the available weight is already in the memo\n",
    "- last thing body of function does is update the memo"
   ]
  },
  {
   "cell_type": "markdown",
   "metadata": {},
   "source": [
    "## How can the performance be so good?\n",
    "- problem is inherently exponential\n",
    "- have we overturned the laws of the universe?\n",
    "- is dynamic programming a miracle?\n",
    "- no, but computational complexity can be subtle\n",
    "- running time of fastMaxVal is governed by the number of distinct pairs, <toConsider, avail>\n",
    "    - number of possible values of toConsider bounded by len(items)\n",
    "    - possible values of avail a bit harder to charactierize\n",
    "        - bounded by number of distinct sums of weights\n",
    "    - covered in more detail in assigned reading"
   ]
  },
  {
   "cell_type": "markdown",
   "metadata": {},
   "source": [
    "## Summary of lectures 1-2\n",
    "- many problems of practical importance can be formulated as **optimization problems**\n",
    "- **greedy algorithms** often provide adequate (though not necessarily optimal) solutions\n",
    "- finding an optimal solution is usually **exponentially hard**\n",
    "- but **dynamic programing** often yields good performance for a subclass of optimization problems-- those with optimal substructure and overlapping subproblems\n",
    "    - solutions always correct\n",
    "    - fast under the right circumstances"
   ]
  },
  {
   "cell_type": "code",
   "execution_count": null,
   "metadata": {},
   "outputs": [],
   "source": []
  }
 ],
 "metadata": {
  "kernelspec": {
   "display_name": "Python 3",
   "language": "python",
   "name": "python3"
  },
  "language_info": {
   "codemirror_mode": {
    "name": "ipython",
    "version": 3
   },
   "file_extension": ".py",
   "mimetype": "text/x-python",
   "name": "python",
   "nbconvert_exporter": "python",
   "pygments_lexer": "ipython3",
   "version": "3.7.6"
  }
 },
 "nbformat": 4,
 "nbformat_minor": 4
}
