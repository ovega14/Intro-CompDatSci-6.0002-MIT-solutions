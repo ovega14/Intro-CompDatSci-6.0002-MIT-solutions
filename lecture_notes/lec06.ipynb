{
 "cells": [
  {
   "cell_type": "markdown",
   "metadata": {},
   "source": [
    "# 6.0002 Lecture 6: Monte Carlo Simulation"
   ]
  },
  {
   "cell_type": "markdown",
   "metadata": {},
   "source": [
    "**Speaker:** Prof. John Guttag"
   ]
  },
  {
   "cell_type": "markdown",
   "metadata": {},
   "source": [
    "## A Little History\n",
    "- Stanislav Ulam, recovering from an illness, was playing a lot of solitaire\n",
    "- Tried to figure out probability of winning, and failed\n",
    "    - combinatorics were too complicated\n",
    "- Thought about playing lots of hands and counting the number of wins, but decided it would take years\n",
    "- Asked Von Neumann if he could build a program to simulate many hands on ENIAC"
   ]
  },
  {
   "cell_type": "markdown",
   "metadata": {},
   "source": [
    "## Monte Carlo Simulation\n",
    "- a method of estimating the value of an unknown quantity using the principles of inferential statistics\n",
    "- **inferential statistics**\n",
    "    - *population*: a set of examples\n",
    "    - *sample*: a proper subset of a population\n",
    "    - key fact: a **random sample** (sample chosen at random from population) tends to exhibit the same properties as the population from which it is drawn\n",
    "- exactly what we did with random walks"
   ]
  },
  {
   "cell_type": "markdown",
   "metadata": {},
   "source": [
    "## An example\n",
    "- given a single coin, estimate the fraction of heads you would get if you flipped the coin an infinite number of times\n",
    "- consider one flip\n",
    "    - how confident would you be about answering 1.0?"
   ]
  },
  {
   "cell_type": "markdown",
   "metadata": {},
   "source": [
    "## Flipping a coin twice\n",
    "- do you think that the next flip will come up heads?"
   ]
  },
  {
   "cell_type": "markdown",
   "metadata": {},
   "source": [
    "## Flipping a coin 100 times\n",
    "- imagine all 100 flips came up as heads\n",
    "    - now do you think that the next flip will come up heads?\n",
    "- what if 52 of them came up heads?\n",
    "    - do you think that the probability of the next flip coming up heads is 52/100?\n",
    "    - given the data, it's your best estimate\n",
    "    - but confidence should be low"
   ]
  },
  {
   "cell_type": "markdown",
   "metadata": {},
   "source": [
    "## Why the difference in confidence?\n",
    "- confidence in our estimate depends upon two things:\n",
    "    - **size** of sample (e.g. 100 vs 2)\n",
    "    - **variance** of sample (e.g. all heads versus 52 heads)\n",
    "- as the variance grows, we need larger samples to have the same degree of confidence"
   ]
  },
  {
   "cell_type": "markdown",
   "metadata": {},
   "source": [
    "## Roulette\n",
    "- no need to simulate, since answers obvious\n",
    "- allows us to compare simulation results to actual probabilities"
   ]
  },
  {
   "cell_type": "markdown",
   "metadata": {},
   "source": [
    "## Class definition"
   ]
  },
  {
   "cell_type": "code",
   "execution_count": 6,
   "metadata": {},
   "outputs": [],
   "source": [
    "import random\n",
    "\n",
    "class FairRoulette():\n",
    "    def __init__(self):\n",
    "        self.pockets = []\n",
    "        for i in range(1, 37):\n",
    "            self.pockets.append(i)\n",
    "        self.ball = None\n",
    "        self.pocketOdds = len(self.pockets) - 1\n",
    "    def spin(self):\n",
    "        self.ball = random.choice(self.pockets)\n",
    "    def betPocket(self, pocket, amt):\n",
    "        if str(pocket) == str(self.ball):\n",
    "            return amt*self.pocketOdds\n",
    "        else:\n",
    "            return -amt\n",
    "    def __str__(self):\n",
    "        return 'Fair Roulette'"
   ]
  },
  {
   "cell_type": "markdown",
   "metadata": {},
   "source": [
    "## Monte Carlo simulation"
   ]
  },
  {
   "cell_type": "code",
   "execution_count": 9,
   "metadata": {},
   "outputs": [],
   "source": [
    "def playRoulette(game, numSpins, pocket, bet, toPrint=False):\n",
    "    totPocket = 0\n",
    "    for i in range(numSpins):\n",
    "        game.spin()\n",
    "        totPocket += game.betPocket(pocket, bet)\n",
    "    if toPrint:\n",
    "        print(numSpins, 'spins of', game)\n",
    "        print('Expected return betting', pocket, '=',\\\n",
    "              str(100*totPocket/numSpins) + '%\\n')\n",
    "    return (totPocket/numSpins)"
   ]
  },
  {
   "cell_type": "code",
   "execution_count": 10,
   "metadata": {},
   "outputs": [
    {
     "name": "stdout",
     "output_type": "stream",
     "text": [
      "100 spins of Fair Roulette\n",
      "Expected return betting 2 = -64.0%\n",
      "\n",
      "100 spins of Fair Roulette\n",
      "Expected return betting 2 = 8.0%\n",
      "\n",
      "100 spins of Fair Roulette\n",
      "Expected return betting 2 = 116.0%\n",
      "\n",
      "1000000 spins of Fair Roulette\n",
      "Expected return betting 2 = -0.4924%\n",
      "\n",
      "1000000 spins of Fair Roulette\n",
      "Expected return betting 2 = -0.3268%\n",
      "\n",
      "1000000 spins of Fair Roulette\n",
      "Expected return betting 2 = 0.692%\n",
      "\n"
     ]
    }
   ],
   "source": [
    "game = FairRoulette()\n",
    "for numSpins in (100, 1000000):\n",
    "    for i in range(3):\n",
    "        playRoulette(game, numSpins, 2, 1, True)"
   ]
  },
  {
   "cell_type": "markdown",
   "metadata": {},
   "source": [
    "- for the simulations with 1,000,000 spins, we see that there is much less variance among the results"
   ]
  },
  {
   "cell_type": "markdown",
   "metadata": {},
   "source": [
    "## Law of Large Numbers\n",
    "- in repeated independent tests with the same actual probability $p$ of a particular outcome in each test, the chance that the fraction of times that outcome occurs differs from $p$ converges to 0 as the number of trials goes to infinity\n",
    "    - does this imply that if deviations from expected behavior occur, these deviations are likely to be **evened out** by opposite deviations in the future?"
   ]
  },
  {
   "cell_type": "markdown",
   "metadata": {},
   "source": [
    "## Gambler's Fallacy\n",
    "- \"On August 18, 1913, at the casino in Monte Carlo, black came up a rrecord twenty-six times in succession [in roulette]. ...[There] was a near-panicky rush to bet on red, beginning about the time black had come up a phenomenal fifteen times.\" -- Huff and Geis, *How to Take a Chance*\n",
    "- probability of 26 consecutive reds:\n",
    "    - 1/67,108,865\n",
    "- probability of consecutive reds when previous 25 rolls were red:\n",
    "    - 1/2\n",
    "    - because independent events"
   ]
  },
  {
   "cell_type": "markdown",
   "metadata": {},
   "source": [
    "## Regression to the Mean\n",
    "- following an extreme random event, the next random event is likely to be less extreme\n",
    "- if you spin a fair roulette wheel 10 times and get 100% reds, that is an extreme event (probability 1/1024)\n",
    "    - gambler's fallacy: if we spin it another 10 times, it needs to even out, i.e. we should get more blacks than usual to make up for excess reds\n",
    "    - regression to mean is different\n",
    "- it is likely that in the next 10 spins, you will get fewer than 10 reds\n",
    "    - but the expected number is only 5\n",
    "- so if you look at the average of the 20 spins, it will be closer to the expected mean of 50% reds than to the 100% of the first 10 spins"
   ]
  },
  {
   "cell_type": "markdown",
   "metadata": {},
   "source": [
    "## Casinos not in the business of being fair\n",
    "- Casinos in Europe often sneak in one green slot into the red and black slots of being roulette\n",
    "    - index slots from zero rather than from 1\n",
    "    - so you don't get a full payoff\n",
    "- some casinos in the US even have two green slots\n",
    "    - zero, and double zero"
   ]
  },
  {
   "cell_type": "markdown",
   "metadata": {},
   "source": [
    "## Two Subclasses of Roulette"
   ]
  },
  {
   "cell_type": "code",
   "execution_count": 12,
   "metadata": {},
   "outputs": [],
   "source": [
    "# pockets now include 0\n",
    "class EuRoulette(FairRoulette):\n",
    "    def __init__(self):\n",
    "        FairRoulette.__init__(self)\n",
    "        self.pockets.append('0')\n",
    "    def __str__(self):\n",
    "        return 'European Roulette'"
   ]
  },
  {
   "cell_type": "code",
   "execution_count": 13,
   "metadata": {},
   "outputs": [],
   "source": [
    "# pockets now include 0 and 00\n",
    "class AmRoulette(EuRoulette):\n",
    "    def __init__(self):\n",
    "        EuRoulette.__init__(self)\n",
    "        self.pockets.append('00')\n",
    "    def __str__(self):\n",
    "        return 'American Roulette'"
   ]
  },
  {
   "cell_type": "markdown",
   "metadata": {},
   "source": [
    "## Comparing the games"
   ]
  },
  {
   "cell_type": "code",
   "execution_count": 16,
   "metadata": {},
   "outputs": [],
   "source": [
    "# helper code\n",
    "def findPocketReturn(game, numTrials, trialSize, toPrint):\n",
    "    pocketReturns = []\n",
    "    for t in range(numTrials):\n",
    "        trialVals = playRoulette(game, trialSize, 2, 1, toPrint)\n",
    "        pocketReturns.append(trialVals)\n",
    "    return pocketReturns"
   ]
  },
  {
   "cell_type": "code",
   "execution_count": 17,
   "metadata": {},
   "outputs": [],
   "source": [
    "# helper code\n",
    "def getMeanAndStd(X):\n",
    "    mean = sum(X)/float(len(X))\n",
    "    tot = 0.0\n",
    "    for x in X:\n",
    "        tot += (x - mean)**2\n",
    "    std = (tot/len(X))**0.5\n",
    "    return mean, std"
   ]
  },
  {
   "cell_type": "code",
   "execution_count": 18,
   "metadata": {},
   "outputs": [
    {
     "name": "stdout",
     "output_type": "stream",
     "text": [
      "\n",
      "Simulate 20 trials of 1000 spins each\n",
      "Exp. return for Fair Roulette = 6.56%\n",
      "Exp. return for European Roulette = -2.26%\n",
      "Exp. return for American Roulette = -8.92%\n",
      "\n",
      "Simulate 20 trials of 10000 spins each\n",
      "Exp. return for Fair Roulette = -1.234%\n",
      "Exp. return for European Roulette = -4.168%\n",
      "Exp. return for American Roulette = -5.752%\n",
      "\n",
      "Simulate 20 trials of 100000 spins each\n",
      "Exp. return for Fair Roulette = 0.8144%\n",
      "Exp. return for European Roulette = -2.6506%\n",
      "Exp. return for American Roulette = -5.113%\n",
      "\n",
      "Simulate 20 trials of 1000000 spins each\n",
      "Exp. return for Fair Roulette = -0.0723%\n",
      "Exp. return for European Roulette = -2.7329%\n",
      "Exp. return for American Roulette = -5.212%\n"
     ]
    }
   ],
   "source": [
    "# simulation\n",
    "random.seed(0)\n",
    "numTrials = 20\n",
    "resultDict = {}\n",
    "games = (FairRoulette, EuRoulette, AmRoulette)\n",
    "for G in games:\n",
    "    resultDict[G().__str__()] = []\n",
    "for numSpins in (1000, 10000, 100000, 1000000):\n",
    "    print('\\nSimulate', numTrials, 'trials of',\n",
    "          numSpins, 'spins each')\n",
    "    for G in games:\n",
    "        pocketReturns = findPocketReturn(G(), numTrials,\n",
    "                                         numSpins, False)\n",
    "        expReturn = 100*sum(pocketReturns)/len(pocketReturns)\n",
    "        print('Exp. return for', G(), '=',\n",
    "             str(round(expReturn, 4)) + '%')"
   ]
  },
  {
   "cell_type": "markdown",
   "metadata": {},
   "source": [
    "- clealry, fair roulette seems to be a better bet in all cases"
   ]
  },
  {
   "cell_type": "markdown",
   "metadata": {},
   "source": [
    "## Sampling space of possible outcomes\n",
    "- never possible to guarantee perfect accuracy through sampling\n",
    "- not to say that an estimate is not precisely correct\n",
    "- key question:\n",
    "    - how many samples do we need to look at before we can have justified confidence on our answer?\n",
    "- depends upon variability in underlying distribution"
   ]
  },
  {
   "cell_type": "markdown",
   "metadata": {},
   "source": [
    "## Quantifying variation in data\n",
    "- Let $X$ be a list of data items (observations)\n",
    "- **variance**: $$Var(X) = \\frac{\\sum_{x\\in X}(x-\\mu)^2}{|X|}$$\n",
    "- **standard deviation**: $$\\sigma(X)=\\sqrt{\\frac{1}{|X|}\\sum_{x\\in X}(x-\\mu)^2}$$\n",
    "- standard deviation $\\sigma(X)$ simply the square root of the variance\n",
    "- outliers can have a big effect\n",
    "- standard deviation should always be considered relative to the mean $\\mu$ of $X$"
   ]
  },
  {
   "cell_type": "markdown",
   "metadata": {},
   "source": [
    "## For those who prefer code"
   ]
  },
  {
   "cell_type": "code",
   "execution_count": 19,
   "metadata": {},
   "outputs": [],
   "source": [
    "def getMeanAndStd(X):\n",
    "    \"\"\"Assumes X is a list of numbers\n",
    "        Returns the mean and standard \n",
    "        deviation of X\"\"\"\n",
    "    mean = sum(X)/float(len(X))\n",
    "    tot = 0.0\n",
    "    for x in X:\n",
    "        tot += (x - mean)**2\n",
    "    std = (tot/len(X))**0.5\n",
    "    return mean, std"
   ]
  },
  {
   "cell_type": "markdown",
   "metadata": {},
   "source": [
    "## Confidence Levels and Intervals\n",
    "- instead of estimating an unknown parameter by a single value (e.g. the mean of a set of trials), a confidence interval provides a range that is likely to contain the unknown value and a confidence that the unknown value lies within that range\n",
    "- \"The return on betting a pocket 10k times in European roulette is -3.3%. The margin of error is +/- 3.5% with a 95% level of confidence.\"\n",
    "    - what does this mean?\n",
    "- If I were to conduct an infinite number of trials of 10k bets each, \n",
    "     - my expected average return would be -3.3%\n",
    "     - my return would be roughly within [-6.8%,+0.2%] 95% of the time"
   ]
  },
  {
   "cell_type": "markdown",
   "metadata": {},
   "source": [
    "## Empirical Rule\n",
    "- under some assumptions discussed later\n",
    "    - ~68% of data within 1 standard deviation of mean\n",
    "    - ~95% of data within 1.96 standard deviations of mean\n",
    "    - ~99.7% of data within 3 standard deviations of mean"
   ]
  },
  {
   "cell_type": "markdown",
   "metadata": {},
   "source": [
    "## Apply Empirical Rule"
   ]
  },
  {
   "cell_type": "code",
   "execution_count": 21,
   "metadata": {},
   "outputs": [
    {
     "name": "stdout",
     "output_type": "stream",
     "text": [
      "\n",
      "Simulate betting a pocket for 20 trials of 100 spins each\n",
      "Exp. return for Fair Roulette = -2.8%, +/- 116.156% with 95% confidence\n",
      "Exp. return for European Roulette = -28.0%, +/- 77.295% with 95% confidence\n",
      "Exp. return for American Roulette = -11.8%, +/- 147.122% with 95% confidence\n",
      "\n",
      "Simulate betting a pocket for 20 trials of 1000 spins each\n",
      "Exp. return for Fair Roulette = -4.24%, +/- 34.234% with 95% confidence\n",
      "Exp. return for European Roulette = -2.8%, +/- 28.136% with 95% confidence\n",
      "Exp. return for American Roulette = 4.22%, +/- 35.03% with 95% confidence\n",
      "\n",
      "Simulate betting a pocket for 20 trials of 10000 spins each\n",
      "Exp. return for Fair Roulette = 1.358%, +/- 11.674% with 95% confidence\n",
      "Exp. return for European Roulette = -1.414%, +/- 14.178% with 95% confidence\n",
      "Exp. return for American Roulette = -6.742%, +/- 6.269% with 95% confidence\n"
     ]
    }
   ],
   "source": [
    "resultDict = {}\n",
    "games = (FairRoulette, EuRoulette, AmRoulette)\n",
    "\n",
    "for G in games:\n",
    "    resultDict[G().__str__()] = []\n",
    "for numSpins in (100, 1000, 10000):\n",
    "    print('\\nSimulate betting a pocket for', numTrials, \n",
    "          'trials of', numSpins, 'spins each')\n",
    "    for G in games:\n",
    "        pocketReturns = findPocketReturn(G(), 20,\n",
    "                                         numSpins, False)\n",
    "        mean, std = getMeanAndStd(pocketReturns)\n",
    "        resultDict[G().__str__()].append((numSpins,\n",
    "                                          100*mean,\n",
    "                                          100*std))\n",
    "        # print the confidence intervals\n",
    "        print('Exp. return for', G(), '=',\n",
    "              str(round(100*mean, 3))\n",
    "              + '%,', '+/- ' + str(round(100*1.96*std,3))\n",
    "              + '% with 95% confidence')"
   ]
  },
  {
   "cell_type": "markdown",
   "metadata": {},
   "source": [
    "## Assumptions underlying Empirical Rule\n",
    "- the mean estimation error is zero\n",
    "    - \"just as likely to guess high as to guess low\"\n",
    "    - different in a lab experiment, where technique may cause a bias in results towards one direction\n",
    "    - so we are assuming no bias in our errors\n",
    "- the distribution of the errors in the estimate is normal (Gaussian)"
   ]
  },
  {
   "cell_type": "markdown",
   "metadata": {},
   "source": [
    "## Defining Distributions\n",
    "- use a probability distribution\n",
    "- captures notion of relative frequency with which a random variable takes on certain values\n",
    "    - discrete random variables drawn from a finite set of values\n",
    "    - continuous random variables drawn from reals between two numbers (i.e. infinite set of values)\n",
    "- for discrete variable, simply list the probability of each value\n",
    "    - must add up to 1\n",
    "- continuous case trickier; can't just enumerate probability for each of an (uncountably) infinite set of values"
   ]
  },
  {
   "cell_type": "markdown",
   "metadata": {},
   "source": [
    "## PDF's\n",
    "- distributions defined by *probability density functions* (PDFs)\n",
    "- probability of a random variable lying between two values\n",
    "- defines a curve where the values on the x-axis lie between minimum and maximum value of the variable\n",
    "- area under curve between two points, is probability of example falling within that range"
   ]
  },
  {
   "cell_type": "markdown",
   "metadata": {},
   "source": [
    "## Normal Distributions\n",
    "- pdf for a Gaussian: $$f(x) = \\frac{1}{\\sigma \\sqrt{2\\pi}}e^{\\frac{(x-\\mu)^2}{2\\sigma^2}}$$\n",
    "- definition of the number $e$: $$e = \\sum_{n=0}^{\\infty}\\frac{1}{n!}$$\n",
    "- the probability that random variable $X$ lies within an interval $[a,b]\\subset \\mathbb{R}$:\n",
    "$$\\mathbb{P}(a \\leq X \\leq b) = \\int_{a}^b f(x) \\textrm{d}x$$\n",
    "- ~68% of data within one standard deviation of mean:\n",
    "$$0.68 = \\int_{-1}^{1}f(x)\\textrm{d}x$$\n",
    "- ~95% of data within 1.96 standard deviations of mean:\n",
    "$$0.95 = \\int_{-1.96}^{1.96} f(x) \\textrm{d}x$$"
   ]
  },
  {
   "cell_type": "code",
   "execution_count": null,
   "metadata": {},
   "outputs": [],
   "source": []
  }
 ],
 "metadata": {
  "kernelspec": {
   "display_name": "Python 3",
   "language": "python",
   "name": "python3"
  },
  "language_info": {
   "codemirror_mode": {
    "name": "ipython",
    "version": 3
   },
   "file_extension": ".py",
   "mimetype": "text/x-python",
   "name": "python",
   "nbconvert_exporter": "python",
   "pygments_lexer": "ipython3",
   "version": "3.7.6"
  }
 },
 "nbformat": 4,
 "nbformat_minor": 4
}
