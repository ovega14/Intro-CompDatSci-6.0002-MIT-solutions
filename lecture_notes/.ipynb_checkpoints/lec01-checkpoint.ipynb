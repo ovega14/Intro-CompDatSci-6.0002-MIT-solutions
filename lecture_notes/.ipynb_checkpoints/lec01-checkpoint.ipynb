{
 "cells": [
  {
   "cell_type": "markdown",
   "metadata": {},
   "source": [
    "# 6.0002 Lecture 1: Introduction and Optimization Problems"
   ]
  },
  {
   "cell_type": "markdown",
   "metadata": {},
   "source": [
    "**Speaker:** Prof. John Guttag"
   ]
  },
  {
   "cell_type": "markdown",
   "metadata": {},
   "source": [
    "## 6.0002 prerequisites\n",
    "- experience writing object-oriented programs in Python\n",
    "    - preferably Python 3.5\n",
    "- familiarity with concepts of computational complexity\n",
    "- familiarity with some simple algorithms\n",
    "- 6.0001 sufficient"
   ]
  },
  {
   "cell_type": "markdown",
   "metadata": {},
   "source": [
    "## How does it compare to 6.0001?\n",
    "- programming assignments a bit easier\n",
    "    - focus more on the problem to be solved than on programming\n",
    "- lecture content more abstract\n",
    "- lectures will be a bit faster paced\n",
    "- less about learning to program, more about dipping your toe into data science"
   ]
  },
  {
   "cell_type": "markdown",
   "metadata": {},
   "source": [
    "## Honing your program skills\n",
    "- a few additional bits of Python\n",
    "- software engineering\n",
    "- using packages\n",
    "- How do you get to Carnegie Hall?\n",
    "    - practice, practice, practice"
   ]
  },
  {
   "cell_type": "markdown",
   "metadata": {},
   "source": [
    "## Computational Models\n",
    "- using computation to help understand the world in which we live\n",
    "- experimental devices that help us to understand something that has happened or to predict the future\n",
    "- **optimization models**\n",
    "    - will focus on this today\n",
    "- statistical models\n",
    "- simulation models"
   ]
  },
  {
   "cell_type": "markdown",
   "metadata": {},
   "source": [
    "## What is an optimization model?\n",
    "- start with an objective function that is to be maximized or minimized, e.g. \n",
    "    - minimize time spent traveling from New York to Boston\n",
    "- a set of constraints (possibly empty) that must be honored, e.g.\n",
    "    - cannot spend more than $100\n",
    "    - must be in Boston before 5:00 PM"
   ]
  },
  {
   "cell_type": "markdown",
   "metadata": {},
   "source": [
    "## Knapsack problem\n",
    "- you have limited strength, so there is a maximum weight knapsack that you can carry\n",
    "- you would like to take more stuff than you can carry\n",
    "- how do you choose which stuff to take and which to leave behind?\n",
    "    - want to maximize value of items you take\n",
    "    - constrained by weight\n",
    "- two variants\n",
    "    - 0/1 knapsack problem --> you either take the object or you don't (all or none)\n",
    "        - more complicated, because decisions affect future decisions\n",
    "    - continuous or fractional knapsack problem --> can take pieces of items\n",
    "        - boring; easy to solve: fill up with most valuable thing until run out of it or space, then just fill in remaining space with fractions of whatever the next most valuable thing is (solve via **Greedy algorithm**)"
   ]
  },
  {
   "cell_type": "markdown",
   "metadata": {},
   "source": [
    "## 0/1 Knapsack Problem, formalized\n",
    "- each item is represented by a pair, <value, weight>\n",
    "- the knapsack can accommodate itemrs with a total weight of no more than w\n",
    "- a vector, L, of length n, represents the set of available items\n",
    "    - each element of the vector is an item\n",
    "- a vector, V, of length n, is used to indicate whether or not items are taken\n",
    "    - if V[i] = 1, item I[i] is taken\n",
    "    - if V[i] = 0, item I[i] is not taken\n",
    "- find a V that maximizes $$\\sum_{i=0}^{n-1}V[i]\\cdot I[i]\\textrm{.value}$$\n",
    "- subject to the constraint that $$\\sum_{i=0}^{n-1}V[i] \\cdot I[i]\\textrm{.weight} \\leq w$$"
   ]
  },
  {
   "cell_type": "markdown",
   "metadata": {},
   "source": [
    "## Brute force algorithm\n",
    "- 1.) enumerate all possible combinations of items.\n",
    "    - that is to say, generate all subsets of the set of items, called the **power set**, $\\mathcal{P}(L)$\n",
    "- 2.) remove all of the combinations whose total units exceed the allowed weight\n",
    "- 3.) from the remaining combinations, choose any one whose value is largest"
   ]
  },
  {
   "cell_type": "markdown",
   "metadata": {},
   "source": [
    "## Often not practical\n",
    "- how big is power set?\n",
    "- How many possible different values can V have?\n",
    "    - as many different binary numbers as can be represented in n bits\n",
    "- for example, if there are 100 items to choose from, the power set is of size:\n",
    "    - 1,267,650,600,228,229,401,496,703,205,376"
   ]
  },
  {
   "cell_type": "markdown",
   "metadata": {},
   "source": [
    "## Are we just being stupid?\n",
    "- alas, no\n",
    "- 0/1 knapsack problem is inherently exponential\n",
    "- but don't despair..."
   ]
  },
  {
   "cell_type": "markdown",
   "metadata": {},
   "source": [
    "## Greedy Algorithm a practical alternative\n",
    "- while knapsack not full\n",
    "    - put \"best\" available item in knapsack\n",
    "- but what does best mean?\n",
    "    - most valuable\n",
    "    - least expensive\n",
    "    - highest value/units"
   ]
  },
  {
   "cell_type": "markdown",
   "metadata": {},
   "source": [
    "## An example\n",
    "- you are about to sit down to a meal\n",
    "- you know how much you value different foods\n",
    "    - e.g. you like donuts more than apples\n",
    "- but you have a calorie budget, e.g. you don't want to consume more than 750 calories\n",
    "- choosing what to eat is a knapsack problem\n",
    "- given a menu of items, let's look at a program that we can use to decide what to order"
   ]
  },
  {
   "cell_type": "code",
   "execution_count": 1,
   "metadata": {},
   "outputs": [],
   "source": [
    "class Food(object):\n",
    "    def __init__(self, n, v, w):\n",
    "        self.name = n\n",
    "        self.value = v\n",
    "        self.calories = w\n",
    "    \n",
    "    def getValue(self):\n",
    "        return self.value\n",
    "    \n",
    "    def getCost(self):\n",
    "        return self.calories\n",
    "    \n",
    "    def density(self):\n",
    "        return self.getValue()/self.getCost()\n",
    "    \n",
    "    def __str__(self):\n",
    "        return self.name + ': <' + str(self.value)\\\n",
    "                + ', ' + str(self.calories) + '>'"
   ]
  },
  {
   "cell_type": "code",
   "execution_count": 3,
   "metadata": {},
   "outputs": [],
   "source": [
    "def buildMenu(names, values, calories):\n",
    "    \"\"\" names, values, calories lists of same length.\n",
    "        name a list of strings\n",
    "        values and calories lists of numbers\n",
    "        returns list of Foods\"\"\"\n",
    "    menu = []\n",
    "    for i in range(len(values)):\n",
    "        menu.append(Food(names[i], values[i], calories[i]))\n",
    "        \n",
    "    return menu"
   ]
  },
  {
   "cell_type": "markdown",
   "metadata": {},
   "source": [
    "## Implementation of flexible greedy"
   ]
  },
  {
   "cell_type": "code",
   "execution_count": 13,
   "metadata": {},
   "outputs": [],
   "source": [
    "def greedy(items, maxCost, keyFunction):\n",
    "    \"\"\"Assumes items a list, maxCost >= 0,\n",
    "        keyFunction maps elements of items to numbers\"\"\"\n",
    "    itemsCopy = sorted(items, key=keyFunction, reverse=True) # sorted() makes a copy of the list\n",
    "    result = []\n",
    "    totalValue, totalCost = 0.0, 0.0\n",
    "    \n",
    "    for i in range(len(itemsCopy)): # go through loop n times, once for each item\n",
    "        if (totalCost+itemsCopy[i].getCost()) <= maxCost:\n",
    "            result.append(itemsCopy[i])\n",
    "            totalCost += itemsCopy[i].getCost()\n",
    "            totalValue += itemsCopy[i].getValue()\n",
    "    \n",
    "    return (result, totalValue) # O(nlogn) (pretty efficient)"
   ]
  },
  {
   "cell_type": "markdown",
   "metadata": {},
   "source": [
    "## Using greedy"
   ]
  },
  {
   "cell_type": "code",
   "execution_count": 22,
   "metadata": {},
   "outputs": [],
   "source": [
    "def testGreedy(items, constraint, keyFunction):\n",
    "    taken, val = greedy(items, constraint, keyFunction)\n",
    "    print('Total value of items taken =', val)\n",
    "    for item in taken:\n",
    "        print('   ', item)"
   ]
  },
  {
   "cell_type": "code",
   "execution_count": 23,
   "metadata": {},
   "outputs": [],
   "source": [
    "def testGreedys(foods, maxUnits):\n",
    "    print('Use greedy by value to allocate', maxUnits, 'calories')\n",
    "    testGreedy(foods, maxUnits, Food.getValue)\n",
    "    print('\\nUse greedy by cost to allocate', maxUnits, 'calories')\n",
    "    # lambda is used to create an anonymous function (has no name)\n",
    "    testGreedy(foods, maxUnits, lambda x: 1/Food.getCost(x)) # invert cost to prefer cheaper items\n",
    "    # x has to be of type Food\n",
    "    print('\\nUse greedy by density to allocate', maxUnits, 'calories')\n",
    "    testGreedy(foods, maxUnits, Food.density)"
   ]
  },
  {
   "cell_type": "markdown",
   "metadata": {},
   "source": [
    "## lambda\n",
    "- used to create anonymous functions\n",
    "    - lambda <id_1, id_2, ..., id_n>:<expression>\n",
    "    - returns a function of n arguments\n",
    "- can be very handy, as here\n",
    "- possible to write amazing complicated lambda expressions\n",
    "- **don't** -- use def instead"
   ]
  },
  {
   "cell_type": "code",
   "execution_count": 24,
   "metadata": {},
   "outputs": [
    {
     "name": "stdout",
     "output_type": "stream",
     "text": [
      "Use greedy by value to allocate 750 calories\n",
      "Total value of items taken = 284.0\n",
      "    burger: <100, 354>\n",
      "    pizza: <95, 258>\n",
      "    wine: <89, 123>\n",
      "\n",
      "Use greedy by cost to allocate 750 calories\n",
      "Total value of items taken = 318.0\n",
      "    apple: <50, 95>\n",
      "    wine: <89, 123>\n",
      "    cola: <79, 150>\n",
      "    beer: <90, 154>\n",
      "    donut: <10, 195>\n",
      "\n",
      "Use greedy by density to allocate 750 calories\n",
      "Total value of items taken = 318.0\n",
      "    wine: <89, 123>\n",
      "    beer: <90, 154>\n",
      "    cola: <79, 150>\n",
      "    apple: <50, 95>\n",
      "    donut: <10, 195>\n"
     ]
    }
   ],
   "source": [
    "names = ['wine', 'beer', 'pizza', 'burger', 'fries', 'cola', 'apple', 'donut', 'cake']\n",
    "values = [89, 90, 95, 100, 90, 79, 50, 10]\n",
    "calories = [123, 154, 258, 354, 365, 150, 95, 195]\n",
    "foods = buildMenu(names, values, calories)\n",
    "\n",
    "testGreedys(foods, 750)"
   ]
  },
  {
   "cell_type": "markdown",
   "metadata": {},
   "source": [
    "## why different answers?\n",
    "- sequence of locally \"optimal\" choices don't always yield a globally optimal solution\n",
    "    - greedy algorithms can get you stuck at a local optimum rather than global optimum\n",
    "- is greedy by density always a winner?\n",
    "    - Try testGreedys(foods, 1000)"
   ]
  },
  {
   "cell_type": "code",
   "execution_count": 25,
   "metadata": {},
   "outputs": [
    {
     "name": "stdout",
     "output_type": "stream",
     "text": [
      "Use greedy by value to allocate 1000 calories\n",
      "Total value of items taken = 424.0\n",
      "    burger: <100, 354>\n",
      "    pizza: <95, 258>\n",
      "    beer: <90, 154>\n",
      "    wine: <89, 123>\n",
      "    apple: <50, 95>\n",
      "\n",
      "Use greedy by cost to allocate 1000 calories\n",
      "Total value of items taken = 413.0\n",
      "    apple: <50, 95>\n",
      "    wine: <89, 123>\n",
      "    cola: <79, 150>\n",
      "    beer: <90, 154>\n",
      "    donut: <10, 195>\n",
      "    pizza: <95, 258>\n",
      "\n",
      "Use greedy by density to allocate 1000 calories\n",
      "Total value of items taken = 413.0\n",
      "    wine: <89, 123>\n",
      "    beer: <90, 154>\n",
      "    cola: <79, 150>\n",
      "    apple: <50, 95>\n",
      "    pizza: <95, 258>\n",
      "    donut: <10, 195>\n"
     ]
    }
   ],
   "source": [
    "testGreedys(foods, 1000)"
   ]
  },
  {
   "cell_type": "markdown",
   "metadata": {},
   "source": [
    "## The pros and cons of Greedy\n",
    "- easy to implement\n",
    "- computationally efficient\n",
    "- but does not always yield the best solution\n",
    "    - don't even know how good the approximation is\n",
    "- in the next lecture we'll look at finding truly optimal solutions"
   ]
  },
  {
   "cell_type": "code",
   "execution_count": null,
   "metadata": {},
   "outputs": [],
   "source": []
  }
 ],
 "metadata": {
  "kernelspec": {
   "display_name": "Python 3",
   "language": "python",
   "name": "python3"
  },
  "language_info": {
   "codemirror_mode": {
    "name": "ipython",
    "version": 3
   },
   "file_extension": ".py",
   "mimetype": "text/x-python",
   "name": "python",
   "nbconvert_exporter": "python",
   "pygments_lexer": "ipython3",
   "version": "3.7.6"
  }
 },
 "nbformat": 4,
 "nbformat_minor": 4
}
